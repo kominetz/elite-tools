{
 "cells": [
  {
   "cell_type": "code",
   "execution_count": 1,
   "metadata": {
    "scrolled": true
   },
   "outputs": [
    {
     "name": "stdout",
     "output_type": "stream",
     "text": [
      "['/Users/johnk/Projects/elite-tools/src', '/Users/johnk/Projects/elite-tools/notebooks', '/Users/johnk/opt/anaconda3/lib/python37.zip', '/Users/johnk/opt/anaconda3/lib/python3.7', '/Users/johnk/opt/anaconda3/lib/python3.7/lib-dynload', '', '/Users/johnk/opt/anaconda3/lib/python3.7/site-packages', '/Users/johnk/opt/anaconda3/lib/python3.7/site-packages/aeosa', '/Users/johnk/opt/anaconda3/lib/python3.7/site-packages/IPython/extensions', '/Users/johnk/.ipython']\n",
      "Using existing file \"/var/folders/rs/l00w2v610vg768g7x_97rf600000gn/T/elite-tools/archive-v6-systems_populated.jsonl\" for Feeds.POPULATED_SYSTEMS.\n",
      "# Populated systems loaded:  20628\n"
     ]
    }
   ],
   "source": [
    "import os\n",
    "import sys\n",
    "sys.path.insert(0, '/Users/johnk/Projects/elite-tools/src')\n",
    "print(sys.path)\n",
    "import eddb"
   ]
  },
  {
   "cell_type": "code",
   "execution_count": 8,
   "metadata": {
    "scrolled": true
   },
   "outputs": [
    {
     "name": "stdout",
     "output_type": "stream",
     "text": [
      "Origin: Sol\n",
      "Waypoints: Vega\n",
      "Destination: Sirius\n"
     ]
    }
   ],
   "source": [
    "origin = input(\"Origin: \")\n",
    "waypoints = [wp.strip() for wp in input(\"Waypoints: \").split(',')]\n",
    "destination = input(\"Destination: \")"
   ]
  },
  {
   "cell_type": "code",
   "execution_count": 9,
   "metadata": {
    "scrolled": true
   },
   "outputs": [
    {
     "name": "stdout",
     "output_type": "stream",
     "text": [
      "Sol                          0 ly     0 ly\n",
      "Vega                        26 ly    26 ly\n",
      "Sirius                      34 ly    60 ly\n"
     ]
    },
    {
     "data": {
      "text/plain": [
       "60"
      ]
     },
     "execution_count": 9,
     "metadata": {},
     "output_type": "execute_result"
    }
   ],
   "source": [
    "eddb.resolve_path(eddb.best_path(waypoints, origin, destination), True)"
   ]
  },
  {
   "cell_type": "code",
   "execution_count": null,
   "metadata": {},
   "outputs": [],
   "source": []
  }
 ],
 "metadata": {
  "kernelspec": {
   "display_name": "Python 3",
   "language": "python",
   "name": "python3"
  },
  "language_info": {
   "codemirror_mode": {
    "name": "ipython",
    "version": 3
   },
   "file_extension": ".py",
   "mimetype": "text/x-python",
   "name": "python",
   "nbconvert_exporter": "python",
   "pygments_lexer": "ipython3",
   "version": "3.7.6"
  }
 },
 "nbformat": 4,
 "nbformat_minor": 4
}
