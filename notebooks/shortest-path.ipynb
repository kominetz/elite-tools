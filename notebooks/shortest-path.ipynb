{
 "cells": [
  {
   "cell_type": "code",
   "execution_count": 1,
   "metadata": {
    "scrolled": true
   },
   "outputs": [
    {
     "name": "stdout",
     "output_type": "stream",
     "text": [
      "['C:\\\\Users\\\\komin\\\\Projects\\\\elite-tools\\\\src', 'C:\\\\Users\\\\komin\\\\Projects\\\\elite-tools\\\\notebooks', 'C:\\\\Anaconda3\\\\python37.zip', 'C:\\\\Anaconda3\\\\DLLs', 'C:\\\\Anaconda3\\\\lib', 'C:\\\\Anaconda3', '', 'C:\\\\Anaconda3\\\\lib\\\\site-packages', 'C:\\\\Anaconda3\\\\lib\\\\site-packages\\\\win32', 'C:\\\\Anaconda3\\\\lib\\\\site-packages\\\\win32\\\\lib', 'C:\\\\Anaconda3\\\\lib\\\\site-packages\\\\Pythonwin', 'C:\\\\Anaconda3\\\\lib\\\\site-packages\\\\IPython\\\\extensions', 'C:\\\\Users\\\\komin\\\\.ipython']\n",
      "Downloaded Feeds.POPULATED_SYSTEMS feed as file \"C:\\Users\\komin\\AppData\\Local\\Temp\\elite-tools\\archive-v6-systems_populated.jsonl\".\n",
      "# Populated systems loaded:  20628\n"
     ]
    }
   ],
   "source": [
    "import os\n",
    "import os.path\n",
    "import sys\n",
    "from pathlib import Path\n",
    "sys.path.insert(0, os.path.join(Path.home(), 'Projects', 'elite-tools', 'src'))\n",
    "print(sys.path)\n",
    "import eddb"
   ]
  },
  {
   "cell_type": "code",
   "execution_count": null,
   "metadata": {
    "scrolled": true
   },
   "outputs": [],
   "source": [
    "origin      = input(\"Origin: \")\n",
    "waypoints   = [wp.strip() for wp in input(\"Waypoints: \").split(',')]\n",
    "destination = input(\"Destination: \")"
   ]
  },
  {
   "cell_type": "code",
   "execution_count": 3,
   "metadata": {
    "scrolled": true
   },
   "outputs": [
    {
     "name": "stdout",
     "output_type": "stream",
     "text": [
      "Shinrarta Dezhra             0 ly     0 ly\n",
      "LTT 4487                    15 ly    15 ly\n",
      "Nuenets                     20 ly    35 ly\n",
      "Shinrarta Dezhra             8 ly    43 ly\n"
     ]
    },
    {
     "data": {
      "text/plain": [
       "43"
      ]
     },
     "execution_count": 3,
     "metadata": {},
     "output_type": "execute_result"
    }
   ],
   "source": [
    "eddb.resolve_path(eddb.best_path(waypoints, origin, destination), True)"
   ]
  },
  {
   "cell_type": "code",
   "execution_count": null,
   "metadata": {},
   "outputs": [],
   "source": []
  }
 ],
 "metadata": {
  "kernelspec": {
   "display_name": "Python 3",
   "language": "python",
   "name": "python3"
  },
  "language_info": {
   "codemirror_mode": {
    "name": "ipython",
    "version": 3
   },
   "file_extension": ".py",
   "mimetype": "text/x-python",
   "name": "python",
   "nbconvert_exporter": "python",
   "pygments_lexer": "ipython3",
   "version": "3.7.6"
  }
 },
 "nbformat": 4,
 "nbformat_minor": 4
}
