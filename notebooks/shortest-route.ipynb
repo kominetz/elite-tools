{
 "cells": [
  {
   "cell_type": "code",
   "execution_count": 1,
   "metadata": {
    "scrolled": true
   },
   "outputs": [
    {
     "output_type": "stream",
     "name": "stdout",
     "text": "['C:\\\\Users\\\\komin\\\\Projects\\\\elite-tools\\\\src', 'c:\\\\Users\\\\komin\\\\Projects\\\\elite-tools\\\\notebooks', 'C:\\\\Users\\\\komin\\\\AppData\\\\Local\\\\Temp\\\\f188d4e2-ae46-4393-b40f-b099a5914e1e', 'c:\\\\Users\\\\komin\\\\.vscode\\\\extensions\\\\ms-python.python-2020.4.76186\\\\pythonFiles', 'c:\\\\Users\\\\komin\\\\.vscode\\\\extensions\\\\ms-python.python-2020.4.76186\\\\pythonFiles\\\\lib\\\\python', 'D:\\\\Programs\\\\anaconda3\\\\python37.zip', 'D:\\\\Programs\\\\anaconda3\\\\DLLs', 'D:\\\\Programs\\\\anaconda3\\\\lib', 'D:\\\\Programs\\\\anaconda3', '', 'D:\\\\Programs\\\\anaconda3\\\\lib\\\\site-packages', 'D:\\\\Programs\\\\anaconda3\\\\lib\\\\site-packages\\\\win32', 'D:\\\\Programs\\\\anaconda3\\\\lib\\\\site-packages\\\\win32\\\\lib', 'D:\\\\Programs\\\\anaconda3\\\\lib\\\\site-packages\\\\Pythonwin', 'D:\\\\Programs\\\\anaconda3\\\\lib\\\\site-packages\\\\IPython\\\\extensions', 'C:\\\\Users\\\\komin\\\\.ipython']\nFalse\nUsing existing file \"C:\\Users\\komin\\AppData\\Local\\Temp\\elite-tools\\archive-v6-systems_populated.jsonl\" for Feeds.POPULATED_SYSTEMS.\n# Feeds.POPULATED_SYSTEMS records loaded:  20629\nUsing existing file \"C:\\Users\\komin\\AppData\\Local\\Temp\\elite-tools\\archive-v6-stations.jsonl\" for Feeds.STATIONS.\n# Feeds.STATIONS records loaded:  49452\nUsing existing file \"C:\\Users\\komin\\AppData\\Local\\Temp\\elite-tools\\archive-v6-factions.jsonl\" for Feeds.FACTIONS.\n# Feeds.FACTIONS records loaded:  77093\n"
    }
   ],
   "source": [
    "import sys\n",
    "sys.path.insert(0, '..')\n",
    "import eddb\n",
    "eddb.load_feeds()"
   ]
  },
  {
   "cell_type": "code",
   "execution_count": 2,
   "metadata": {
    "scrolled": true
   },
   "outputs": [],
   "source": [
    "origin = input(\"Origin: \")"
   ]
  },
  {
   "cell_type": "code",
   "execution_count": 3,
   "metadata": {
    "scrolled": true
   },
   "outputs": [],
   "source": [
    "destination = input(\"Destination: \")"
   ]
  },
  {
   "cell_type": "code",
   "execution_count": 4,
   "metadata": {
    "scrolled": true
   },
   "outputs": [],
   "source": [
    "waypoints = [wp.strip() for wp in input(\"Waypoints: \").split(',')]"
   ]
  },
  {
   "cell_type": "code",
   "execution_count": 5,
   "metadata": {
    "scrolled": false
   },
   "outputs": [
    {
     "output_type": "execute_result",
     "data": {
      "text/plain": "    System  Leg (ly)  Route (ly)\n0      Sol       0.0         0.0\n1   Sirius       8.6         8.6\n2  Procyon       5.2        13.8\n3     Vega      33.9        47.7",
      "text/html": "<div>\n<style scoped>\n    .dataframe tbody tr th:only-of-type {\n        vertical-align: middle;\n    }\n\n    .dataframe tbody tr th {\n        vertical-align: top;\n    }\n\n    .dataframe thead th {\n        text-align: right;\n    }\n</style>\n<table border=\"1\" class=\"dataframe\">\n  <thead>\n    <tr style=\"text-align: right;\">\n      <th></th>\n      <th>System</th>\n      <th>Leg (ly)</th>\n      <th>Route (ly)</th>\n    </tr>\n  </thead>\n  <tbody>\n    <tr>\n      <th>0</th>\n      <td>Sol</td>\n      <td>0.0</td>\n      <td>0.0</td>\n    </tr>\n    <tr>\n      <th>1</th>\n      <td>Sirius</td>\n      <td>8.6</td>\n      <td>8.6</td>\n    </tr>\n    <tr>\n      <th>2</th>\n      <td>Procyon</td>\n      <td>5.2</td>\n      <td>13.8</td>\n    </tr>\n    <tr>\n      <th>3</th>\n      <td>Vega</td>\n      <td>33.9</td>\n      <td>47.7</td>\n    </tr>\n  </tbody>\n</table>\n</div>"
     },
     "metadata": {},
     "execution_count": 5
    }
   ],
   "source": [
    "eddb.route_to_dataframe(eddb.best_route(waypoints, origin, destination))"
   ]
  }
 ],
 "metadata": {
  "kernelspec": {
   "display_name": "Python 3",
   "language": "python",
   "name": "python3"
  },
  "language_info": {
   "codemirror_mode": {
    "name": "ipython",
    "version": 3
   },
   "file_extension": ".py",
   "mimetype": "text/x-python",
   "name": "python",
   "nbconvert_exporter": "python",
   "pygments_lexer": "ipython3",
   "version": "3.7.6-final"
  }
 },
 "nbformat": 4,
 "nbformat_minor": 4
}