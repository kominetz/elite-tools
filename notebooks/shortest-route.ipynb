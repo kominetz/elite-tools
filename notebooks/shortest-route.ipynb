{
 "cells": [
  {
   "cell_type": "code",
   "execution_count": 1,
   "metadata": {
    "scrolled": true
   },
   "outputs": [
    {
     "name": "stdout",
     "output_type": "stream",
     "text": [
      "['C:\\\\Users\\\\komin\\\\Projects\\\\elite-tools\\\\src', 'C:\\\\Users\\\\komin\\\\Projects\\\\elite-tools\\\\notebooks', 'C:\\\\Anaconda3\\\\python37.zip', 'C:\\\\Anaconda3\\\\DLLs', 'C:\\\\Anaconda3\\\\lib', 'C:\\\\Anaconda3', '', 'C:\\\\Anaconda3\\\\lib\\\\site-packages', 'C:\\\\Anaconda3\\\\lib\\\\site-packages\\\\win32', 'C:\\\\Anaconda3\\\\lib\\\\site-packages\\\\win32\\\\lib', 'C:\\\\Anaconda3\\\\lib\\\\site-packages\\\\Pythonwin', 'C:\\\\Anaconda3\\\\lib\\\\site-packages\\\\IPython\\\\extensions', 'C:\\\\Users\\\\komin\\\\.ipython']\n",
      "Using existing file \"C:\\Users\\komin\\AppData\\Local\\Temp\\elite-tools\\archive-v6-systems_populated.jsonl\" for Feeds.POPULATED_SYSTEMS.\n",
      "# Populated systems loaded:  20629\n"
     ]
    }
   ],
   "source": [
    "import os\n",
    "import os.path\n",
    "import sys\n",
    "from pathlib import Path\n",
    "sys.path.insert(0, os.path.join(Path.home(), 'Projects', 'elite-tools', 'src'))\n",
    "print(sys.path)\n",
    "import eddb"
   ]
  },
  {
   "cell_type": "code",
   "execution_count": 6,
   "metadata": {
    "scrolled": true
   },
   "outputs": [
    {
     "name": "stdout",
     "output_type": "stream",
     "text": [
      "Origin: Negrito\n"
     ]
    }
   ],
   "source": [
    "origin = input(\"Origin: \")"
   ]
  },
  {
   "cell_type": "code",
   "execution_count": 7,
   "metadata": {
    "scrolled": true
   },
   "outputs": [
    {
     "name": "stdout",
     "output_type": "stream",
     "text": [
      "Destination: HR 1064\n"
     ]
    }
   ],
   "source": [
    "destination = input(\"Destination: \")"
   ]
  },
  {
   "cell_type": "code",
   "execution_count": 8,
   "metadata": {
    "scrolled": true
   },
   "outputs": [
    {
     "name": "stdout",
     "output_type": "stream",
     "text": [
      "Waypoints: Morana, Exioce, Dvorsi\n"
     ]
    }
   ],
   "source": [
    "waypoints = [wp.strip() for wp in input(\"Waypoints: \").split(',')]"
   ]
  },
  {
   "cell_type": "code",
   "execution_count": 9,
   "metadata": {
    "scrolled": false
   },
   "outputs": [
    {
     "data": {
      "text/html": [
       "<div>\n",
       "<style scoped>\n",
       "    .dataframe tbody tr th:only-of-type {\n",
       "        vertical-align: middle;\n",
       "    }\n",
       "\n",
       "    .dataframe tbody tr th {\n",
       "        vertical-align: top;\n",
       "    }\n",
       "\n",
       "    .dataframe thead th {\n",
       "        text-align: right;\n",
       "    }\n",
       "</style>\n",
       "<table border=\"1\" class=\"dataframe\">\n",
       "  <thead>\n",
       "    <tr style=\"text-align: right;\">\n",
       "      <th></th>\n",
       "      <th>System</th>\n",
       "      <th>Leg (ly)</th>\n",
       "      <th>Route (ly)</th>\n",
       "    </tr>\n",
       "  </thead>\n",
       "  <tbody>\n",
       "    <tr>\n",
       "      <th>0</th>\n",
       "      <td>Negrito</td>\n",
       "      <td>0.0</td>\n",
       "      <td>0.0</td>\n",
       "    </tr>\n",
       "    <tr>\n",
       "      <th>1</th>\n",
       "      <td>Dvorsi</td>\n",
       "      <td>14.4</td>\n",
       "      <td>14.4</td>\n",
       "    </tr>\n",
       "    <tr>\n",
       "      <th>2</th>\n",
       "      <td>Exioce</td>\n",
       "      <td>10.2</td>\n",
       "      <td>24.6</td>\n",
       "    </tr>\n",
       "    <tr>\n",
       "      <th>3</th>\n",
       "      <td>Morana</td>\n",
       "      <td>15.8</td>\n",
       "      <td>40.4</td>\n",
       "    </tr>\n",
       "    <tr>\n",
       "      <th>4</th>\n",
       "      <td>HR 1064</td>\n",
       "      <td>16.7</td>\n",
       "      <td>57.1</td>\n",
       "    </tr>\n",
       "  </tbody>\n",
       "</table>\n",
       "</div>"
      ],
      "text/plain": [
       "    System  Leg (ly)  Route (ly)\n",
       "0  Negrito       0.0         0.0\n",
       "1   Dvorsi      14.4        14.4\n",
       "2   Exioce      10.2        24.6\n",
       "3   Morana      15.8        40.4\n",
       "4  HR 1064      16.7        57.1"
      ]
     },
     "execution_count": 9,
     "metadata": {},
     "output_type": "execute_result"
    }
   ],
   "source": [
    "eddb.route_to_dataframe(eddb.best_route(waypoints, origin, destination))"
   ]
  }
 ],
 "metadata": {
  "kernelspec": {
   "display_name": "Python 3",
   "language": "python",
   "name": "python3"
  },
  "language_info": {
   "codemirror_mode": {
    "name": "ipython",
    "version": 3
   },
   "file_extension": ".py",
   "mimetype": "text/x-python",
   "name": "python",
   "nbconvert_exporter": "python",
   "pygments_lexer": "ipython3",
   "version": "3.7.6"
  }
 },
 "nbformat": 4,
 "nbformat_minor": 4
}
