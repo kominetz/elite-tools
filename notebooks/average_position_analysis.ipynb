{
 "cells": [
  {
   "cell_type": "code",
   "execution_count": 1,
   "metadata": {
    "scrolled": true
   },
   "outputs": [],
   "source": [
    "import os\n",
    "import os.path\n",
    "import sys\n",
    "from pathlib import Path\n"
   ]
  },
  {
   "cell_type": "code",
   "execution_count": 2,
   "metadata": {},
   "outputs": [
    {
     "name": "stdout",
     "output_type": "stream",
     "text": [
      "['C:\\\\Users\\\\komin\\\\Projects\\\\elite-tools\\\\src', 'C:\\\\Users\\\\komin\\\\Projects\\\\elite-tools\\\\notebooks', 'C:\\\\Anaconda3\\\\python37.zip', 'C:\\\\Anaconda3\\\\DLLs', 'C:\\\\Anaconda3\\\\lib', 'C:\\\\Anaconda3', '', 'C:\\\\Anaconda3\\\\lib\\\\site-packages', 'C:\\\\Anaconda3\\\\lib\\\\site-packages\\\\win32', 'C:\\\\Anaconda3\\\\lib\\\\site-packages\\\\win32\\\\lib', 'C:\\\\Anaconda3\\\\lib\\\\site-packages\\\\Pythonwin', 'C:\\\\Anaconda3\\\\lib\\\\site-packages\\\\IPython\\\\extensions', 'C:\\\\Users\\\\komin\\\\.ipython']\n"
     ]
    }
   ],
   "source": [
    "sys.path.insert(0, os.path.join(Path.home(), 'Projects', 'elite-tools', 'src'))\n",
    "print(sys.path)"
   ]
  },
  {
   "cell_type": "code",
   "execution_count": 3,
   "metadata": {},
   "outputs": [
    {
     "name": "stdout",
     "output_type": "stream",
     "text": [
      "Using existing file \"C:\\Users\\komin\\AppData\\Local\\Temp\\elite-tools\\archive-v6-systems_populated.jsonl\" for Feeds.POPULATED_SYSTEMS.\n",
      "# Populated systems loaded:  20629\n"
     ]
    }
   ],
   "source": [
    "import eddb"
   ]
  },
  {
   "cell_type": "code",
   "execution_count": 4,
   "metadata": {
    "scrolled": true
   },
   "outputs": [
    {
     "name": "stdout",
     "output_type": "stream",
     "text": [
      "Systems: Sol, Alioth, Achenar, Shinrarta Dezhra\n"
     ]
    }
   ],
   "source": [
    "systems = input(\"Systems: \")\n",
    "origin = eddb.average_position(systems)"
   ]
  },
  {
   "cell_type": "code",
   "execution_count": 9,
   "metadata": {},
   "outputs": [
    {
     "name": "stdout",
     "output_type": "stream",
     "text": [
      "Radius (ly): 0\n"
     ]
    },
    {
     "data": {
      "text/plain": [
       "122.0"
      ]
     },
     "execution_count": 9,
     "metadata": {},
     "output_type": "execute_result"
    }
   ],
   "source": [
    "radius = int(input(\"Radius (ly): \"))\n",
    "if radius == 0:\n",
    "    radius = max(eddb.distance(origin, s.strip()) for s in systems.split(\",\"))\n",
    "radius"
   ]
  },
  {
   "cell_type": "code",
   "execution_count": 6,
   "metadata": {
    "scrolled": true
   },
   "outputs": [],
   "source": [
    "nearby_systems = eddb.query_nearby_systems(origin, radius)"
   ]
  },
  {
   "cell_type": "code",
   "execution_count": 7,
   "metadata": {},
   "outputs": [
    {
     "data": {
      "text/html": [
       "<div>\n",
       "<style scoped>\n",
       "    .dataframe tbody tr th:only-of-type {\n",
       "        vertical-align: middle;\n",
       "    }\n",
       "\n",
       "    .dataframe tbody tr th {\n",
       "        vertical-align: top;\n",
       "    }\n",
       "\n",
       "    .dataframe thead th {\n",
       "        text-align: right;\n",
       "    }\n",
       "</style>\n",
       "<table border=\"1\" class=\"dataframe\">\n",
       "  <thead>\n",
       "    <tr style=\"text-align: right;\">\n",
       "      <th></th>\n",
       "      <th>Name</th>\n",
       "      <th>Distance</th>\n",
       "      <th>Population</th>\n",
       "      <th>Government</th>\n",
       "      <th>Allegiance</th>\n",
       "      <th>Security Level</th>\n",
       "      <th>Primary Economy</th>\n",
       "      <th>Controlling Faction</th>\n",
       "      <th>Reserve Level</th>\n",
       "    </tr>\n",
       "  </thead>\n",
       "  <tbody>\n",
       "    <tr>\n",
       "      <th>0</th>\n",
       "      <td>1 G. Caeli</td>\n",
       "      <td>103.5</td>\n",
       "      <td>6544826</td>\n",
       "      <td>Patronage</td>\n",
       "      <td>Empire</td>\n",
       "      <td>Medium</td>\n",
       "      <td>Industrial</td>\n",
       "      <td>1 G. Caeli Empire League</td>\n",
       "      <td>Common</td>\n",
       "    </tr>\n",
       "    <tr>\n",
       "      <th>1</th>\n",
       "      <td>1 Hydrae</td>\n",
       "      <td>81.9</td>\n",
       "      <td>6028981745</td>\n",
       "      <td>Democracy</td>\n",
       "      <td>Federation</td>\n",
       "      <td>High</td>\n",
       "      <td>Agriculture</td>\n",
       "      <td>Values Party of 1 Hydrae</td>\n",
       "      <td>Pristine</td>\n",
       "    </tr>\n",
       "    <tr>\n",
       "      <th>2</th>\n",
       "      <td>1 i Centauri</td>\n",
       "      <td>52.0</td>\n",
       "      <td>3462462067</td>\n",
       "      <td>Cooperative</td>\n",
       "      <td>Independent</td>\n",
       "      <td>Medium</td>\n",
       "      <td>Agriculture</td>\n",
       "      <td>Sky Line</td>\n",
       "      <td>Major</td>\n",
       "    </tr>\n",
       "    <tr>\n",
       "      <th>3</th>\n",
       "      <td>10 Canum Venaticorum</td>\n",
       "      <td>71.9</td>\n",
       "      <td>1549685657</td>\n",
       "      <td>Corporate</td>\n",
       "      <td>Alliance</td>\n",
       "      <td>High</td>\n",
       "      <td>Agriculture</td>\n",
       "      <td>10 Canum Venaticorum Bridge Ltd</td>\n",
       "      <td>Low</td>\n",
       "    </tr>\n",
       "    <tr>\n",
       "      <th>4</th>\n",
       "      <td>10 G. Canis Majoris</td>\n",
       "      <td>119.3</td>\n",
       "      <td>63317571</td>\n",
       "      <td>Patronage</td>\n",
       "      <td>Empire</td>\n",
       "      <td>Medium</td>\n",
       "      <td>Terraforming</td>\n",
       "      <td>The 9th Legion</td>\n",
       "      <td>Major</td>\n",
       "    </tr>\n",
       "    <tr>\n",
       "      <th>...</th>\n",
       "      <td>...</td>\n",
       "      <td>...</td>\n",
       "      <td>...</td>\n",
       "      <td>...</td>\n",
       "      <td>...</td>\n",
       "      <td>...</td>\n",
       "      <td>...</td>\n",
       "      <td>...</td>\n",
       "      <td>...</td>\n",
       "    </tr>\n",
       "    <tr>\n",
       "      <th>6529</th>\n",
       "      <td>Hyades Sector PD-S c4-9</td>\n",
       "      <td>117.4</td>\n",
       "      <td>164830140</td>\n",
       "      <td>Corporate</td>\n",
       "      <td>Independent</td>\n",
       "      <td>Medium</td>\n",
       "      <td>Extraction</td>\n",
       "      <td>Andavandul Limited</td>\n",
       "      <td>Pristine</td>\n",
       "    </tr>\n",
       "    <tr>\n",
       "      <th>6530</th>\n",
       "      <td>Dread</td>\n",
       "      <td>103.9</td>\n",
       "      <td>6403978</td>\n",
       "      <td>Democracy</td>\n",
       "      <td>Independent</td>\n",
       "      <td>Medium</td>\n",
       "      <td>Industrial</td>\n",
       "      <td>G-CLAN</td>\n",
       "      <td>Pristine</td>\n",
       "    </tr>\n",
       "    <tr>\n",
       "      <th>6531</th>\n",
       "      <td>Antliae Sector DL-Y c4</td>\n",
       "      <td>121.5</td>\n",
       "      <td>139040224</td>\n",
       "      <td>Confederacy</td>\n",
       "      <td>Federation</td>\n",
       "      <td>Medium</td>\n",
       "      <td>Extraction</td>\n",
       "      <td>Alliance of Turni</td>\n",
       "      <td>None</td>\n",
       "    </tr>\n",
       "    <tr>\n",
       "      <th>6532</th>\n",
       "      <td>Col 285 Sector AQ-C b14-4</td>\n",
       "      <td>107.7</td>\n",
       "      <td>112659383</td>\n",
       "      <td>Corporate</td>\n",
       "      <td>Federation</td>\n",
       "      <td>Medium</td>\n",
       "      <td>Extraction</td>\n",
       "      <td>Federal Galactic Systems</td>\n",
       "      <td>None</td>\n",
       "    </tr>\n",
       "    <tr>\n",
       "      <th>6533</th>\n",
       "      <td>14 Geminorum</td>\n",
       "      <td>67.0</td>\n",
       "      <td>36415759</td>\n",
       "      <td>Democracy</td>\n",
       "      <td>Independent</td>\n",
       "      <td>High</td>\n",
       "      <td>Industrial</td>\n",
       "      <td>Flotta Stellare</td>\n",
       "      <td>Depleted</td>\n",
       "    </tr>\n",
       "  </tbody>\n",
       "</table>\n",
       "<p>6534 rows × 9 columns</p>\n",
       "</div>"
      ],
      "text/plain": [
       "                           Name  Distance  Population   Government  \\\n",
       "0                    1 G. Caeli     103.5     6544826    Patronage   \n",
       "1                      1 Hydrae      81.9  6028981745    Democracy   \n",
       "2                  1 i Centauri      52.0  3462462067  Cooperative   \n",
       "3          10 Canum Venaticorum      71.9  1549685657    Corporate   \n",
       "4           10 G. Canis Majoris     119.3    63317571    Patronage   \n",
       "...                         ...       ...         ...          ...   \n",
       "6529    Hyades Sector PD-S c4-9     117.4   164830140    Corporate   \n",
       "6530                      Dread     103.9     6403978    Democracy   \n",
       "6531     Antliae Sector DL-Y c4     121.5   139040224  Confederacy   \n",
       "6532  Col 285 Sector AQ-C b14-4     107.7   112659383    Corporate   \n",
       "6533               14 Geminorum      67.0    36415759    Democracy   \n",
       "\n",
       "       Allegiance Security Level Primary Economy  \\\n",
       "0          Empire         Medium      Industrial   \n",
       "1      Federation           High     Agriculture   \n",
       "2     Independent         Medium     Agriculture   \n",
       "3        Alliance           High     Agriculture   \n",
       "4          Empire         Medium    Terraforming   \n",
       "...           ...            ...             ...   \n",
       "6529  Independent         Medium      Extraction   \n",
       "6530  Independent         Medium      Industrial   \n",
       "6531   Federation         Medium      Extraction   \n",
       "6532   Federation         Medium      Extraction   \n",
       "6533  Independent           High      Industrial   \n",
       "\n",
       "                  Controlling Faction Reserve Level  \n",
       "0            1 G. Caeli Empire League        Common  \n",
       "1            Values Party of 1 Hydrae      Pristine  \n",
       "2                            Sky Line         Major  \n",
       "3     10 Canum Venaticorum Bridge Ltd           Low  \n",
       "4                      The 9th Legion         Major  \n",
       "...                               ...           ...  \n",
       "6529               Andavandul Limited      Pristine  \n",
       "6530                           G-CLAN      Pristine  \n",
       "6531                Alliance of Turni          None  \n",
       "6532         Federal Galactic Systems          None  \n",
       "6533                  Flotta Stellare      Depleted  \n",
       "\n",
       "[6534 rows x 9 columns]"
      ]
     },
     "execution_count": 7,
     "metadata": {},
     "output_type": "execute_result"
    }
   ],
   "source": [
    "system_summaries = eddb.summarize_systems(nearby_systems, origin)\n",
    "system_summaries"
   ]
  },
  {
   "cell_type": "code",
   "execution_count": 8,
   "metadata": {},
   "outputs": [],
   "source": [
    "system_summaries.to_clipboard(header=None, index=False)"
   ]
  }
 ],
 "metadata": {
  "kernelspec": {
   "display_name": "Python 3",
   "language": "python",
   "name": "python3"
  },
  "language_info": {
   "codemirror_mode": {
    "name": "ipython",
    "version": 3
   },
   "file_extension": ".py",
   "mimetype": "text/x-python",
   "name": "python",
   "nbconvert_exporter": "python",
   "pygments_lexer": "ipython3",
   "version": "3.7.6"
  }
 },
 "nbformat": 4,
 "nbformat_minor": 4
}
