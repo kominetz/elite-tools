{
 "cells": [
  {
   "cell_type": "code",
   "execution_count": 1,
   "metadata": {},
   "outputs": [],
   "source": [
    "import os\n",
    "import os.path\n",
    "import sys\n",
    "from pathlib import Path\n"
   ]
  },
  {
   "cell_type": "code",
   "execution_count": 2,
   "metadata": {},
   "outputs": [
    {
     "name": "stdout",
     "output_type": "stream",
     "text": "['C:\\\\Users\\\\komin\\\\Projects\\\\elite-tools\\\\src', 'C:\\\\Users\\\\komin\\\\AppData\\\\Local\\\\Temp\\\\b8753ef4-2af3-48d5-8cd9-51ec332f8978', 'c:\\\\Users\\\\komin\\\\.vscode\\\\extensions\\\\ms-python.python-2020.2.64397\\\\pythonFiles', 'c:\\\\Users\\\\komin\\\\.vscode\\\\extensions\\\\ms-python.python-2020.2.64397\\\\pythonFiles\\\\lib\\\\python', 'C:\\\\ProgramData\\\\Anaconda3\\\\python37.zip', 'C:\\\\ProgramData\\\\Anaconda3\\\\DLLs', 'C:\\\\ProgramData\\\\Anaconda3\\\\lib', 'C:\\\\ProgramData\\\\Anaconda3', '', 'C:\\\\ProgramData\\\\Anaconda3\\\\lib\\\\site-packages', 'C:\\\\ProgramData\\\\Anaconda3\\\\lib\\\\site-packages\\\\win32', 'C:\\\\ProgramData\\\\Anaconda3\\\\lib\\\\site-packages\\\\win32\\\\lib', 'C:\\\\ProgramData\\\\Anaconda3\\\\lib\\\\site-packages\\\\Pythonwin', 'C:\\\\ProgramData\\\\Anaconda3\\\\lib\\\\site-packages\\\\IPython\\\\extensions', 'C:\\\\Users\\\\komin\\\\.ipython']\n"
    }
   ],
   "source": [
    "sys.path.insert(0, os.path.join(Path.home(), 'Projects', 'elite-tools', 'src'))\n",
    "print(sys.path)"
   ]
  },
  {
   "cell_type": "code",
   "execution_count": 3,
   "metadata": {},
   "outputs": [
    {
     "name": "stdout",
     "output_type": "stream",
     "text": "Using existing file \"C:\\Users\\komin\\AppData\\Local\\Temp\\elite-tools\\archive-v6-systems_populated.jsonl\" for Feeds.POPULATED_SYSTEMS.\n# Feeds.POPULATED_SYSTEMS records loaded:  20628\nUsing existing file \"C:\\Users\\komin\\AppData\\Local\\Temp\\elite-tools\\archive-v6-factions.jsonl\" for Feeds.FACTIONS.\n# Feeds.FACTIONS records loaded:  77091\n"
    }
   ],
   "source": [
    "import eddb"
   ]
  },
  {
   "cell_type": "code",
   "execution_count": 4,
   "metadata": {},
   "outputs": [],
   "source": [
    "systems = input(\"Systems: \")\n",
    "origin = eddb.average_position(systems)"
   ]
  },
  {
   "cell_type": "code",
   "execution_count": 14,
   "metadata": {},
   "outputs": [
    {
     "data": {
      "text/plain": "25"
     },
     "execution_count": 14,
     "metadata": {},
     "output_type": "execute_result"
    }
   ],
   "source": [
    "radius = int(input(\"Radius (ly): \"))\n",
    "if radius == 0:\n",
    "    radius = max(eddb.distance(origin, s.strip()) for s in systems.split(\",\"))\n",
    "radius"
   ]
  },
  {
   "cell_type": "code",
   "execution_count": 15,
   "metadata": {},
   "outputs": [],
   "source": [
    "nearby_systems = eddb.query_nearby_systems(origin, radius)"
   ]
  },
  {
   "cell_type": "code",
   "execution_count": 16,
   "metadata": {},
   "outputs": [
    {
     "data": {
      "text/html": "<div>\n<style scoped>\n    .dataframe tbody tr th:only-of-type {\n        vertical-align: middle;\n    }\n\n    .dataframe tbody tr th {\n        vertical-align: top;\n    }\n\n    .dataframe thead th {\n        text-align: right;\n    }\n</style>\n<table border=\"1\" class=\"dataframe\">\n  <thead>\n    <tr style=\"text-align: right;\">\n      <th></th>\n      <th>Name</th>\n      <th>Distance</th>\n      <th>Population</th>\n      <th>Government</th>\n      <th>Allegiance</th>\n      <th>Security Level</th>\n      <th>Primary Economy</th>\n      <th>Controlling Faction</th>\n      <th>Reserve Level</th>\n    </tr>\n  </thead>\n  <tbody>\n    <tr>\n      <th>0</th>\n      <td>Acokwang</td>\n      <td>14.2</td>\n      <td>41163</td>\n      <td>Patronage</td>\n      <td>Empire</td>\n      <td>Medium</td>\n      <td>Extraction</td>\n      <td>Lavigny's Legion</td>\n      <td>Depleted</td>\n    </tr>\n    <tr>\n      <th>1</th>\n      <td>Aerial</td>\n      <td>17.1</td>\n      <td>250000</td>\n      <td>Patronage</td>\n      <td>Empire</td>\n      <td>Low</td>\n      <td>Colony</td>\n      <td>Lavigny's Legion</td>\n      <td>Depleted</td>\n    </tr>\n    <tr>\n      <th>2</th>\n      <td>Ankou</td>\n      <td>17.0</td>\n      <td>3341225</td>\n      <td>Patronage</td>\n      <td>Empire</td>\n      <td>Medium</td>\n      <td>Refinery</td>\n      <td>Lavigny's Legion</td>\n      <td>Common</td>\n    </tr>\n    <tr>\n      <th>3</th>\n      <td>Apathaam</td>\n      <td>6.0</td>\n      <td>3506390</td>\n      <td>Cooperative</td>\n      <td>Independent</td>\n      <td>Medium</td>\n      <td>Industrial</td>\n      <td>The Order of Mobius</td>\n      <td>Low</td>\n    </tr>\n    <tr>\n      <th>4</th>\n      <td>Asase Ya</td>\n      <td>24.6</td>\n      <td>10832961797</td>\n      <td>Cooperative</td>\n      <td>Independent</td>\n      <td>High</td>\n      <td>Agriculture</td>\n      <td>The Order of Mobius</td>\n      <td>None</td>\n    </tr>\n    <tr>\n      <th>5</th>\n      <td>Aurgel</td>\n      <td>18.5</td>\n      <td>23626</td>\n      <td>Cooperative</td>\n      <td>Independent</td>\n      <td>Low</td>\n      <td>Extraction</td>\n      <td>Libertas Co-operative</td>\n      <td>Depleted</td>\n    </tr>\n    <tr>\n      <th>6</th>\n      <td>Aymifa</td>\n      <td>24.5</td>\n      <td>97999999</td>\n      <td>Patronage</td>\n      <td>Empire</td>\n      <td>Low</td>\n      <td>Refinery</td>\n      <td>Lavigny's Legion</td>\n      <td>Depleted</td>\n    </tr>\n    <tr>\n      <th>7</th>\n      <td>Azrael</td>\n      <td>0.0</td>\n      <td>4500000</td>\n      <td>Cooperative</td>\n      <td>Independent</td>\n      <td>Medium</td>\n      <td>Extraction</td>\n      <td>The Order of Mobius</td>\n      <td>Low</td>\n    </tr>\n    <tr>\n      <th>8</th>\n      <td>Bactondinks</td>\n      <td>19.5</td>\n      <td>298081</td>\n      <td>Cooperative</td>\n      <td>Independent</td>\n      <td>Medium</td>\n      <td>Refinery</td>\n      <td>The Order of Mobius</td>\n      <td>Common</td>\n    </tr>\n    <tr>\n      <th>9</th>\n      <td>Bragur</td>\n      <td>24.6</td>\n      <td>4353367567</td>\n      <td>Dictatorship</td>\n      <td>Empire</td>\n      <td>High</td>\n      <td>Agriculture</td>\n      <td>Swedish Vikings</td>\n      <td>Low</td>\n    </tr>\n    <tr>\n      <th>10</th>\n      <td>Brib</td>\n      <td>7.3</td>\n      <td>489963</td>\n      <td>Patronage</td>\n      <td>Empire</td>\n      <td>Low</td>\n      <td>Terraforming</td>\n      <td>Lavigny's Legion</td>\n      <td>Low</td>\n    </tr>\n    <tr>\n      <th>11</th>\n      <td>Cardea</td>\n      <td>9.9</td>\n      <td>750000</td>\n      <td>Cooperative</td>\n      <td>Independent</td>\n      <td>Medium</td>\n      <td>Agriculture</td>\n      <td>The Order of Mobius</td>\n      <td>Low</td>\n    </tr>\n    <tr>\n      <th>12</th>\n      <td>Carthage</td>\n      <td>17.3</td>\n      <td>65000</td>\n      <td>Patronage</td>\n      <td>Empire</td>\n      <td>Low</td>\n      <td>Refinery</td>\n      <td>Lavigny's Legion</td>\n      <td>Depleted</td>\n    </tr>\n    <tr>\n      <th>13</th>\n      <td>Cemiess</td>\n      <td>22.5</td>\n      <td>10000000000</td>\n      <td>Patronage</td>\n      <td>Empire</td>\n      <td>High</td>\n      <td>Refinery</td>\n      <td>Cemiess Imperial Society</td>\n      <td>Low</td>\n    </tr>\n    <tr>\n      <th>14</th>\n      <td>Chalbandia</td>\n      <td>23.9</td>\n      <td>152044</td>\n      <td>Patronage</td>\n      <td>Empire</td>\n      <td>High</td>\n      <td>Extraction</td>\n      <td>Lavigny's Legion</td>\n      <td>Depleted</td>\n    </tr>\n    <tr>\n      <th>15</th>\n      <td>Chamuluma</td>\n      <td>24.9</td>\n      <td>2192712</td>\n      <td>Dictatorship</td>\n      <td>Empire</td>\n      <td>Medium</td>\n      <td>Extraction</td>\n      <td>Gambiu Freedom Party</td>\n      <td>Depleted</td>\n    </tr>\n    <tr>\n      <th>16</th>\n      <td>Coastakal</td>\n      <td>21.2</td>\n      <td>51645</td>\n      <td>Patronage</td>\n      <td>Empire</td>\n      <td>Medium</td>\n      <td>Extraction</td>\n      <td>Miphifa Empire Assembly</td>\n      <td>None</td>\n    </tr>\n    <tr>\n      <th>17</th>\n      <td>Dvorsi</td>\n      <td>14.5</td>\n      <td>65081959</td>\n      <td>Cooperative</td>\n      <td>Independent</td>\n      <td>High</td>\n      <td>High Tech</td>\n      <td>The Order of Mobius</td>\n      <td>Common</td>\n    </tr>\n    <tr>\n      <th>18</th>\n      <td>Epsilon Hydri</td>\n      <td>23.1</td>\n      <td>75000</td>\n      <td>Cooperative</td>\n      <td>Independent</td>\n      <td>Medium</td>\n      <td>Colony</td>\n      <td>Epsilon Hydri Coordinated</td>\n      <td>Depleted</td>\n    </tr>\n    <tr>\n      <th>19</th>\n      <td>Exioce</td>\n      <td>8.4</td>\n      <td>16494916</td>\n      <td>Cooperative</td>\n      <td>Independent</td>\n      <td>Medium</td>\n      <td>Tourism</td>\n      <td>The Order of Mobius</td>\n      <td>Low</td>\n    </tr>\n    <tr>\n      <th>20</th>\n      <td>Facece</td>\n      <td>24.2</td>\n      <td>10880600480</td>\n      <td>Patronage</td>\n      <td>Empire</td>\n      <td>High</td>\n      <td>Military</td>\n      <td>Facece Empire Party</td>\n      <td>Depleted</td>\n    </tr>\n    <tr>\n      <th>21</th>\n      <td>Gaula Wu</td>\n      <td>14.5</td>\n      <td>27508428</td>\n      <td>Patronage</td>\n      <td>Empire</td>\n      <td>Medium</td>\n      <td>Industrial</td>\n      <td>Gaula Wu Emperor's Grace</td>\n      <td>Low</td>\n    </tr>\n    <tr>\n      <th>22</th>\n      <td>Gende</td>\n      <td>23.3</td>\n      <td>14090519</td>\n      <td>Dictatorship</td>\n      <td>Empire</td>\n      <td>High</td>\n      <td>High Tech</td>\n      <td>Swedish Vikings</td>\n      <td>Common</td>\n    </tr>\n    <tr>\n      <th>23</th>\n      <td>Gongalungul</td>\n      <td>24.0</td>\n      <td>47190898</td>\n      <td>Cooperative</td>\n      <td>Independent</td>\n      <td>High</td>\n      <td>High Tech</td>\n      <td>The Order of Mobius</td>\n      <td>None</td>\n    </tr>\n    <tr>\n      <th>24</th>\n      <td>Gubian</td>\n      <td>16.4</td>\n      <td>2576706</td>\n      <td>Corporate</td>\n      <td>Empire</td>\n      <td>Low</td>\n      <td>Industrial</td>\n      <td>Imperial Trade Works</td>\n      <td>Low</td>\n    </tr>\n    <tr>\n      <th>25</th>\n      <td>HR 1064</td>\n      <td>21.0</td>\n      <td>4608340919</td>\n      <td>Dictatorship</td>\n      <td>Empire</td>\n      <td>High</td>\n      <td>Agriculture</td>\n      <td>Black Ram</td>\n      <td>Common</td>\n    </tr>\n    <tr>\n      <th>26</th>\n      <td>Jimavi</td>\n      <td>19.8</td>\n      <td>2875</td>\n      <td>Cooperative</td>\n      <td>Independent</td>\n      <td>Low</td>\n      <td>Military</td>\n      <td>The Order of Mobius</td>\n      <td>Depleted</td>\n    </tr>\n    <tr>\n      <th>27</th>\n      <td>Laedla</td>\n      <td>20.0</td>\n      <td>600000000</td>\n      <td>Patronage</td>\n      <td>Empire</td>\n      <td>Medium</td>\n      <td>Extraction</td>\n      <td>Laedla Empire Assembly</td>\n      <td>Depleted</td>\n    </tr>\n    <tr>\n      <th>28</th>\n      <td>Liabeze</td>\n      <td>23.7</td>\n      <td>8500000</td>\n      <td>Feudal</td>\n      <td>Empire</td>\n      <td>High</td>\n      <td>Extraction</td>\n      <td>51st Death Dealers</td>\n      <td>Depleted</td>\n    </tr>\n    <tr>\n      <th>29</th>\n      <td>Ling Deti</td>\n      <td>17.3</td>\n      <td>70414</td>\n      <td>Cooperative</td>\n      <td>Independent</td>\n      <td>Medium</td>\n      <td>Colony</td>\n      <td>The Order of Mobius</td>\n      <td>Depleted</td>\n    </tr>\n    <tr>\n      <th>30</th>\n      <td>LTT 1345</td>\n      <td>21.1</td>\n      <td>125000</td>\n      <td>Patronage</td>\n      <td>Empire</td>\n      <td>Medium</td>\n      <td>Refinery</td>\n      <td>LTT 1345 Empire Party</td>\n      <td>None</td>\n    </tr>\n    <tr>\n      <th>31</th>\n      <td>Lu Pah</td>\n      <td>20.7</td>\n      <td>2661</td>\n      <td>Patronage</td>\n      <td>Empire</td>\n      <td>Low</td>\n      <td>Extraction</td>\n      <td>Ngun Patron's Principles</td>\n      <td>None</td>\n    </tr>\n    <tr>\n      <th>32</th>\n      <td>Maris</td>\n      <td>22.2</td>\n      <td>180739</td>\n      <td>Corporate</td>\n      <td>Empire</td>\n      <td>High</td>\n      <td>Military</td>\n      <td>HR 1064 Netcoms Holdings</td>\n      <td>Low</td>\n    </tr>\n    <tr>\n      <th>33</th>\n      <td>Maunggu</td>\n      <td>20.0</td>\n      <td>7308584213</td>\n      <td>Corporate</td>\n      <td>Empire</td>\n      <td>Medium</td>\n      <td>Agriculture</td>\n      <td>Outer Worlds Network</td>\n      <td>Common</td>\n    </tr>\n    <tr>\n      <th>34</th>\n      <td>Morana</td>\n      <td>12.3</td>\n      <td>4199999</td>\n      <td>Patronage</td>\n      <td>Empire</td>\n      <td>Medium</td>\n      <td>Agriculture</td>\n      <td>Morana Patrons of Law</td>\n      <td>Low</td>\n    </tr>\n    <tr>\n      <th>35</th>\n      <td>Mu Horologii</td>\n      <td>7.9</td>\n      <td>7940592765</td>\n      <td>Patronage</td>\n      <td>Empire</td>\n      <td>Medium</td>\n      <td>Agriculture</td>\n      <td>Lavigny's Legion</td>\n      <td>Low</td>\n    </tr>\n    <tr>\n      <th>36</th>\n      <td>Murus</td>\n      <td>12.9</td>\n      <td>91108</td>\n      <td>Patronage</td>\n      <td>Empire</td>\n      <td>Low</td>\n      <td>Refinery</td>\n      <td>Lavigny's Legion</td>\n      <td>Low</td>\n    </tr>\n    <tr>\n      <th>37</th>\n      <td>Maausk</td>\n      <td>21.0</td>\n      <td>175000</td>\n      <td>Patronage</td>\n      <td>Empire</td>\n      <td>Medium</td>\n      <td>Refinery</td>\n      <td>The Order of Mobius</td>\n      <td>Low</td>\n    </tr>\n    <tr>\n      <th>38</th>\n      <td>Narakapani</td>\n      <td>22.4</td>\n      <td>3763</td>\n      <td>Patronage</td>\n      <td>Empire</td>\n      <td>Low</td>\n      <td>Extraction</td>\n      <td>Lavigny's Legion</td>\n      <td>None</td>\n    </tr>\n    <tr>\n      <th>39</th>\n      <td>Negrito</td>\n      <td>23.8</td>\n      <td>1102503120</td>\n      <td>Cooperative</td>\n      <td>Independent</td>\n      <td>High</td>\n      <td>Agriculture</td>\n      <td>The Order of Mobius</td>\n      <td>Common</td>\n    </tr>\n    <tr>\n      <th>40</th>\n      <td>Nehet</td>\n      <td>24.3</td>\n      <td>10558480</td>\n      <td>Patronage</td>\n      <td>Empire</td>\n      <td>Medium</td>\n      <td>High Tech</td>\n      <td>Nehet Patrons of Law</td>\n      <td>Depleted</td>\n    </tr>\n    <tr>\n      <th>41</th>\n      <td>Ngun</td>\n      <td>19.6</td>\n      <td>2336244344</td>\n      <td>Patronage</td>\n      <td>Empire</td>\n      <td>Medium</td>\n      <td>Agriculture</td>\n      <td>Lavigny's Legion</td>\n      <td>Low</td>\n    </tr>\n    <tr>\n      <th>42</th>\n      <td>Njiri</td>\n      <td>12.0</td>\n      <td>17186307</td>\n      <td>Cooperative</td>\n      <td>Independent</td>\n      <td>Medium</td>\n      <td>High Tech</td>\n      <td>The Order of Mobius</td>\n      <td>Depleted</td>\n    </tr>\n    <tr>\n      <th>43</th>\n      <td>NLTT 10055</td>\n      <td>15.1</td>\n      <td>58489</td>\n      <td>Patronage</td>\n      <td>Empire</td>\n      <td>Medium</td>\n      <td>Extraction</td>\n      <td>Lavigny's Legion</td>\n      <td>Depleted</td>\n    </tr>\n    <tr>\n      <th>44</th>\n      <td>NLTT 7789</td>\n      <td>14.1</td>\n      <td>85489</td>\n      <td>Patronage</td>\n      <td>Empire</td>\n      <td>Medium</td>\n      <td>Extraction</td>\n      <td>Rata Bares Empire Group</td>\n      <td>Depleted</td>\n    </tr>\n    <tr>\n      <th>45</th>\n      <td>NLTT 7856</td>\n      <td>23.1</td>\n      <td>2665681</td>\n      <td>Patronage</td>\n      <td>Empire</td>\n      <td>Medium</td>\n      <td>Extraction</td>\n      <td>NLTT 7856 Imperial Society</td>\n      <td>Depleted</td>\n    </tr>\n    <tr>\n      <th>46</th>\n      <td>Nu</td>\n      <td>17.5</td>\n      <td>3337827</td>\n      <td>Patronage</td>\n      <td>Empire</td>\n      <td>Medium</td>\n      <td>High Tech</td>\n      <td>Lavigny's Legion</td>\n      <td>Low</td>\n    </tr>\n    <tr>\n      <th>47</th>\n      <td>Nzamnet</td>\n      <td>17.2</td>\n      <td>144319</td>\n      <td>Dictatorship</td>\n      <td>Empire</td>\n      <td>Medium</td>\n      <td>Extraction</td>\n      <td>Black Ram</td>\n      <td>Depleted</td>\n    </tr>\n    <tr>\n      <th>48</th>\n      <td>Ombiko</td>\n      <td>19.6</td>\n      <td>57079</td>\n      <td>Patronage</td>\n      <td>Empire</td>\n      <td>Low</td>\n      <td>Refinery</td>\n      <td>Dvorsi Empire Assembly</td>\n      <td>Common</td>\n    </tr>\n    <tr>\n      <th>49</th>\n      <td>Tewi</td>\n      <td>23.2</td>\n      <td>310841</td>\n      <td>Patronage</td>\n      <td>Empire</td>\n      <td>Medium</td>\n      <td>Refinery</td>\n      <td>Tewi Guardians of Tradition</td>\n      <td>None</td>\n    </tr>\n    <tr>\n      <th>50</th>\n      <td>Vequess</td>\n      <td>23.9</td>\n      <td>1199999</td>\n      <td>Patronage</td>\n      <td>Empire</td>\n      <td>Medium</td>\n      <td>Industrial</td>\n      <td>Lavigny's Legion</td>\n      <td>None</td>\n    </tr>\n    <tr>\n      <th>51</th>\n      <td>Vistaenis</td>\n      <td>20.9</td>\n      <td>5309696853</td>\n      <td>Cooperative</td>\n      <td>Independent</td>\n      <td>Medium</td>\n      <td>Tourism</td>\n      <td>Libertas Co-operative</td>\n      <td>None</td>\n    </tr>\n    <tr>\n      <th>52</th>\n      <td>Wandjin</td>\n      <td>23.8</td>\n      <td>114523</td>\n      <td>Patronage</td>\n      <td>Empire</td>\n      <td>Medium</td>\n      <td>Extraction</td>\n      <td>HR 571 Emperor's Grace</td>\n      <td>None</td>\n    </tr>\n  </tbody>\n</table>\n</div>",
      "text/plain": "             Name  Distance   Population    Government   Allegiance  \\\n0        Acokwang      14.2        41163     Patronage       Empire   \n1          Aerial      17.1       250000     Patronage       Empire   \n2           Ankou      17.0      3341225     Patronage       Empire   \n3        Apathaam       6.0      3506390   Cooperative  Independent   \n4        Asase Ya      24.6  10832961797   Cooperative  Independent   \n5          Aurgel      18.5        23626   Cooperative  Independent   \n6          Aymifa      24.5     97999999     Patronage       Empire   \n7          Azrael       0.0      4500000   Cooperative  Independent   \n8     Bactondinks      19.5       298081   Cooperative  Independent   \n9          Bragur      24.6   4353367567  Dictatorship       Empire   \n10           Brib       7.3       489963     Patronage       Empire   \n11         Cardea       9.9       750000   Cooperative  Independent   \n12       Carthage      17.3        65000     Patronage       Empire   \n13        Cemiess      22.5  10000000000     Patronage       Empire   \n14     Chalbandia      23.9       152044     Patronage       Empire   \n15      Chamuluma      24.9      2192712  Dictatorship       Empire   \n16      Coastakal      21.2        51645     Patronage       Empire   \n17         Dvorsi      14.5     65081959   Cooperative  Independent   \n18  Epsilon Hydri      23.1        75000   Cooperative  Independent   \n19         Exioce       8.4     16494916   Cooperative  Independent   \n20         Facece      24.2  10880600480     Patronage       Empire   \n21       Gaula Wu      14.5     27508428     Patronage       Empire   \n22          Gende      23.3     14090519  Dictatorship       Empire   \n23    Gongalungul      24.0     47190898   Cooperative  Independent   \n24         Gubian      16.4      2576706     Corporate       Empire   \n25        HR 1064      21.0   4608340919  Dictatorship       Empire   \n26         Jimavi      19.8         2875   Cooperative  Independent   \n27         Laedla      20.0    600000000     Patronage       Empire   \n28        Liabeze      23.7      8500000        Feudal       Empire   \n29      Ling Deti      17.3        70414   Cooperative  Independent   \n30       LTT 1345      21.1       125000     Patronage       Empire   \n31         Lu Pah      20.7         2661     Patronage       Empire   \n32          Maris      22.2       180739     Corporate       Empire   \n33        Maunggu      20.0   7308584213     Corporate       Empire   \n34         Morana      12.3      4199999     Patronage       Empire   \n35   Mu Horologii       7.9   7940592765     Patronage       Empire   \n36          Murus      12.9        91108     Patronage       Empire   \n37         Maausk      21.0       175000     Patronage       Empire   \n38     Narakapani      22.4         3763     Patronage       Empire   \n39        Negrito      23.8   1102503120   Cooperative  Independent   \n40          Nehet      24.3     10558480     Patronage       Empire   \n41           Ngun      19.6   2336244344     Patronage       Empire   \n42          Njiri      12.0     17186307   Cooperative  Independent   \n43     NLTT 10055      15.1        58489     Patronage       Empire   \n44      NLTT 7789      14.1        85489     Patronage       Empire   \n45      NLTT 7856      23.1      2665681     Patronage       Empire   \n46             Nu      17.5      3337827     Patronage       Empire   \n47        Nzamnet      17.2       144319  Dictatorship       Empire   \n48         Ombiko      19.6        57079     Patronage       Empire   \n49           Tewi      23.2       310841     Patronage       Empire   \n50        Vequess      23.9      1199999     Patronage       Empire   \n51      Vistaenis      20.9   5309696853   Cooperative  Independent   \n52        Wandjin      23.8       114523     Patronage       Empire   \n\n   Security Level Primary Economy          Controlling Faction Reserve Level  \n0          Medium      Extraction             Lavigny's Legion      Depleted  \n1             Low          Colony             Lavigny's Legion      Depleted  \n2          Medium        Refinery             Lavigny's Legion        Common  \n3          Medium      Industrial          The Order of Mobius           Low  \n4            High     Agriculture          The Order of Mobius          None  \n5             Low      Extraction        Libertas Co-operative      Depleted  \n6             Low        Refinery             Lavigny's Legion      Depleted  \n7          Medium      Extraction          The Order of Mobius           Low  \n8          Medium        Refinery          The Order of Mobius        Common  \n9            High     Agriculture              Swedish Vikings           Low  \n10            Low    Terraforming             Lavigny's Legion           Low  \n11         Medium     Agriculture          The Order of Mobius           Low  \n12            Low        Refinery             Lavigny's Legion      Depleted  \n13           High        Refinery     Cemiess Imperial Society           Low  \n14           High      Extraction             Lavigny's Legion      Depleted  \n15         Medium      Extraction         Gambiu Freedom Party      Depleted  \n16         Medium      Extraction      Miphifa Empire Assembly          None  \n17           High       High Tech          The Order of Mobius        Common  \n18         Medium          Colony    Epsilon Hydri Coordinated      Depleted  \n19         Medium         Tourism          The Order of Mobius           Low  \n20           High        Military          Facece Empire Party      Depleted  \n21         Medium      Industrial     Gaula Wu Emperor's Grace           Low  \n22           High       High Tech              Swedish Vikings        Common  \n23           High       High Tech          The Order of Mobius          None  \n24            Low      Industrial         Imperial Trade Works           Low  \n25           High     Agriculture                    Black Ram        Common  \n26            Low        Military          The Order of Mobius      Depleted  \n27         Medium      Extraction       Laedla Empire Assembly      Depleted  \n28           High      Extraction           51st Death Dealers      Depleted  \n29         Medium          Colony          The Order of Mobius      Depleted  \n30         Medium        Refinery        LTT 1345 Empire Party          None  \n31            Low      Extraction     Ngun Patron's Principles          None  \n32           High        Military     HR 1064 Netcoms Holdings           Low  \n33         Medium     Agriculture         Outer Worlds Network        Common  \n34         Medium     Agriculture        Morana Patrons of Law           Low  \n35         Medium     Agriculture             Lavigny's Legion           Low  \n36            Low        Refinery             Lavigny's Legion           Low  \n37         Medium        Refinery          The Order of Mobius           Low  \n38            Low      Extraction             Lavigny's Legion          None  \n39           High     Agriculture          The Order of Mobius        Common  \n40         Medium       High Tech         Nehet Patrons of Law      Depleted  \n41         Medium     Agriculture             Lavigny's Legion           Low  \n42         Medium       High Tech          The Order of Mobius      Depleted  \n43         Medium      Extraction             Lavigny's Legion      Depleted  \n44         Medium      Extraction      Rata Bares Empire Group      Depleted  \n45         Medium      Extraction   NLTT 7856 Imperial Society      Depleted  \n46         Medium       High Tech             Lavigny's Legion           Low  \n47         Medium      Extraction                    Black Ram      Depleted  \n48            Low        Refinery       Dvorsi Empire Assembly        Common  \n49         Medium        Refinery  Tewi Guardians of Tradition          None  \n50         Medium      Industrial             Lavigny's Legion          None  \n51         Medium         Tourism        Libertas Co-operative          None  \n52         Medium      Extraction       HR 571 Emperor's Grace          None  "
     },
     "execution_count": 16,
     "metadata": {},
     "output_type": "execute_result"
    }
   ],
   "source": [
    "system_summaries = eddb.summarize_systems(nearby_systems, origin)\n",
    "system_summaries"
   ]
  },
  {
   "cell_type": "code",
   "execution_count": 19,
   "metadata": {},
   "outputs": [
    {
     "ename": "AttributeError",
     "evalue": "'list' object has no attribute 'difference'",
     "output_type": "error",
     "traceback": [
      "\u001b[1;31m---------------------------------------------------------------------------\u001b[0m",
      "\u001b[1;31mAttributeError\u001b[0m                            Traceback (most recent call last)",
      "\u001b[1;32m<ipython-input-19-ffff5ff29c45>\u001b[0m in \u001b[0;36m<module>\u001b[1;34m\u001b[0m\n\u001b[0;32m      1\u001b[0m \u001b[0mc\u001b[0m \u001b[1;33m=\u001b[0m \u001b[0meddb\u001b[0m\u001b[1;33m.\u001b[0m\u001b[0mcontrolling_factions\u001b[0m\u001b[1;33m(\u001b[0m\u001b[0mnearby_systems\u001b[0m\u001b[1;33m)\u001b[0m\u001b[1;33m\u001b[0m\u001b[1;33m\u001b[0m\u001b[0m\n\u001b[0;32m      2\u001b[0m \u001b[0mm\u001b[0m \u001b[1;33m=\u001b[0m \u001b[0meddb\u001b[0m\u001b[1;33m.\u001b[0m\u001b[0mminor_factions\u001b[0m\u001b[1;33m(\u001b[0m\u001b[0mnearby_systems\u001b[0m\u001b[1;33m)\u001b[0m\u001b[1;33m\u001b[0m\u001b[1;33m\u001b[0m\u001b[0m\n\u001b[1;32m----> 3\u001b[1;33m \u001b[0mncm\u001b[0m \u001b[1;33m=\u001b[0m \u001b[0mm\u001b[0m\u001b[1;33m.\u001b[0m\u001b[0mdifference\u001b[0m\u001b[1;33m(\u001b[0m\u001b[0mc\u001b[0m\u001b[1;33m)\u001b[0m\u001b[1;33m\u001b[0m\u001b[1;33m\u001b[0m\u001b[0m\n\u001b[0m\u001b[0;32m      4\u001b[0m \u001b[0mprint\u001b[0m\u001b[1;33m(\u001b[0m\u001b[0mlen\u001b[0m\u001b[1;33m(\u001b[0m\u001b[0mc\u001b[0m\u001b[1;33m)\u001b[0m\u001b[1;33m,\u001b[0m \u001b[0mlen\u001b[0m\u001b[1;33m(\u001b[0m\u001b[0mm\u001b[0m\u001b[1;33m)\u001b[0m\u001b[1;33m)\u001b[0m\u001b[1;33m\u001b[0m\u001b[1;33m\u001b[0m\u001b[0m\n\u001b[0;32m      5\u001b[0m \u001b[1;31m# minor_factions(nearby_systems)\u001b[0m\u001b[1;33m\u001b[0m\u001b[1;33m\u001b[0m\u001b[1;33m\u001b[0m\u001b[0m\n",
      "\u001b[1;31mAttributeError\u001b[0m: 'list' object has no attribute 'difference'"
     ]
    }
   ],
   "source": [
    "c = eddb.controlling_factions(nearby_systems)\n",
    "m = eddb.minor_factions(nearby_systems)\n",
    "ncm = m.difference(c)\n",
    "print(len(c), len(m))\n",
    "# minor_factions(nearby_systems)"
   ]
  },
  {
   "cell_type": "code",
   "execution_count": 18,
   "metadata": {},
   "outputs": [],
   "source": [
    "system_summaries.to_clipboard(header=None, index=False)"
   ]
  },
  {
   "cell_type": "code",
   "execution_count": null,
   "metadata": {},
   "outputs": [],
   "source": []
  }
 ],
 "metadata": {
  "kernelspec": {
   "display_name": "Python 3",
   "language": "python",
   "name": "python3"
  },
  "language_info": {
   "codemirror_mode": {
    "name": "ipython",
    "version": 3
   },
   "file_extension": ".py",
   "mimetype": "text/x-python",
   "name": "python",
   "nbconvert_exporter": "python",
   "pygments_lexer": "ipython3",
   "version": "3.7.3-final"
  }
 },
 "nbformat": 4,
 "nbformat_minor": 4
}