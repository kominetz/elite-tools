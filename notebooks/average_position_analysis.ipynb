{
 "cells": [
  {
   "cell_type": "code",
   "execution_count": 1,
   "metadata": {
    "scrolled": true
   },
   "outputs": [],
   "source": [
    "import os\n",
    "import os.path\n",
    "import sys\n",
    "from pathlib import Path\n"
   ]
  },
  {
   "cell_type": "code",
   "execution_count": 2,
   "metadata": {},
   "outputs": [
    {
     "name": "stdout",
     "output_type": "stream",
     "text": [
      "['/Users/johnk/Projects/elite-tools/src', '/Users/johnk/Projects/elite-tools/notebooks', '/Users/johnk/opt/anaconda3/lib/python37.zip', '/Users/johnk/opt/anaconda3/lib/python3.7', '/Users/johnk/opt/anaconda3/lib/python3.7/lib-dynload', '', '/Users/johnk/opt/anaconda3/lib/python3.7/site-packages', '/Users/johnk/opt/anaconda3/lib/python3.7/site-packages/aeosa', '/Users/johnk/opt/anaconda3/lib/python3.7/site-packages/IPython/extensions', '/Users/johnk/.ipython']\n"
     ]
    }
   ],
   "source": [
    "sys.path.insert(0, os.path.join(Path.home(), 'Projects', 'elite-tools', 'src'))\n",
    "print(sys.path)"
   ]
  },
  {
   "cell_type": "code",
   "execution_count": null,
   "metadata": {},
   "outputs": [],
   "source": [
    "import eddb"
   ]
  },
  {
   "cell_type": "code",
   "execution_count": null,
   "metadata": {
    "scrolled": true
   },
   "outputs": [],
   "source": [
    "origin = eddb.average_position(input(\"Systems: \"))"
   ]
  },
  {
   "cell_type": "code",
   "execution_count": null,
   "metadata": {},
   "outputs": [],
   "source": [
    "radius = int(input(\"Radius (ly): \"))"
   ]
  },
  {
   "cell_type": "code",
   "execution_count": null,
   "metadata": {
    "scrolled": true
   },
   "outputs": [],
   "source": [
    "nearby_systems = eddb.query_nearby_systems(origin, radius)"
   ]
  },
  {
   "cell_type": "code",
   "execution_count": null,
   "metadata": {},
   "outputs": [],
   "source": [
    "system_summaries = eddb.summarize_systems(nearby_systems, origin)\n",
    "system_summaries"
   ]
  },
  {
   "cell_type": "code",
   "execution_count": null,
   "metadata": {},
   "outputs": [],
   "source": [
    "import pandas as pd\n",
    "pd.Series(eddb.populated_systems[origin])"
   ]
  },
  {
   "cell_type": "code",
   "execution_count": null,
   "metadata": {},
   "outputs": [],
   "source": [
    "pd.DataFrame(eddb.populated_systems[origin]['minor_faction_presences'])"
   ]
  },
  {
   "cell_type": "code",
   "execution_count": null,
   "metadata": {},
   "outputs": [],
   "source": [
    "system_summaries.to_clipboard(header=None, index=False)"
   ]
  }
 ],
 "metadata": {
  "kernelspec": {
   "display_name": "Python 3",
   "language": "python",
   "name": "python3"
  },
  "language_info": {
   "codemirror_mode": {
    "name": "ipython",
    "version": 3
   },
   "file_extension": ".py",
   "mimetype": "text/x-python",
   "name": "python",
   "nbconvert_exporter": "python",
   "pygments_lexer": "ipython3",
   "version": "3.7.6"
  }
 },
 "nbformat": 4,
 "nbformat_minor": 4
}
