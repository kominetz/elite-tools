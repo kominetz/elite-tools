{
 "cells": [
  {
   "cell_type": "code",
   "execution_count": 1,
   "metadata": {},
   "outputs": [
    {
     "name": "stdout",
     "output_type": "stream",
     "text": "Using existing file \"C:\\Users\\komin\\AppData\\Local\\Temp\\elite-tools\\archive-v6-systems_populated.jsonl\" for Feeds.POPULATED_SYSTEMS.\n# Feeds.POPULATED_SYSTEMS records loaded:  20628\nUsing existing file \"C:\\Users\\komin\\AppData\\Local\\Temp\\elite-tools\\archive-v6-factions.jsonl\" for Feeds.FACTIONS.\n# Feeds.FACTIONS records loaded:  77091\n"
    }
   ],
   "source": [
    "import os\n",
    "import os.path\n",
    "import sys\n",
    "from pathlib import Path\n",
    "sys.path.insert(0, os.path.join(Path.home(), 'Projects', 'elite-tools', 'src'))\n",
    "import eddb"
   ]
  },
  {
   "cell_type": "code",
   "execution_count": 2,
   "metadata": {},
   "outputs": [],
   "source": [
    "systems = input(\"Systems: \")\n",
    "origin = eddb.average_position(systems)"
   ]
  },
  {
   "cell_type": "code",
   "execution_count": 3,
   "metadata": {},
   "outputs": [
    {
     "data": {
      "text/plain": "20"
     },
     "execution_count": 3,
     "metadata": {},
     "output_type": "execute_result"
    }
   ],
   "source": [
    "radius = int(input(\"Radius (ly): \"))\n",
    "if radius == 0:\n",
    "    radius = max(eddb.distance(origin, s.strip()) for s in systems.split(\",\"))\n",
    "radius"
   ]
  },
  {
   "cell_type": "code",
   "execution_count": 8,
   "metadata": {},
   "outputs": [
    {
     "data": {
      "text/html": "<div>\n<style scoped>\n    .dataframe tbody tr th:only-of-type {\n        vertical-align: middle;\n    }\n\n    .dataframe tbody tr th {\n        vertical-align: top;\n    }\n\n    .dataframe thead th {\n        text-align: right;\n    }\n</style>\n<table border=\"1\" class=\"dataframe\">\n  <thead>\n    <tr style=\"text-align: right;\">\n      <th></th>\n      <th>Name</th>\n      <th>Distance</th>\n      <th>Population</th>\n      <th>Government</th>\n      <th>Allegiance</th>\n      <th>Security Level</th>\n      <th>Primary Economy</th>\n      <th>Controlling Faction</th>\n      <th>Reserve Level</th>\n    </tr>\n  </thead>\n  <tbody>\n    <tr>\n      <th>0</th>\n      <td>Acokwang</td>\n      <td>14.2</td>\n      <td>41163</td>\n      <td>Patronage</td>\n      <td>Empire</td>\n      <td>Medium</td>\n      <td>Extraction</td>\n      <td>Lavigny's Legion</td>\n      <td>Depleted</td>\n    </tr>\n    <tr>\n      <th>1</th>\n      <td>Aerial</td>\n      <td>17.1</td>\n      <td>250000</td>\n      <td>Patronage</td>\n      <td>Empire</td>\n      <td>Low</td>\n      <td>Colony</td>\n      <td>Lavigny's Legion</td>\n      <td>Depleted</td>\n    </tr>\n    <tr>\n      <th>2</th>\n      <td>Ankou</td>\n      <td>17.0</td>\n      <td>3341225</td>\n      <td>Patronage</td>\n      <td>Empire</td>\n      <td>Medium</td>\n      <td>Refinery</td>\n      <td>Lavigny's Legion</td>\n      <td>Common</td>\n    </tr>\n    <tr>\n      <th>3</th>\n      <td>Apathaam</td>\n      <td>6.0</td>\n      <td>3506390</td>\n      <td>Cooperative</td>\n      <td>Independent</td>\n      <td>Medium</td>\n      <td>Industrial</td>\n      <td>The Order of Mobius</td>\n      <td>Low</td>\n    </tr>\n    <tr>\n      <th>4</th>\n      <td>Aurgel</td>\n      <td>18.5</td>\n      <td>23626</td>\n      <td>Cooperative</td>\n      <td>Independent</td>\n      <td>Low</td>\n      <td>Extraction</td>\n      <td>Libertas Co-operative</td>\n      <td>Depleted</td>\n    </tr>\n    <tr>\n      <th>5</th>\n      <td>Azrael</td>\n      <td>0.0</td>\n      <td>4500000</td>\n      <td>Cooperative</td>\n      <td>Independent</td>\n      <td>Medium</td>\n      <td>Extraction</td>\n      <td>The Order of Mobius</td>\n      <td>Low</td>\n    </tr>\n    <tr>\n      <th>6</th>\n      <td>Bactondinks</td>\n      <td>19.5</td>\n      <td>298081</td>\n      <td>Cooperative</td>\n      <td>Independent</td>\n      <td>Medium</td>\n      <td>Refinery</td>\n      <td>The Order of Mobius</td>\n      <td>Common</td>\n    </tr>\n    <tr>\n      <th>7</th>\n      <td>Brib</td>\n      <td>7.3</td>\n      <td>489963</td>\n      <td>Patronage</td>\n      <td>Empire</td>\n      <td>Low</td>\n      <td>Terraforming</td>\n      <td>Lavigny's Legion</td>\n      <td>Low</td>\n    </tr>\n    <tr>\n      <th>8</th>\n      <td>Cardea</td>\n      <td>9.9</td>\n      <td>750000</td>\n      <td>Cooperative</td>\n      <td>Independent</td>\n      <td>Medium</td>\n      <td>Agriculture</td>\n      <td>The Order of Mobius</td>\n      <td>Low</td>\n    </tr>\n    <tr>\n      <th>9</th>\n      <td>Carthage</td>\n      <td>17.3</td>\n      <td>65000</td>\n      <td>Patronage</td>\n      <td>Empire</td>\n      <td>Low</td>\n      <td>Refinery</td>\n      <td>Lavigny's Legion</td>\n      <td>Depleted</td>\n    </tr>\n    <tr>\n      <th>10</th>\n      <td>Dvorsi</td>\n      <td>14.5</td>\n      <td>65081959</td>\n      <td>Cooperative</td>\n      <td>Independent</td>\n      <td>High</td>\n      <td>High Tech</td>\n      <td>The Order of Mobius</td>\n      <td>Common</td>\n    </tr>\n    <tr>\n      <th>11</th>\n      <td>Exioce</td>\n      <td>8.4</td>\n      <td>16494916</td>\n      <td>Cooperative</td>\n      <td>Independent</td>\n      <td>Medium</td>\n      <td>Tourism</td>\n      <td>The Order of Mobius</td>\n      <td>Low</td>\n    </tr>\n    <tr>\n      <th>12</th>\n      <td>Gaula Wu</td>\n      <td>14.5</td>\n      <td>27508428</td>\n      <td>Patronage</td>\n      <td>Empire</td>\n      <td>Medium</td>\n      <td>Industrial</td>\n      <td>Gaula Wu Emperor's Grace</td>\n      <td>Low</td>\n    </tr>\n    <tr>\n      <th>13</th>\n      <td>Gubian</td>\n      <td>16.4</td>\n      <td>2576706</td>\n      <td>Corporate</td>\n      <td>Empire</td>\n      <td>Low</td>\n      <td>Industrial</td>\n      <td>Imperial Trade Works</td>\n      <td>Low</td>\n    </tr>\n    <tr>\n      <th>14</th>\n      <td>Jimavi</td>\n      <td>19.8</td>\n      <td>2875</td>\n      <td>Cooperative</td>\n      <td>Independent</td>\n      <td>Low</td>\n      <td>Military</td>\n      <td>The Order of Mobius</td>\n      <td>Depleted</td>\n    </tr>\n    <tr>\n      <th>15</th>\n      <td>Laedla</td>\n      <td>20.0</td>\n      <td>600000000</td>\n      <td>Patronage</td>\n      <td>Empire</td>\n      <td>Medium</td>\n      <td>Extraction</td>\n      <td>Laedla Empire Assembly</td>\n      <td>Depleted</td>\n    </tr>\n    <tr>\n      <th>16</th>\n      <td>Ling Deti</td>\n      <td>17.3</td>\n      <td>70414</td>\n      <td>Cooperative</td>\n      <td>Independent</td>\n      <td>Medium</td>\n      <td>Colony</td>\n      <td>The Order of Mobius</td>\n      <td>Depleted</td>\n    </tr>\n    <tr>\n      <th>17</th>\n      <td>Maunggu</td>\n      <td>20.0</td>\n      <td>7308584213</td>\n      <td>Corporate</td>\n      <td>Empire</td>\n      <td>Medium</td>\n      <td>Agriculture</td>\n      <td>Outer Worlds Network</td>\n      <td>Common</td>\n    </tr>\n    <tr>\n      <th>18</th>\n      <td>Morana</td>\n      <td>12.3</td>\n      <td>4199999</td>\n      <td>Patronage</td>\n      <td>Empire</td>\n      <td>Medium</td>\n      <td>Agriculture</td>\n      <td>Morana Patrons of Law</td>\n      <td>Low</td>\n    </tr>\n    <tr>\n      <th>19</th>\n      <td>Mu Horologii</td>\n      <td>7.9</td>\n      <td>7940592765</td>\n      <td>Patronage</td>\n      <td>Empire</td>\n      <td>Medium</td>\n      <td>Agriculture</td>\n      <td>Lavigny's Legion</td>\n      <td>Low</td>\n    </tr>\n    <tr>\n      <th>20</th>\n      <td>Murus</td>\n      <td>12.9</td>\n      <td>91108</td>\n      <td>Patronage</td>\n      <td>Empire</td>\n      <td>Low</td>\n      <td>Refinery</td>\n      <td>Lavigny's Legion</td>\n      <td>Low</td>\n    </tr>\n    <tr>\n      <th>21</th>\n      <td>Ngun</td>\n      <td>19.6</td>\n      <td>2336244344</td>\n      <td>Patronage</td>\n      <td>Empire</td>\n      <td>Medium</td>\n      <td>Agriculture</td>\n      <td>Lavigny's Legion</td>\n      <td>Low</td>\n    </tr>\n    <tr>\n      <th>22</th>\n      <td>Njiri</td>\n      <td>12.0</td>\n      <td>17186307</td>\n      <td>Cooperative</td>\n      <td>Independent</td>\n      <td>Medium</td>\n      <td>High Tech</td>\n      <td>The Order of Mobius</td>\n      <td>Depleted</td>\n    </tr>\n    <tr>\n      <th>23</th>\n      <td>NLTT 10055</td>\n      <td>15.1</td>\n      <td>58489</td>\n      <td>Patronage</td>\n      <td>Empire</td>\n      <td>Medium</td>\n      <td>Extraction</td>\n      <td>Lavigny's Legion</td>\n      <td>Depleted</td>\n    </tr>\n    <tr>\n      <th>24</th>\n      <td>NLTT 7789</td>\n      <td>14.1</td>\n      <td>85489</td>\n      <td>Patronage</td>\n      <td>Empire</td>\n      <td>Medium</td>\n      <td>Extraction</td>\n      <td>Rata Bares Empire Group</td>\n      <td>Depleted</td>\n    </tr>\n    <tr>\n      <th>25</th>\n      <td>Nu</td>\n      <td>17.5</td>\n      <td>3337827</td>\n      <td>Patronage</td>\n      <td>Empire</td>\n      <td>Medium</td>\n      <td>High Tech</td>\n      <td>Lavigny's Legion</td>\n      <td>Low</td>\n    </tr>\n    <tr>\n      <th>26</th>\n      <td>Nzamnet</td>\n      <td>17.2</td>\n      <td>144319</td>\n      <td>Dictatorship</td>\n      <td>Empire</td>\n      <td>Medium</td>\n      <td>Extraction</td>\n      <td>Black Ram</td>\n      <td>Depleted</td>\n    </tr>\n    <tr>\n      <th>27</th>\n      <td>Ombiko</td>\n      <td>19.6</td>\n      <td>57079</td>\n      <td>Patronage</td>\n      <td>Empire</td>\n      <td>Low</td>\n      <td>Refinery</td>\n      <td>Dvorsi Empire Assembly</td>\n      <td>Common</td>\n    </tr>\n  </tbody>\n</table>\n</div>",
      "text/plain": "            Name  Distance  Population    Government   Allegiance  \\\n0       Acokwang      14.2       41163     Patronage       Empire   \n1         Aerial      17.1      250000     Patronage       Empire   \n2          Ankou      17.0     3341225     Patronage       Empire   \n3       Apathaam       6.0     3506390   Cooperative  Independent   \n4         Aurgel      18.5       23626   Cooperative  Independent   \n5         Azrael       0.0     4500000   Cooperative  Independent   \n6    Bactondinks      19.5      298081   Cooperative  Independent   \n7           Brib       7.3      489963     Patronage       Empire   \n8         Cardea       9.9      750000   Cooperative  Independent   \n9       Carthage      17.3       65000     Patronage       Empire   \n10        Dvorsi      14.5    65081959   Cooperative  Independent   \n11        Exioce       8.4    16494916   Cooperative  Independent   \n12      Gaula Wu      14.5    27508428     Patronage       Empire   \n13        Gubian      16.4     2576706     Corporate       Empire   \n14        Jimavi      19.8        2875   Cooperative  Independent   \n15        Laedla      20.0   600000000     Patronage       Empire   \n16     Ling Deti      17.3       70414   Cooperative  Independent   \n17       Maunggu      20.0  7308584213     Corporate       Empire   \n18        Morana      12.3     4199999     Patronage       Empire   \n19  Mu Horologii       7.9  7940592765     Patronage       Empire   \n20         Murus      12.9       91108     Patronage       Empire   \n21          Ngun      19.6  2336244344     Patronage       Empire   \n22         Njiri      12.0    17186307   Cooperative  Independent   \n23    NLTT 10055      15.1       58489     Patronage       Empire   \n24     NLTT 7789      14.1       85489     Patronage       Empire   \n25            Nu      17.5     3337827     Patronage       Empire   \n26       Nzamnet      17.2      144319  Dictatorship       Empire   \n27        Ombiko      19.6       57079     Patronage       Empire   \n\n   Security Level Primary Economy       Controlling Faction Reserve Level  \n0          Medium      Extraction          Lavigny's Legion      Depleted  \n1             Low          Colony          Lavigny's Legion      Depleted  \n2          Medium        Refinery          Lavigny's Legion        Common  \n3          Medium      Industrial       The Order of Mobius           Low  \n4             Low      Extraction     Libertas Co-operative      Depleted  \n5          Medium      Extraction       The Order of Mobius           Low  \n6          Medium        Refinery       The Order of Mobius        Common  \n7             Low    Terraforming          Lavigny's Legion           Low  \n8          Medium     Agriculture       The Order of Mobius           Low  \n9             Low        Refinery          Lavigny's Legion      Depleted  \n10           High       High Tech       The Order of Mobius        Common  \n11         Medium         Tourism       The Order of Mobius           Low  \n12         Medium      Industrial  Gaula Wu Emperor's Grace           Low  \n13            Low      Industrial      Imperial Trade Works           Low  \n14            Low        Military       The Order of Mobius      Depleted  \n15         Medium      Extraction    Laedla Empire Assembly      Depleted  \n16         Medium          Colony       The Order of Mobius      Depleted  \n17         Medium     Agriculture      Outer Worlds Network        Common  \n18         Medium     Agriculture     Morana Patrons of Law           Low  \n19         Medium     Agriculture          Lavigny's Legion           Low  \n20            Low        Refinery          Lavigny's Legion           Low  \n21         Medium     Agriculture          Lavigny's Legion           Low  \n22         Medium       High Tech       The Order of Mobius      Depleted  \n23         Medium      Extraction          Lavigny's Legion      Depleted  \n24         Medium      Extraction   Rata Bares Empire Group      Depleted  \n25         Medium       High Tech          Lavigny's Legion           Low  \n26         Medium      Extraction                 Black Ram      Depleted  \n27            Low        Refinery    Dvorsi Empire Assembly        Common  "
     },
     "execution_count": 8,
     "metadata": {},
     "output_type": "execute_result"
    }
   ],
   "source": [
    "nearby_systems = eddb.query_nearby_systems(origin, radius)\n",
    "system_summaries = eddb.summarize_systems(nearby_systems, origin)\n",
    "system_summaries"
   ]
  },
  {
   "cell_type": "code",
   "execution_count": 10,
   "metadata": {},
   "outputs": [],
   "source": [
    "system_summaries.to_clipboard(header=None, index=False)"
   ]
  }
 ],
 "metadata": {
  "kernelspec": {
   "display_name": "Python 3",
   "language": "python",
   "name": "python3"
  },
  "language_info": {
   "codemirror_mode": {
    "name": "ipython",
    "version": 3
   },
   "file_extension": ".py",
   "mimetype": "text/x-python",
   "name": "python",
   "nbconvert_exporter": "python",
   "pygments_lexer": "ipython3",
   "version": "3.7.3-final"
  }
 },
 "nbformat": 4,
 "nbformat_minor": 4
}