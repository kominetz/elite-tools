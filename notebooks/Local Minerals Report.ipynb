{
 "cells": [
  {
   "cell_type": "code",
   "execution_count": null,
   "metadata": {
    "tags": []
   },
   "outputs": [],
   "source": [
    "import os\n",
    "import os.path\n",
    "import sys\n",
    "from pathlib import Path\n",
    "sys.path.insert(0, '..')\n",
    "from elitetools import eddb\n",
    "eddb.load_feeds()"
   ]
  },
  {
   "cell_type": "code",
   "execution_count": null,
   "metadata": {},
   "outputs": [],
   "source": [
    "demand_factor   = 4\n",
    "max_jumps       = 2\n",
    "\n",
    "main_system          = \"LHS 492\"\n",
    "core_mining_system   = main_system \n",
    "hybrid_mining_system = main_system \n",
    "jump_range           = 20.28          # Laden jump range of mining ship\n",
    "cargo_capacity       = 32             # Cargo capacity of mining ship"
   ]
  },
  {
   "source": [
    "# Best Nearby Mineral Listings #"
   ],
   "cell_type": "markdown",
   "metadata": {}
  },
  {
   "cell_type": "code",
   "execution_count": null,
   "metadata": {
    "tags": []
   },
   "outputs": [],
   "source": [
    "eddb.best_scoring_minerals(main_system, jump_range * max_jumps, commodity_count=5, top_count=15, min_score = 0.1)"
   ]
  },
  {
   "source": [
    "## Best Nearby Core Minerals Prices ##"
   ],
   "cell_type": "markdown",
   "metadata": {}
  },
  {
   "cell_type": "code",
   "execution_count": null,
   "metadata": {},
   "outputs": [],
   "source": [
    "eddb.best_rt_listings(hybrid_mining_system, jump_range * max_jumps, top_count=10, by_commodity=eddb.core_minerals, min_demand = cargo_capacity * demand_factor)"
   ]
  },
  {
   "cell_type": "markdown",
   "metadata": {},
   "source": [
    "## Best Nearby Hybrid Minerals Prices ##"
   ]
  },
  {
   "cell_type": "code",
   "execution_count": null,
   "metadata": {
    "scrolled": true
   },
   "outputs": [],
   "source": [
    "eddb.best_rt_listings(hybrid_mining_system, jump_range * max_jumps, top_count=10, by_commodity=['Painite', 'Palladium', 'Platinum'], min_demand = cargo_capacity * demand_factor)"
   ]
  },
  {
   "cell_type": "markdown",
   "metadata": {},
   "source": [
    "## Best Nearby Listing Per Mineral ##"
   ]
  },
  {
   "cell_type": "code",
   "execution_count": null,
   "metadata": {
    "scrolled": false
   },
   "outputs": [],
   "source": [
    "eddb.best_scoring_minerals(main_system, jump_range * max_jumps, commodity_count=1, top_count=25, min_score = 0.0)"
   ]
  },
  {
   "cell_type": "markdown",
   "metadata": {},
   "source": [
    "## Best Global Listing Per Mineral ##"
   ]
  },
  {
   "cell_type": "code",
   "execution_count": null,
   "metadata": {},
   "outputs": [],
   "source": [
    "eddb.best_scoring_minerals('Sol', 10000, commodity_count=1, top_count=25, min_score = 0.0)"
   ]
  }
 ],
 "metadata": {
  "kernelspec": {
   "name": "python3",
   "display_name": "Python 3.9.5 64-bit"
  },
  "language_info": {
   "codemirror_mode": {
    "name": "ipython",
    "version": 3
   },
   "file_extension": ".py",
   "mimetype": "text/x-python",
   "name": "python",
   "nbconvert_exporter": "python",
   "pygments_lexer": "ipython3",
   "version": "3.9.5"
  },
  "metadata": {
   "interpreter": {
    "hash": "9d35b96a40f6b9c941905013a647818129c5962a78f981fa1f821d9e05c6ff52"
   }
  },
  "interpreter": {
   "hash": "9d35b96a40f6b9c941905013a647818129c5962a78f981fa1f821d9e05c6ff52"
  }
 },
 "nbformat": 4,
 "nbformat_minor": 4
}