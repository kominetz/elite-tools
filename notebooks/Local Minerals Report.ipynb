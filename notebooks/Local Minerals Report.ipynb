{
 "cells": [
  {
   "cell_type": "code",
   "execution_count": 15,
   "metadata": {
    "tags": []
   },
   "outputs": [],
   "source": [
    "import os\n",
    "import os.path\n",
    "import sys\n",
    "from pathlib import Path\n",
    "sys.path.insert(0, '..')\n",
    "from elitetools import eddb\n",
    "eddb.load_feeds()"
   ]
  },
  {
   "cell_type": "code",
   "execution_count": 16,
   "metadata": {},
   "outputs": [],
   "source": [
    "demand_factor   = 4\n",
    "max_jumps       = 2\n",
    "\n",
    "main_system          = \"LHS 492\"\n",
    "core_mining_system   = main_system \n",
    "hybrid_mining_system = main_system \n",
    "jump_range           = 20.28          # Laden jump range of mining ship\n",
    "cargo_capacity       = 32             # Cargo capacity of mining ship"
   ]
  },
  {
   "source": [
    "# Best Nearby Mineral Listings #"
   ],
   "cell_type": "markdown",
   "metadata": {}
  },
  {
   "cell_type": "code",
   "execution_count": 17,
   "metadata": {
    "tags": []
   },
   "outputs": [
    {
     "output_type": "stream",
     "name": "stderr",
     "text": [
      "C:\\Users\\camen\\AppData\\Local\\Programs\\Python\\Python39\\lib\\site-packages\\pandas\\core\\frame.py:1549: FutureWarning: Using short name for 'orient' is deprecated. Only the options: ('dict', list, 'series', 'split', 'records', 'index') will be used in a future version. Use one of the above to silence this warning.\n  warnings.warn(\n"
     ]
    },
    {
     "output_type": "execute_result",
     "data": {
      "text/plain": [
       "                   Commodity  Sell Price  Sell/Avg  Demand    As Of  Distance  \\\n",
       "0                   Platinum      285867      3.91    4087  2 hours      42.5   \n",
       "1   Low Temperature Diamonds      415220      2.90    1032  17 days      26.2   \n",
       "2   Low Temperature Diamonds      408366      2.84    2611  16 days      20.6   \n",
       "3   Low Temperature Diamonds      398770      2.75    1034  16 days      40.8   \n",
       "4                 Musgravite      586606      1.95   10000   3 days      20.1   \n",
       "5                Serendibite      508525      1.94    5422  4 hours      29.6   \n",
       "6                Serendibite      501557      1.90    1219   2 days      14.1   \n",
       "7                  Benitoite      495673      2.32    5343  4 hours      29.6   \n",
       "8                  Benitoite      491634      2.29    1206   2 days      14.1   \n",
       "9                 Void Opals      465079      2.44    1505   1 days      17.4   \n",
       "10                Void Opals      466748      2.45    1475   4 days      30.2   \n",
       "11                Void Opals      466748      2.45    2209   3 days      46.8   \n",
       "12                Void Opals      464060      2.43    2362  9 hours      47.5   \n",
       "13              Rhodplumsite      291865      0.65    1126   1 days      17.4   \n",
       "14                      Gold       64193      0.35  630605   2 days      40.4   \n",
       "\n",
       "        System            Station Pad  Score  \n",
       "0    Mutujiali     Siegel Orbital   L   57.0  \n",
       "1    Kuwemargl      Pritchard Hub   M   52.0  \n",
       "2    Nagaybaks       Johnson Dock   M   51.0  \n",
       "3   HIP 107936  Schulhof Terminal   M   50.0  \n",
       "4       Regira        Samuda Dock   L   44.0  \n",
       "5     LHS 3675  Broderick Gateway   L   38.0  \n",
       "6        Turir    Lethem Terminal   M   38.0  \n",
       "7     LHS 3675  Broderick Gateway   L   37.0  \n",
       "8        Turir    Lethem Terminal   M   37.0  \n",
       "9        Rauta     Giraud Station   L   35.0  \n",
       "10       Orcus       Oort Gateway   M   35.0  \n",
       "11  CPC 22 212    Rechtin Gateway   M   35.0  \n",
       "12  NLTT 56379            Xin Hub   L   35.0  \n",
       "13       Rauta     Giraud Station   L   22.0  \n",
       "14    Yimanbin  Vaucanson Gateway   M   10.0  "
      ],
      "text/html": "<div>\n<style scoped>\n    .dataframe tbody tr th:only-of-type {\n        vertical-align: middle;\n    }\n\n    .dataframe tbody tr th {\n        vertical-align: top;\n    }\n\n    .dataframe thead th {\n        text-align: right;\n    }\n</style>\n<table border=\"1\" class=\"dataframe\">\n  <thead>\n    <tr style=\"text-align: right;\">\n      <th></th>\n      <th>Commodity</th>\n      <th>Sell Price</th>\n      <th>Sell/Avg</th>\n      <th>Demand</th>\n      <th>As Of</th>\n      <th>Distance</th>\n      <th>System</th>\n      <th>Station</th>\n      <th>Pad</th>\n      <th>Score</th>\n    </tr>\n  </thead>\n  <tbody>\n    <tr>\n      <th>0</th>\n      <td>Platinum</td>\n      <td>285867</td>\n      <td>3.91</td>\n      <td>4087</td>\n      <td>2 hours</td>\n      <td>42.5</td>\n      <td>Mutujiali</td>\n      <td>Siegel Orbital</td>\n      <td>L</td>\n      <td>57.0</td>\n    </tr>\n    <tr>\n      <th>1</th>\n      <td>Low Temperature Diamonds</td>\n      <td>415220</td>\n      <td>2.90</td>\n      <td>1032</td>\n      <td>17 days</td>\n      <td>26.2</td>\n      <td>Kuwemargl</td>\n      <td>Pritchard Hub</td>\n      <td>M</td>\n      <td>52.0</td>\n    </tr>\n    <tr>\n      <th>2</th>\n      <td>Low Temperature Diamonds</td>\n      <td>408366</td>\n      <td>2.84</td>\n      <td>2611</td>\n      <td>16 days</td>\n      <td>20.6</td>\n      <td>Nagaybaks</td>\n      <td>Johnson Dock</td>\n      <td>M</td>\n      <td>51.0</td>\n    </tr>\n    <tr>\n      <th>3</th>\n      <td>Low Temperature Diamonds</td>\n      <td>398770</td>\n      <td>2.75</td>\n      <td>1034</td>\n      <td>16 days</td>\n      <td>40.8</td>\n      <td>HIP 107936</td>\n      <td>Schulhof Terminal</td>\n      <td>M</td>\n      <td>50.0</td>\n    </tr>\n    <tr>\n      <th>4</th>\n      <td>Musgravite</td>\n      <td>586606</td>\n      <td>1.95</td>\n      <td>10000</td>\n      <td>3 days</td>\n      <td>20.1</td>\n      <td>Regira</td>\n      <td>Samuda Dock</td>\n      <td>L</td>\n      <td>44.0</td>\n    </tr>\n    <tr>\n      <th>5</th>\n      <td>Serendibite</td>\n      <td>508525</td>\n      <td>1.94</td>\n      <td>5422</td>\n      <td>4 hours</td>\n      <td>29.6</td>\n      <td>LHS 3675</td>\n      <td>Broderick Gateway</td>\n      <td>L</td>\n      <td>38.0</td>\n    </tr>\n    <tr>\n      <th>6</th>\n      <td>Serendibite</td>\n      <td>501557</td>\n      <td>1.90</td>\n      <td>1219</td>\n      <td>2 days</td>\n      <td>14.1</td>\n      <td>Turir</td>\n      <td>Lethem Terminal</td>\n      <td>M</td>\n      <td>38.0</td>\n    </tr>\n    <tr>\n      <th>7</th>\n      <td>Benitoite</td>\n      <td>495673</td>\n      <td>2.32</td>\n      <td>5343</td>\n      <td>4 hours</td>\n      <td>29.6</td>\n      <td>LHS 3675</td>\n      <td>Broderick Gateway</td>\n      <td>L</td>\n      <td>37.0</td>\n    </tr>\n    <tr>\n      <th>8</th>\n      <td>Benitoite</td>\n      <td>491634</td>\n      <td>2.29</td>\n      <td>1206</td>\n      <td>2 days</td>\n      <td>14.1</td>\n      <td>Turir</td>\n      <td>Lethem Terminal</td>\n      <td>M</td>\n      <td>37.0</td>\n    </tr>\n    <tr>\n      <th>9</th>\n      <td>Void Opals</td>\n      <td>465079</td>\n      <td>2.44</td>\n      <td>1505</td>\n      <td>1 days</td>\n      <td>17.4</td>\n      <td>Rauta</td>\n      <td>Giraud Station</td>\n      <td>L</td>\n      <td>35.0</td>\n    </tr>\n    <tr>\n      <th>10</th>\n      <td>Void Opals</td>\n      <td>466748</td>\n      <td>2.45</td>\n      <td>1475</td>\n      <td>4 days</td>\n      <td>30.2</td>\n      <td>Orcus</td>\n      <td>Oort Gateway</td>\n      <td>M</td>\n      <td>35.0</td>\n    </tr>\n    <tr>\n      <th>11</th>\n      <td>Void Opals</td>\n      <td>466748</td>\n      <td>2.45</td>\n      <td>2209</td>\n      <td>3 days</td>\n      <td>46.8</td>\n      <td>CPC 22 212</td>\n      <td>Rechtin Gateway</td>\n      <td>M</td>\n      <td>35.0</td>\n    </tr>\n    <tr>\n      <th>12</th>\n      <td>Void Opals</td>\n      <td>464060</td>\n      <td>2.43</td>\n      <td>2362</td>\n      <td>9 hours</td>\n      <td>47.5</td>\n      <td>NLTT 56379</td>\n      <td>Xin Hub</td>\n      <td>L</td>\n      <td>35.0</td>\n    </tr>\n    <tr>\n      <th>13</th>\n      <td>Rhodplumsite</td>\n      <td>291865</td>\n      <td>0.65</td>\n      <td>1126</td>\n      <td>1 days</td>\n      <td>17.4</td>\n      <td>Rauta</td>\n      <td>Giraud Station</td>\n      <td>L</td>\n      <td>22.0</td>\n    </tr>\n    <tr>\n      <th>14</th>\n      <td>Gold</td>\n      <td>64193</td>\n      <td>0.35</td>\n      <td>630605</td>\n      <td>2 days</td>\n      <td>40.4</td>\n      <td>Yimanbin</td>\n      <td>Vaucanson Gateway</td>\n      <td>M</td>\n      <td>10.0</td>\n    </tr>\n  </tbody>\n</table>\n</div>"
     },
     "metadata": {},
     "execution_count": 17
    }
   ],
   "source": [
    "eddb.best_scoring_minerals(main_system, jump_range * max_jumps, commodity_count=5, top_count=15, min_score = 0.1)"
   ]
  },
  {
   "source": [
    "## Best Nearby Core Minerals Prices ##"
   ],
   "cell_type": "markdown",
   "metadata": {}
  },
  {
   "cell_type": "code",
   "execution_count": 18,
   "metadata": {},
   "outputs": [
    {
     "output_type": "stream",
     "name": "stderr",
     "text": [
      "C:\\Users\\camen\\AppData\\Local\\Programs\\Python\\Python39\\lib\\site-packages\\pandas\\core\\frame.py:1549: FutureWarning: Using short name for 'orient' is deprecated. Only the options: ('dict', list, 'series', 'split', 'records', 'index') will be used in a future version. Use one of the above to silence this warning.\n  warnings.warn(\n"
     ]
    },
    {
     "output_type": "execute_result",
     "data": {
      "text/plain": [
       "                   Commodity  Sell Price  Sell/Avg  Demand    As Of  Distance  \\\n",
       "0                 Musgravite      586606      1.95   10000   3 days      20.1   \n",
       "1                Serendibite      508525      1.94    5422  4 hours      29.6   \n",
       "2                Serendibite      501557      1.90    1219   2 days      14.1   \n",
       "3                  Benitoite      495673      2.32    5343  4 hours      29.6   \n",
       "4                  Benitoite      491634      2.29    1206   2 days      14.1   \n",
       "5                 Void Opals      466748      2.45    1475   4 days      30.2   \n",
       "6                 Void Opals      466748      2.45    2209   3 days      46.8   \n",
       "7                 Void Opals      465079      2.44    1505   1 days      17.4   \n",
       "8                 Void Opals      464060      2.43    2362  9 hours      47.5   \n",
       "9   Low Temperature Diamonds      415220      2.90    1032  17 days      26.2   \n",
       "10  Low Temperature Diamonds      408366      2.84    2611  16 days      20.6   \n",
       "11  Low Temperature Diamonds      398770      2.75    1034  16 days      40.8   \n",
       "12              Rhodplumsite      291865      0.65    1126   1 days      17.4   \n",
       "13                  Platinum      285867      3.91    4087  2 hours      42.5   \n",
       "\n",
       "        System            Station Pad  \n",
       "0       Regira        Samuda Dock   L  \n",
       "1     LHS 3675  Broderick Gateway   L  \n",
       "2        Turir    Lethem Terminal   M  \n",
       "3     LHS 3675  Broderick Gateway   L  \n",
       "4        Turir    Lethem Terminal   M  \n",
       "5        Orcus       Oort Gateway   M  \n",
       "6   CPC 22 212    Rechtin Gateway   M  \n",
       "7        Rauta     Giraud Station   L  \n",
       "8   NLTT 56379            Xin Hub   L  \n",
       "9    Kuwemargl      Pritchard Hub   M  \n",
       "10   Nagaybaks       Johnson Dock   M  \n",
       "11  HIP 107936  Schulhof Terminal   M  \n",
       "12       Rauta     Giraud Station   L  \n",
       "13   Mutujiali     Siegel Orbital   L  "
      ],
      "text/html": "<div>\n<style scoped>\n    .dataframe tbody tr th:only-of-type {\n        vertical-align: middle;\n    }\n\n    .dataframe tbody tr th {\n        vertical-align: top;\n    }\n\n    .dataframe thead th {\n        text-align: right;\n    }\n</style>\n<table border=\"1\" class=\"dataframe\">\n  <thead>\n    <tr style=\"text-align: right;\">\n      <th></th>\n      <th>Commodity</th>\n      <th>Sell Price</th>\n      <th>Sell/Avg</th>\n      <th>Demand</th>\n      <th>As Of</th>\n      <th>Distance</th>\n      <th>System</th>\n      <th>Station</th>\n      <th>Pad</th>\n    </tr>\n  </thead>\n  <tbody>\n    <tr>\n      <th>0</th>\n      <td>Musgravite</td>\n      <td>586606</td>\n      <td>1.95</td>\n      <td>10000</td>\n      <td>3 days</td>\n      <td>20.1</td>\n      <td>Regira</td>\n      <td>Samuda Dock</td>\n      <td>L</td>\n    </tr>\n    <tr>\n      <th>1</th>\n      <td>Serendibite</td>\n      <td>508525</td>\n      <td>1.94</td>\n      <td>5422</td>\n      <td>4 hours</td>\n      <td>29.6</td>\n      <td>LHS 3675</td>\n      <td>Broderick Gateway</td>\n      <td>L</td>\n    </tr>\n    <tr>\n      <th>2</th>\n      <td>Serendibite</td>\n      <td>501557</td>\n      <td>1.90</td>\n      <td>1219</td>\n      <td>2 days</td>\n      <td>14.1</td>\n      <td>Turir</td>\n      <td>Lethem Terminal</td>\n      <td>M</td>\n    </tr>\n    <tr>\n      <th>3</th>\n      <td>Benitoite</td>\n      <td>495673</td>\n      <td>2.32</td>\n      <td>5343</td>\n      <td>4 hours</td>\n      <td>29.6</td>\n      <td>LHS 3675</td>\n      <td>Broderick Gateway</td>\n      <td>L</td>\n    </tr>\n    <tr>\n      <th>4</th>\n      <td>Benitoite</td>\n      <td>491634</td>\n      <td>2.29</td>\n      <td>1206</td>\n      <td>2 days</td>\n      <td>14.1</td>\n      <td>Turir</td>\n      <td>Lethem Terminal</td>\n      <td>M</td>\n    </tr>\n    <tr>\n      <th>5</th>\n      <td>Void Opals</td>\n      <td>466748</td>\n      <td>2.45</td>\n      <td>1475</td>\n      <td>4 days</td>\n      <td>30.2</td>\n      <td>Orcus</td>\n      <td>Oort Gateway</td>\n      <td>M</td>\n    </tr>\n    <tr>\n      <th>6</th>\n      <td>Void Opals</td>\n      <td>466748</td>\n      <td>2.45</td>\n      <td>2209</td>\n      <td>3 days</td>\n      <td>46.8</td>\n      <td>CPC 22 212</td>\n      <td>Rechtin Gateway</td>\n      <td>M</td>\n    </tr>\n    <tr>\n      <th>7</th>\n      <td>Void Opals</td>\n      <td>465079</td>\n      <td>2.44</td>\n      <td>1505</td>\n      <td>1 days</td>\n      <td>17.4</td>\n      <td>Rauta</td>\n      <td>Giraud Station</td>\n      <td>L</td>\n    </tr>\n    <tr>\n      <th>8</th>\n      <td>Void Opals</td>\n      <td>464060</td>\n      <td>2.43</td>\n      <td>2362</td>\n      <td>9 hours</td>\n      <td>47.5</td>\n      <td>NLTT 56379</td>\n      <td>Xin Hub</td>\n      <td>L</td>\n    </tr>\n    <tr>\n      <th>9</th>\n      <td>Low Temperature Diamonds</td>\n      <td>415220</td>\n      <td>2.90</td>\n      <td>1032</td>\n      <td>17 days</td>\n      <td>26.2</td>\n      <td>Kuwemargl</td>\n      <td>Pritchard Hub</td>\n      <td>M</td>\n    </tr>\n    <tr>\n      <th>10</th>\n      <td>Low Temperature Diamonds</td>\n      <td>408366</td>\n      <td>2.84</td>\n      <td>2611</td>\n      <td>16 days</td>\n      <td>20.6</td>\n      <td>Nagaybaks</td>\n      <td>Johnson Dock</td>\n      <td>M</td>\n    </tr>\n    <tr>\n      <th>11</th>\n      <td>Low Temperature Diamonds</td>\n      <td>398770</td>\n      <td>2.75</td>\n      <td>1034</td>\n      <td>16 days</td>\n      <td>40.8</td>\n      <td>HIP 107936</td>\n      <td>Schulhof Terminal</td>\n      <td>M</td>\n    </tr>\n    <tr>\n      <th>12</th>\n      <td>Rhodplumsite</td>\n      <td>291865</td>\n      <td>0.65</td>\n      <td>1126</td>\n      <td>1 days</td>\n      <td>17.4</td>\n      <td>Rauta</td>\n      <td>Giraud Station</td>\n      <td>L</td>\n    </tr>\n    <tr>\n      <th>13</th>\n      <td>Platinum</td>\n      <td>285867</td>\n      <td>3.91</td>\n      <td>4087</td>\n      <td>2 hours</td>\n      <td>42.5</td>\n      <td>Mutujiali</td>\n      <td>Siegel Orbital</td>\n      <td>L</td>\n    </tr>\n  </tbody>\n</table>\n</div>"
     },
     "metadata": {},
     "execution_count": 18
    }
   ],
   "source": [
    "eddb.best_rt_listings(hybrid_mining_system, jump_range * max_jumps, top_count=10, by_commodity=eddb.core_minerals, min_demand = cargo_capacity * demand_factor)"
   ]
  },
  {
   "cell_type": "markdown",
   "metadata": {},
   "source": [
    "## Best Nearby Hybrid Minerals Prices ##"
   ]
  },
  {
   "cell_type": "code",
   "execution_count": 19,
   "metadata": {
    "scrolled": true
   },
   "outputs": [
    {
     "output_type": "stream",
     "name": "stderr",
     "text": [
      "C:\\Users\\camen\\AppData\\Local\\Programs\\Python\\Python39\\lib\\site-packages\\pandas\\core\\frame.py:1549: FutureWarning: Using short name for 'orient' is deprecated. Only the options: ('dict', list, 'series', 'split', 'records', 'index') will be used in a future version. Use one of the above to silence this warning.\n  warnings.warn(\n"
     ]
    },
    {
     "output_type": "execute_result",
     "data": {
      "text/plain": [
       "  Commodity  Sell Price  Sell/Avg  Demand    As Of  Distance     System  \\\n",
       "0  Platinum      285867      3.91    4087  2 hours      42.5  Mutujiali   \n",
       "\n",
       "          Station Pad  \n",
       "0  Siegel Orbital   L  "
      ],
      "text/html": "<div>\n<style scoped>\n    .dataframe tbody tr th:only-of-type {\n        vertical-align: middle;\n    }\n\n    .dataframe tbody tr th {\n        vertical-align: top;\n    }\n\n    .dataframe thead th {\n        text-align: right;\n    }\n</style>\n<table border=\"1\" class=\"dataframe\">\n  <thead>\n    <tr style=\"text-align: right;\">\n      <th></th>\n      <th>Commodity</th>\n      <th>Sell Price</th>\n      <th>Sell/Avg</th>\n      <th>Demand</th>\n      <th>As Of</th>\n      <th>Distance</th>\n      <th>System</th>\n      <th>Station</th>\n      <th>Pad</th>\n    </tr>\n  </thead>\n  <tbody>\n    <tr>\n      <th>0</th>\n      <td>Platinum</td>\n      <td>285867</td>\n      <td>3.91</td>\n      <td>4087</td>\n      <td>2 hours</td>\n      <td>42.5</td>\n      <td>Mutujiali</td>\n      <td>Siegel Orbital</td>\n      <td>L</td>\n    </tr>\n  </tbody>\n</table>\n</div>"
     },
     "metadata": {},
     "execution_count": 19
    }
   ],
   "source": [
    "eddb.best_rt_listings(hybrid_mining_system, jump_range * max_jumps, top_count=10, by_commodity=['Painite', 'Palladium', 'Platinum'], min_demand = cargo_capacity * demand_factor)"
   ]
  },
  {
   "cell_type": "markdown",
   "metadata": {},
   "source": [
    "## Best Nearby Listing Per Mineral ##"
   ]
  },
  {
   "cell_type": "code",
   "execution_count": 20,
   "metadata": {
    "scrolled": false
   },
   "outputs": [
    {
     "output_type": "stream",
     "name": "stderr",
     "text": [
      "C:\\Users\\camen\\AppData\\Local\\Programs\\Python\\Python39\\lib\\site-packages\\pandas\\core\\frame.py:1549: FutureWarning: Using short name for 'orient' is deprecated. Only the options: ('dict', list, 'series', 'split', 'records', 'index') will be used in a future version. Use one of the above to silence this warning.\n  warnings.warn(\n"
     ]
    },
    {
     "output_type": "execute_result",
     "data": {
      "text/plain": [
       "                  Commodity  Sell Price  Sell/Avg  Demand    As Of  Distance  \\\n",
       "0                  Platinum      285867      3.91    4087  2 hours      42.5   \n",
       "1  Low Temperature Diamonds      415220      2.90    1032  17 days      26.2   \n",
       "2                Musgravite      586606      1.95   10000   3 days      20.1   \n",
       "3               Serendibite      508525      1.94    5422  4 hours      29.6   \n",
       "4                 Benitoite      495673      2.32    5343  4 hours      29.6   \n",
       "5                Void Opals      465079      2.44    1505   1 days      17.4   \n",
       "6              Rhodplumsite      291865      0.65    1126   1 days      17.4   \n",
       "7                      Gold       64193      0.35  630605   2 days      40.4   \n",
       "\n",
       "      System            Station Pad  Score  \n",
       "0  Mutujiali     Siegel Orbital   L   57.0  \n",
       "1  Kuwemargl      Pritchard Hub   M   52.0  \n",
       "2     Regira        Samuda Dock   L   44.0  \n",
       "3   LHS 3675  Broderick Gateway   L   38.0  \n",
       "4   LHS 3675  Broderick Gateway   L   37.0  \n",
       "5      Rauta     Giraud Station   L   35.0  \n",
       "6      Rauta     Giraud Station   L   22.0  \n",
       "7   Yimanbin  Vaucanson Gateway   M   10.0  "
      ],
      "text/html": "<div>\n<style scoped>\n    .dataframe tbody tr th:only-of-type {\n        vertical-align: middle;\n    }\n\n    .dataframe tbody tr th {\n        vertical-align: top;\n    }\n\n    .dataframe thead th {\n        text-align: right;\n    }\n</style>\n<table border=\"1\" class=\"dataframe\">\n  <thead>\n    <tr style=\"text-align: right;\">\n      <th></th>\n      <th>Commodity</th>\n      <th>Sell Price</th>\n      <th>Sell/Avg</th>\n      <th>Demand</th>\n      <th>As Of</th>\n      <th>Distance</th>\n      <th>System</th>\n      <th>Station</th>\n      <th>Pad</th>\n      <th>Score</th>\n    </tr>\n  </thead>\n  <tbody>\n    <tr>\n      <th>0</th>\n      <td>Platinum</td>\n      <td>285867</td>\n      <td>3.91</td>\n      <td>4087</td>\n      <td>2 hours</td>\n      <td>42.5</td>\n      <td>Mutujiali</td>\n      <td>Siegel Orbital</td>\n      <td>L</td>\n      <td>57.0</td>\n    </tr>\n    <tr>\n      <th>1</th>\n      <td>Low Temperature Diamonds</td>\n      <td>415220</td>\n      <td>2.90</td>\n      <td>1032</td>\n      <td>17 days</td>\n      <td>26.2</td>\n      <td>Kuwemargl</td>\n      <td>Pritchard Hub</td>\n      <td>M</td>\n      <td>52.0</td>\n    </tr>\n    <tr>\n      <th>2</th>\n      <td>Musgravite</td>\n      <td>586606</td>\n      <td>1.95</td>\n      <td>10000</td>\n      <td>3 days</td>\n      <td>20.1</td>\n      <td>Regira</td>\n      <td>Samuda Dock</td>\n      <td>L</td>\n      <td>44.0</td>\n    </tr>\n    <tr>\n      <th>3</th>\n      <td>Serendibite</td>\n      <td>508525</td>\n      <td>1.94</td>\n      <td>5422</td>\n      <td>4 hours</td>\n      <td>29.6</td>\n      <td>LHS 3675</td>\n      <td>Broderick Gateway</td>\n      <td>L</td>\n      <td>38.0</td>\n    </tr>\n    <tr>\n      <th>4</th>\n      <td>Benitoite</td>\n      <td>495673</td>\n      <td>2.32</td>\n      <td>5343</td>\n      <td>4 hours</td>\n      <td>29.6</td>\n      <td>LHS 3675</td>\n      <td>Broderick Gateway</td>\n      <td>L</td>\n      <td>37.0</td>\n    </tr>\n    <tr>\n      <th>5</th>\n      <td>Void Opals</td>\n      <td>465079</td>\n      <td>2.44</td>\n      <td>1505</td>\n      <td>1 days</td>\n      <td>17.4</td>\n      <td>Rauta</td>\n      <td>Giraud Station</td>\n      <td>L</td>\n      <td>35.0</td>\n    </tr>\n    <tr>\n      <th>6</th>\n      <td>Rhodplumsite</td>\n      <td>291865</td>\n      <td>0.65</td>\n      <td>1126</td>\n      <td>1 days</td>\n      <td>17.4</td>\n      <td>Rauta</td>\n      <td>Giraud Station</td>\n      <td>L</td>\n      <td>22.0</td>\n    </tr>\n    <tr>\n      <th>7</th>\n      <td>Gold</td>\n      <td>64193</td>\n      <td>0.35</td>\n      <td>630605</td>\n      <td>2 days</td>\n      <td>40.4</td>\n      <td>Yimanbin</td>\n      <td>Vaucanson Gateway</td>\n      <td>M</td>\n      <td>10.0</td>\n    </tr>\n  </tbody>\n</table>\n</div>"
     },
     "metadata": {},
     "execution_count": 20
    }
   ],
   "source": [
    "eddb.best_scoring_minerals(main_system, jump_range * max_jumps, commodity_count=1, top_count=25, min_score = 0.0)"
   ]
  },
  {
   "cell_type": "markdown",
   "metadata": {},
   "source": [
    "## Best Global Listing Per Mineral ##"
   ]
  },
  {
   "cell_type": "code",
   "execution_count": 21,
   "metadata": {},
   "outputs": [
    {
     "output_type": "stream",
     "name": "stderr",
     "text": [
      "C:\\Users\\camen\\AppData\\Local\\Programs\\Python\\Python39\\lib\\site-packages\\pandas\\core\\frame.py:1549: FutureWarning: Using short name for 'orient' is deprecated. Only the options: ('dict', list, 'series', 'split', 'records', 'index') will be used in a future version. Use one of the above to silence this warning.\n  warnings.warn(\n"
     ]
    },
    {
     "output_type": "execute_result",
     "data": {
      "text/plain": [
       "                   Commodity  Sell Price  Sell/Avg  Demand    As Of  Distance  \\\n",
       "0                 Musgravite      963191      3.85    1622   9 mins     114.5   \n",
       "1                    Painite      341772      5.45    1525   9 mins     114.5   \n",
       "2                  Benitoite      900571      5.03    2004   9 mins     114.5   \n",
       "3               Rhodplumsite      838778      3.74   11004  2 hours     158.8   \n",
       "4                   Platinum      287864      3.94    2323  2 hours     178.2   \n",
       "5                Serendibite      768226      3.45    2059   9 mins     114.5   \n",
       "6              Grandidierite      760034      2.85    2064   9 mins     114.5   \n",
       "7                   Monazite      762766      2.80    1708   3 days     106.7   \n",
       "8   Low Temperature Diamonds      444008      3.17    1556  16 days     262.1   \n",
       "9                Alexandrite      698073      2.21   13217  2 hours     158.8   \n",
       "10                    Osmium      273000      5.04   69390  23 mins      64.0   \n",
       "11                Void Opals      478638      2.54    1239   5 days     102.2   \n",
       "12                 Palladium       71182      0.41   15895  7 hours     194.8   \n",
       "13                      Gold       67409      0.42    1673   5 days     232.5   \n",
       "14                Bromellite      116667      2.83   29100   5 days     117.1   \n",
       "15                  Samarium       48517      0.88    1960   8 days      89.5   \n",
       "16                   Tritium       61820      0.20    6101  5 hours     157.0   \n",
       "17                    Silver       49279      0.32   20882   1 days     175.8   \n",
       "\n",
       "         System                    Station Pad  Score  \n",
       "0         Pongo             Antonelli City   L   72.0  \n",
       "1         Pongo             Antonelli City   L   68.0  \n",
       "2         Pongo             Antonelli City   L   68.0  \n",
       "3   Shapsugabus                   Abe Dock   L   63.0  \n",
       "4      Senocidi               Hodgkin Dock   L   58.0  \n",
       "5         Pongo             Antonelli City   L   58.0  \n",
       "6         Pongo             Antonelli City   L   57.0  \n",
       "7        Pandra              Selye Station   M   57.0  \n",
       "8         Moyot           de Seversky Port   M   56.0  \n",
       "9   Shapsugabus                   Abe Dock   L   52.0  \n",
       "10     LHS 2936             Fraser Orbital   L   41.0  \n",
       "11        Alano                Bondar City   M   36.0  \n",
       "12     Sibianoe                 Impey Ring   L   11.0  \n",
       "13     Kaupolis             Mather Station   M   10.0  \n",
       "14     Lansbury          Henson Laboratory   M    9.0  \n",
       "15      Munfayl  Tsarenko Industrial Forge   S    7.0  \n",
       "16    HIP 96834          Coblentz Horizons   L    5.0  \n",
       "17     No Choen                 Akers Dock   L    4.0  "
      ],
      "text/html": "<div>\n<style scoped>\n    .dataframe tbody tr th:only-of-type {\n        vertical-align: middle;\n    }\n\n    .dataframe tbody tr th {\n        vertical-align: top;\n    }\n\n    .dataframe thead th {\n        text-align: right;\n    }\n</style>\n<table border=\"1\" class=\"dataframe\">\n  <thead>\n    <tr style=\"text-align: right;\">\n      <th></th>\n      <th>Commodity</th>\n      <th>Sell Price</th>\n      <th>Sell/Avg</th>\n      <th>Demand</th>\n      <th>As Of</th>\n      <th>Distance</th>\n      <th>System</th>\n      <th>Station</th>\n      <th>Pad</th>\n      <th>Score</th>\n    </tr>\n  </thead>\n  <tbody>\n    <tr>\n      <th>0</th>\n      <td>Musgravite</td>\n      <td>963191</td>\n      <td>3.85</td>\n      <td>1622</td>\n      <td>9 mins</td>\n      <td>114.5</td>\n      <td>Pongo</td>\n      <td>Antonelli City</td>\n      <td>L</td>\n      <td>72.0</td>\n    </tr>\n    <tr>\n      <th>1</th>\n      <td>Painite</td>\n      <td>341772</td>\n      <td>5.45</td>\n      <td>1525</td>\n      <td>9 mins</td>\n      <td>114.5</td>\n      <td>Pongo</td>\n      <td>Antonelli City</td>\n      <td>L</td>\n      <td>68.0</td>\n    </tr>\n    <tr>\n      <th>2</th>\n      <td>Benitoite</td>\n      <td>900571</td>\n      <td>5.03</td>\n      <td>2004</td>\n      <td>9 mins</td>\n      <td>114.5</td>\n      <td>Pongo</td>\n      <td>Antonelli City</td>\n      <td>L</td>\n      <td>68.0</td>\n    </tr>\n    <tr>\n      <th>3</th>\n      <td>Rhodplumsite</td>\n      <td>838778</td>\n      <td>3.74</td>\n      <td>11004</td>\n      <td>2 hours</td>\n      <td>158.8</td>\n      <td>Shapsugabus</td>\n      <td>Abe Dock</td>\n      <td>L</td>\n      <td>63.0</td>\n    </tr>\n    <tr>\n      <th>4</th>\n      <td>Platinum</td>\n      <td>287864</td>\n      <td>3.94</td>\n      <td>2323</td>\n      <td>2 hours</td>\n      <td>178.2</td>\n      <td>Senocidi</td>\n      <td>Hodgkin Dock</td>\n      <td>L</td>\n      <td>58.0</td>\n    </tr>\n    <tr>\n      <th>5</th>\n      <td>Serendibite</td>\n      <td>768226</td>\n      <td>3.45</td>\n      <td>2059</td>\n      <td>9 mins</td>\n      <td>114.5</td>\n      <td>Pongo</td>\n      <td>Antonelli City</td>\n      <td>L</td>\n      <td>58.0</td>\n    </tr>\n    <tr>\n      <th>6</th>\n      <td>Grandidierite</td>\n      <td>760034</td>\n      <td>2.85</td>\n      <td>2064</td>\n      <td>9 mins</td>\n      <td>114.5</td>\n      <td>Pongo</td>\n      <td>Antonelli City</td>\n      <td>L</td>\n      <td>57.0</td>\n    </tr>\n    <tr>\n      <th>7</th>\n      <td>Monazite</td>\n      <td>762766</td>\n      <td>2.80</td>\n      <td>1708</td>\n      <td>3 days</td>\n      <td>106.7</td>\n      <td>Pandra</td>\n      <td>Selye Station</td>\n      <td>M</td>\n      <td>57.0</td>\n    </tr>\n    <tr>\n      <th>8</th>\n      <td>Low Temperature Diamonds</td>\n      <td>444008</td>\n      <td>3.17</td>\n      <td>1556</td>\n      <td>16 days</td>\n      <td>262.1</td>\n      <td>Moyot</td>\n      <td>de Seversky Port</td>\n      <td>M</td>\n      <td>56.0</td>\n    </tr>\n    <tr>\n      <th>9</th>\n      <td>Alexandrite</td>\n      <td>698073</td>\n      <td>2.21</td>\n      <td>13217</td>\n      <td>2 hours</td>\n      <td>158.8</td>\n      <td>Shapsugabus</td>\n      <td>Abe Dock</td>\n      <td>L</td>\n      <td>52.0</td>\n    </tr>\n    <tr>\n      <th>10</th>\n      <td>Osmium</td>\n      <td>273000</td>\n      <td>5.04</td>\n      <td>69390</td>\n      <td>23 mins</td>\n      <td>64.0</td>\n      <td>LHS 2936</td>\n      <td>Fraser Orbital</td>\n      <td>L</td>\n      <td>41.0</td>\n    </tr>\n    <tr>\n      <th>11</th>\n      <td>Void Opals</td>\n      <td>478638</td>\n      <td>2.54</td>\n      <td>1239</td>\n      <td>5 days</td>\n      <td>102.2</td>\n      <td>Alano</td>\n      <td>Bondar City</td>\n      <td>M</td>\n      <td>36.0</td>\n    </tr>\n    <tr>\n      <th>12</th>\n      <td>Palladium</td>\n      <td>71182</td>\n      <td>0.41</td>\n      <td>15895</td>\n      <td>7 hours</td>\n      <td>194.8</td>\n      <td>Sibianoe</td>\n      <td>Impey Ring</td>\n      <td>L</td>\n      <td>11.0</td>\n    </tr>\n    <tr>\n      <th>13</th>\n      <td>Gold</td>\n      <td>67409</td>\n      <td>0.42</td>\n      <td>1673</td>\n      <td>5 days</td>\n      <td>232.5</td>\n      <td>Kaupolis</td>\n      <td>Mather Station</td>\n      <td>M</td>\n      <td>10.0</td>\n    </tr>\n    <tr>\n      <th>14</th>\n      <td>Bromellite</td>\n      <td>116667</td>\n      <td>2.83</td>\n      <td>29100</td>\n      <td>5 days</td>\n      <td>117.1</td>\n      <td>Lansbury</td>\n      <td>Henson Laboratory</td>\n      <td>M</td>\n      <td>9.0</td>\n    </tr>\n    <tr>\n      <th>15</th>\n      <td>Samarium</td>\n      <td>48517</td>\n      <td>0.88</td>\n      <td>1960</td>\n      <td>8 days</td>\n      <td>89.5</td>\n      <td>Munfayl</td>\n      <td>Tsarenko Industrial Forge</td>\n      <td>S</td>\n      <td>7.0</td>\n    </tr>\n    <tr>\n      <th>16</th>\n      <td>Tritium</td>\n      <td>61820</td>\n      <td>0.20</td>\n      <td>6101</td>\n      <td>5 hours</td>\n      <td>157.0</td>\n      <td>HIP 96834</td>\n      <td>Coblentz Horizons</td>\n      <td>L</td>\n      <td>5.0</td>\n    </tr>\n    <tr>\n      <th>17</th>\n      <td>Silver</td>\n      <td>49279</td>\n      <td>0.32</td>\n      <td>20882</td>\n      <td>1 days</td>\n      <td>175.8</td>\n      <td>No Choen</td>\n      <td>Akers Dock</td>\n      <td>L</td>\n      <td>4.0</td>\n    </tr>\n  </tbody>\n</table>\n</div>"
     },
     "metadata": {},
     "execution_count": 21
    }
   ],
   "source": [
    "eddb.best_scoring_minerals('Sol', 10000, commodity_count=1, top_count=25, min_score = 0.0)"
   ]
  }
 ],
 "metadata": {
  "kernelspec": {
   "name": "python395jvsc74a57bd09d35b96a40f6b9c941905013a647818129c5962a78f981fa1f821d9e05c6ff52",
   "display_name": "Python 3.9.5 64-bit"
  },
  "language_info": {
   "codemirror_mode": {
    "name": "ipython",
    "version": 3
   },
   "file_extension": ".py",
   "mimetype": "text/x-python",
   "name": "python",
   "nbconvert_exporter": "python",
   "pygments_lexer": "ipython3",
   "version": "3.9.5"
  },
  "metadata": {
   "interpreter": {
    "hash": "9d35b96a40f6b9c941905013a647818129c5962a78f981fa1f821d9e05c6ff52"
   }
  }
 },
 "nbformat": 4,
 "nbformat_minor": 4
}