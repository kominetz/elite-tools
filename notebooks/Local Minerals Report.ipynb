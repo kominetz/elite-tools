{
 "cells": [
  {
   "cell_type": "code",
   "execution_count": null,
   "metadata": {
    "tags": []
   },
   "outputs": [],
   "source": [
    "import os\n",
    "import os.path\n",
    "import sys\n",
    "from pathlib import Path\n",
    "sys.path.insert(0, '..')\n",
    "from elitetools import eddb\n",
    "eddb.load_feeds()"
   ]
  },
  {
   "cell_type": "code",
   "execution_count": null,
   "metadata": {},
   "outputs": [],
   "source": [
    "ref_system       = \"Ling Deti\"\n",
    "jump_range       = 19.46          # Laden jump range of mining ship\n",
    "cargo_capacity   = 192            # Cargo capacity of mining ship"
   ]
  },
  {
   "cell_type": "code",
   "execution_count": null,
   "metadata": {},
   "outputs": [],
   "source": [
    "demand_factor   = 5\n",
    "max_jumps       = 2"
   ]
  },
  {
   "cell_type": "markdown",
   "metadata": {},
   "source": [
    "# Best Mineral Listings Nearby #"
   ]
  },
  {
   "cell_type": "code",
   "execution_count": null,
   "metadata": {
    "tags": []
   },
   "outputs": [],
   "source": [
    "eddb.best_scoring_minerals(ref_system, jump_range * max_jumps, commodity_count=3, top_count=15)"
   ]
  },
  {
   "cell_type": "code",
   "execution_count": null,
   "metadata": {},
   "outputs": [],
   "source": [
    "eddb.best_perf_minerals(ref_system, jump_range * max_jumps, commodity_count=3, top_count=15)"
   ]
  },
  {
   "cell_type": "markdown",
   "metadata": {},
   "source": [
    "## Best Nearby Core Minerals Prices ##"
   ]
  },
  {
   "cell_type": "code",
   "execution_count": null,
   "metadata": {},
   "outputs": [],
   "source": [
    "eddb.best_rt_listings(ref_system, jump_range * max_jumps, top_count=3, by_commodity=eddb.top_core_minerals, min_demand = cargo_capacity * demand_factor)"
   ]
  },
  {
   "cell_type": "markdown",
   "metadata": {},
   "source": [
    "## Best Nearby Laser Minerals Prices ##"
   ]
  },
  {
   "cell_type": "code",
   "execution_count": null,
   "metadata": {
    "scrolled": true
   },
   "outputs": [],
   "source": [
    "eddb.best_rt_listings(ref_system, jump_range * max_jumps, top_count=5, by_commodity=eddb.top_laser_minerals, min_demand = cargo_capacity * demand_factor)"
   ]
  }
 ],
 "metadata": {
  "interpreter": {
   "hash": "294ce3eeb4238ab366a4ed00698b7e367b354f65a08ed64b348097224984088b"
  },
  "kernelspec": {
   "display_name": "Python 3.9.5 64-bit",
   "name": "python3"
  },
  "language_info": {
   "codemirror_mode": {
    "name": "ipython",
    "version": 3
   },
   "file_extension": ".py",
   "mimetype": "text/x-python",
   "name": "python",
   "nbconvert_exporter": "python",
   "pygments_lexer": "ipython3",
   "version": "3.9.5"
  },
  "metadata": {
   "interpreter": {
    "hash": "9d35b96a40f6b9c941905013a647818129c5962a78f981fa1f821d9e05c6ff52"
   }
  }
 },
 "nbformat": 4,
 "nbformat_minor": 4
}
