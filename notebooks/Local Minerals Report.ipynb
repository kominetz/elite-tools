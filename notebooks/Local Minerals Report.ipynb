{
 "cells": [
  {
   "cell_type": "code",
   "execution_count": 11,
   "metadata": {
    "tags": []
   },
   "outputs": [],
   "source": [
    "import os\n",
    "import os.path\n",
    "import sys\n",
    "from pathlib import Path\n",
    "sys.path.insert(0, '..')\n",
    "from elitetools import eddb\n",
    "eddb.load_feeds()\n",
    "\n",
    "demand_factor   = 4\n",
    "max_jumps       = 2 "
   ]
  },
  {
   "cell_type": "code",
   "execution_count": 12,
   "metadata": {},
   "outputs": [],
   "source": [
    "main_system        = \"Balmung\"\n",
    "core_mining_system   = main_system \n",
    "hybrid_mining_system = main_system \n",
    "jump_range           = 25  # Laden jump range of mining ship\n",
    "cargo_capacity       = 32  # Cargo capacity of mining ship\n"
   ]
  },
  {
   "source": [
    "# Best Nearby Mineral Listings #"
   ],
   "cell_type": "markdown",
   "metadata": {}
  },
  {
   "cell_type": "code",
   "execution_count": 13,
   "metadata": {
    "tags": []
   },
   "outputs": [
    {
     "output_type": "execute_result",
     "data": {
      "text/plain": [
       "                   Commodity  Sell Price  Sell/Avg  Demand     As Of  \\\n",
       "0               Rhodplumsite      839101      3.74   11011   40 mins   \n",
       "1                   Platinum      284158      3.88    1567   47 mins   \n",
       "2                   Platinum      285867      3.91    4086   1 hours   \n",
       "3                   Platinum      285867      3.91    3101    2 days   \n",
       "4                   Monazite      753798      2.75    1381    1 days   \n",
       "5                   Monazite      753798      2.75    1339  20 hours   \n",
       "6                   Monazite      749505      2.73    2079   3 hours   \n",
       "7                   Monazite      752302      2.74    1227    3 days   \n",
       "8                   Monazite      750146      2.73    1422   1 hours   \n",
       "9   Low Temperature Diamonds      437154      3.11    4538   16 days   \n",
       "10  Low Temperature Diamonds      434412      3.08    3420   15 days   \n",
       "11               Alexandrite      725346      2.34   13546   40 mins   \n",
       "12  Low Temperature Diamonds      426187      3.01    1245   16 days   \n",
       "13  Low Temperature Diamonds      415220      2.90    1032   17 days   \n",
       "14  Low Temperature Diamonds      408366      2.84    2611   16 days   \n",
       "\n",
       "    Distance           System                     Station Pad  Score  \n",
       "0       83.0      Shapsugabus                    Abe Dock   L   63.0  \n",
       "1       55.3        Jotunheim  Big Harry's Monkey Hangout   L   57.0  \n",
       "2       42.5        Mutujiali              Siegel Orbital   L   57.0  \n",
       "3       70.2        Odomazotz                Molyneux Hub   M   57.0  \n",
       "4       64.9           Murato                  Encke Ring   M   57.0  \n",
       "5       73.5       Tsim Binba              Krenkel Vision   M   57.0  \n",
       "6       73.5       Tsim Binba               Kopal Orbital   L   56.0  \n",
       "7       85.0  Delta Phoenicis            Sandage Terminal   M   56.0  \n",
       "8       89.5           Marici               Gidzenko Dock   L   56.0  \n",
       "9       86.7          Jarogee               Mooz Terminal   M   55.0  \n",
       "10      89.2         Orannika                 Kagawa Dock   M   54.0  \n",
       "11      83.0      Shapsugabus                    Abe Dock   L   54.0  \n",
       "12      87.3         LTT 1678           Comino Enterprise   M   53.0  \n",
       "13      26.2        Kuwemargl               Pritchard Hub   M   52.0  \n",
       "14      20.6        Nagaybaks                Johnson Dock   M   51.0  "
      ],
      "text/html": "<div>\n<style scoped>\n    .dataframe tbody tr th:only-of-type {\n        vertical-align: middle;\n    }\n\n    .dataframe tbody tr th {\n        vertical-align: top;\n    }\n\n    .dataframe thead th {\n        text-align: right;\n    }\n</style>\n<table border=\"1\" class=\"dataframe\">\n  <thead>\n    <tr style=\"text-align: right;\">\n      <th></th>\n      <th>Commodity</th>\n      <th>Sell Price</th>\n      <th>Sell/Avg</th>\n      <th>Demand</th>\n      <th>As Of</th>\n      <th>Distance</th>\n      <th>System</th>\n      <th>Station</th>\n      <th>Pad</th>\n      <th>Score</th>\n    </tr>\n  </thead>\n  <tbody>\n    <tr>\n      <th>0</th>\n      <td>Rhodplumsite</td>\n      <td>839101</td>\n      <td>3.74</td>\n      <td>11011</td>\n      <td>40 mins</td>\n      <td>83.0</td>\n      <td>Shapsugabus</td>\n      <td>Abe Dock</td>\n      <td>L</td>\n      <td>63.0</td>\n    </tr>\n    <tr>\n      <th>1</th>\n      <td>Platinum</td>\n      <td>284158</td>\n      <td>3.88</td>\n      <td>1567</td>\n      <td>47 mins</td>\n      <td>55.3</td>\n      <td>Jotunheim</td>\n      <td>Big Harry's Monkey Hangout</td>\n      <td>L</td>\n      <td>57.0</td>\n    </tr>\n    <tr>\n      <th>2</th>\n      <td>Platinum</td>\n      <td>285867</td>\n      <td>3.91</td>\n      <td>4086</td>\n      <td>1 hours</td>\n      <td>42.5</td>\n      <td>Mutujiali</td>\n      <td>Siegel Orbital</td>\n      <td>L</td>\n      <td>57.0</td>\n    </tr>\n    <tr>\n      <th>3</th>\n      <td>Platinum</td>\n      <td>285867</td>\n      <td>3.91</td>\n      <td>3101</td>\n      <td>2 days</td>\n      <td>70.2</td>\n      <td>Odomazotz</td>\n      <td>Molyneux Hub</td>\n      <td>M</td>\n      <td>57.0</td>\n    </tr>\n    <tr>\n      <th>4</th>\n      <td>Monazite</td>\n      <td>753798</td>\n      <td>2.75</td>\n      <td>1381</td>\n      <td>1 days</td>\n      <td>64.9</td>\n      <td>Murato</td>\n      <td>Encke Ring</td>\n      <td>M</td>\n      <td>57.0</td>\n    </tr>\n    <tr>\n      <th>5</th>\n      <td>Monazite</td>\n      <td>753798</td>\n      <td>2.75</td>\n      <td>1339</td>\n      <td>20 hours</td>\n      <td>73.5</td>\n      <td>Tsim Binba</td>\n      <td>Krenkel Vision</td>\n      <td>M</td>\n      <td>57.0</td>\n    </tr>\n    <tr>\n      <th>6</th>\n      <td>Monazite</td>\n      <td>749505</td>\n      <td>2.73</td>\n      <td>2079</td>\n      <td>3 hours</td>\n      <td>73.5</td>\n      <td>Tsim Binba</td>\n      <td>Kopal Orbital</td>\n      <td>L</td>\n      <td>56.0</td>\n    </tr>\n    <tr>\n      <th>7</th>\n      <td>Monazite</td>\n      <td>752302</td>\n      <td>2.74</td>\n      <td>1227</td>\n      <td>3 days</td>\n      <td>85.0</td>\n      <td>Delta Phoenicis</td>\n      <td>Sandage Terminal</td>\n      <td>M</td>\n      <td>56.0</td>\n    </tr>\n    <tr>\n      <th>8</th>\n      <td>Monazite</td>\n      <td>750146</td>\n      <td>2.73</td>\n      <td>1422</td>\n      <td>1 hours</td>\n      <td>89.5</td>\n      <td>Marici</td>\n      <td>Gidzenko Dock</td>\n      <td>L</td>\n      <td>56.0</td>\n    </tr>\n    <tr>\n      <th>9</th>\n      <td>Low Temperature Diamonds</td>\n      <td>437154</td>\n      <td>3.11</td>\n      <td>4538</td>\n      <td>16 days</td>\n      <td>86.7</td>\n      <td>Jarogee</td>\n      <td>Mooz Terminal</td>\n      <td>M</td>\n      <td>55.0</td>\n    </tr>\n    <tr>\n      <th>10</th>\n      <td>Low Temperature Diamonds</td>\n      <td>434412</td>\n      <td>3.08</td>\n      <td>3420</td>\n      <td>15 days</td>\n      <td>89.2</td>\n      <td>Orannika</td>\n      <td>Kagawa Dock</td>\n      <td>M</td>\n      <td>54.0</td>\n    </tr>\n    <tr>\n      <th>11</th>\n      <td>Alexandrite</td>\n      <td>725346</td>\n      <td>2.34</td>\n      <td>13546</td>\n      <td>40 mins</td>\n      <td>83.0</td>\n      <td>Shapsugabus</td>\n      <td>Abe Dock</td>\n      <td>L</td>\n      <td>54.0</td>\n    </tr>\n    <tr>\n      <th>12</th>\n      <td>Low Temperature Diamonds</td>\n      <td>426187</td>\n      <td>3.01</td>\n      <td>1245</td>\n      <td>16 days</td>\n      <td>87.3</td>\n      <td>LTT 1678</td>\n      <td>Comino Enterprise</td>\n      <td>M</td>\n      <td>53.0</td>\n    </tr>\n    <tr>\n      <th>13</th>\n      <td>Low Temperature Diamonds</td>\n      <td>415220</td>\n      <td>2.90</td>\n      <td>1032</td>\n      <td>17 days</td>\n      <td>26.2</td>\n      <td>Kuwemargl</td>\n      <td>Pritchard Hub</td>\n      <td>M</td>\n      <td>52.0</td>\n    </tr>\n    <tr>\n      <th>14</th>\n      <td>Low Temperature Diamonds</td>\n      <td>408366</td>\n      <td>2.84</td>\n      <td>2611</td>\n      <td>16 days</td>\n      <td>20.6</td>\n      <td>Nagaybaks</td>\n      <td>Johnson Dock</td>\n      <td>M</td>\n      <td>51.0</td>\n    </tr>\n  </tbody>\n</table>\n</div>"
     },
     "metadata": {},
     "execution_count": 13
    }
   ],
   "source": [
    "eddb.best_scoring_minerals(main_system, jump_range * max_jumps, commodity_count=5, top_count=15, min_score = 0.1)"
   ]
  },
  {
   "source": [
    "## Best Nearby Core Minerals Prices ##"
   ],
   "cell_type": "markdown",
   "metadata": {}
  },
  {
   "cell_type": "code",
   "execution_count": 14,
   "metadata": {},
   "outputs": [
    {
     "output_type": "execute_result",
     "data": {
      "text/plain": [
       "   Commodity  Sell Price  Sell/Avg  Demand     As Of  Distance       System  \\\n",
       "0   Platinum      285867      3.91    3101    2 days      70.2    Odomazotz   \n",
       "1   Platinum      285867      3.91    4086   1 hours      42.5    Mutujiali   \n",
       "2   Platinum      284158      3.88    1567   47 mins      55.3    Jotunheim   \n",
       "3    Painite      247068      3.66   10966   40 mins      83.0  Shapsugabus   \n",
       "4    Painite      214287      3.04    1117    2 days      58.0   Amphisatsu   \n",
       "5  Palladium       71328      0.41    6819  14 hours      82.9    Djabushis   \n",
       "\n",
       "                      Station Pad  \n",
       "0                Molyneux Hub   M  \n",
       "1              Siegel Orbital   L  \n",
       "2  Big Harry's Monkey Hangout   L  \n",
       "3                    Abe Dock   L  \n",
       "4         Osterbrock Terminal   M  \n",
       "5              Cheli Terminal   L  "
      ],
      "text/html": "<div>\n<style scoped>\n    .dataframe tbody tr th:only-of-type {\n        vertical-align: middle;\n    }\n\n    .dataframe tbody tr th {\n        vertical-align: top;\n    }\n\n    .dataframe thead th {\n        text-align: right;\n    }\n</style>\n<table border=\"1\" class=\"dataframe\">\n  <thead>\n    <tr style=\"text-align: right;\">\n      <th></th>\n      <th>Commodity</th>\n      <th>Sell Price</th>\n      <th>Sell/Avg</th>\n      <th>Demand</th>\n      <th>As Of</th>\n      <th>Distance</th>\n      <th>System</th>\n      <th>Station</th>\n      <th>Pad</th>\n    </tr>\n  </thead>\n  <tbody>\n    <tr>\n      <th>0</th>\n      <td>Platinum</td>\n      <td>285867</td>\n      <td>3.91</td>\n      <td>3101</td>\n      <td>2 days</td>\n      <td>70.2</td>\n      <td>Odomazotz</td>\n      <td>Molyneux Hub</td>\n      <td>M</td>\n    </tr>\n    <tr>\n      <th>1</th>\n      <td>Platinum</td>\n      <td>285867</td>\n      <td>3.91</td>\n      <td>4086</td>\n      <td>1 hours</td>\n      <td>42.5</td>\n      <td>Mutujiali</td>\n      <td>Siegel Orbital</td>\n      <td>L</td>\n    </tr>\n    <tr>\n      <th>2</th>\n      <td>Platinum</td>\n      <td>284158</td>\n      <td>3.88</td>\n      <td>1567</td>\n      <td>47 mins</td>\n      <td>55.3</td>\n      <td>Jotunheim</td>\n      <td>Big Harry's Monkey Hangout</td>\n      <td>L</td>\n    </tr>\n    <tr>\n      <th>3</th>\n      <td>Painite</td>\n      <td>247068</td>\n      <td>3.66</td>\n      <td>10966</td>\n      <td>40 mins</td>\n      <td>83.0</td>\n      <td>Shapsugabus</td>\n      <td>Abe Dock</td>\n      <td>L</td>\n    </tr>\n    <tr>\n      <th>4</th>\n      <td>Painite</td>\n      <td>214287</td>\n      <td>3.04</td>\n      <td>1117</td>\n      <td>2 days</td>\n      <td>58.0</td>\n      <td>Amphisatsu</td>\n      <td>Osterbrock Terminal</td>\n      <td>M</td>\n    </tr>\n    <tr>\n      <th>5</th>\n      <td>Palladium</td>\n      <td>71328</td>\n      <td>0.41</td>\n      <td>6819</td>\n      <td>14 hours</td>\n      <td>82.9</td>\n      <td>Djabushis</td>\n      <td>Cheli Terminal</td>\n      <td>L</td>\n    </tr>\n  </tbody>\n</table>\n</div>"
     },
     "metadata": {},
     "execution_count": 14
    }
   ],
   "source": [
    "eddb.best_rt_listings(hybrid_mining_system, jump_range * max_jumps, top_count=10, by_commodity=['Painite', 'Palladium', 'Platinum'], min_demand = cargo_capacity * demand_factor)"
   ]
  },
  {
   "cell_type": "markdown",
   "metadata": {},
   "source": [
    "## Best Nearby Hybrid Minerals Prices ##"
   ]
  },
  {
   "cell_type": "code",
   "execution_count": 15,
   "metadata": {
    "scrolled": true
   },
   "outputs": [
    {
     "output_type": "execute_result",
     "data": {
      "text/plain": [
       "   Commodity  Sell Price  Sell/Avg  Demand     As Of  Distance       System  \\\n",
       "0   Platinum      285867      3.91    3101    2 days      70.2    Odomazotz   \n",
       "1   Platinum      285867      3.91    4086   1 hours      42.5    Mutujiali   \n",
       "2   Platinum      284158      3.88    1567   47 mins      55.3    Jotunheim   \n",
       "3    Painite      247068      3.66   10966   40 mins      83.0  Shapsugabus   \n",
       "4    Painite      214287      3.04    1117    2 days      58.0   Amphisatsu   \n",
       "5  Palladium       71328      0.41    6819  14 hours      82.9    Djabushis   \n",
       "\n",
       "                      Station Pad  \n",
       "0                Molyneux Hub   M  \n",
       "1              Siegel Orbital   L  \n",
       "2  Big Harry's Monkey Hangout   L  \n",
       "3                    Abe Dock   L  \n",
       "4         Osterbrock Terminal   M  \n",
       "5              Cheli Terminal   L  "
      ],
      "text/html": "<div>\n<style scoped>\n    .dataframe tbody tr th:only-of-type {\n        vertical-align: middle;\n    }\n\n    .dataframe tbody tr th {\n        vertical-align: top;\n    }\n\n    .dataframe thead th {\n        text-align: right;\n    }\n</style>\n<table border=\"1\" class=\"dataframe\">\n  <thead>\n    <tr style=\"text-align: right;\">\n      <th></th>\n      <th>Commodity</th>\n      <th>Sell Price</th>\n      <th>Sell/Avg</th>\n      <th>Demand</th>\n      <th>As Of</th>\n      <th>Distance</th>\n      <th>System</th>\n      <th>Station</th>\n      <th>Pad</th>\n    </tr>\n  </thead>\n  <tbody>\n    <tr>\n      <th>0</th>\n      <td>Platinum</td>\n      <td>285867</td>\n      <td>3.91</td>\n      <td>3101</td>\n      <td>2 days</td>\n      <td>70.2</td>\n      <td>Odomazotz</td>\n      <td>Molyneux Hub</td>\n      <td>M</td>\n    </tr>\n    <tr>\n      <th>1</th>\n      <td>Platinum</td>\n      <td>285867</td>\n      <td>3.91</td>\n      <td>4086</td>\n      <td>1 hours</td>\n      <td>42.5</td>\n      <td>Mutujiali</td>\n      <td>Siegel Orbital</td>\n      <td>L</td>\n    </tr>\n    <tr>\n      <th>2</th>\n      <td>Platinum</td>\n      <td>284158</td>\n      <td>3.88</td>\n      <td>1567</td>\n      <td>47 mins</td>\n      <td>55.3</td>\n      <td>Jotunheim</td>\n      <td>Big Harry's Monkey Hangout</td>\n      <td>L</td>\n    </tr>\n    <tr>\n      <th>3</th>\n      <td>Painite</td>\n      <td>247068</td>\n      <td>3.66</td>\n      <td>10966</td>\n      <td>40 mins</td>\n      <td>83.0</td>\n      <td>Shapsugabus</td>\n      <td>Abe Dock</td>\n      <td>L</td>\n    </tr>\n    <tr>\n      <th>4</th>\n      <td>Painite</td>\n      <td>214287</td>\n      <td>3.04</td>\n      <td>1117</td>\n      <td>2 days</td>\n      <td>58.0</td>\n      <td>Amphisatsu</td>\n      <td>Osterbrock Terminal</td>\n      <td>M</td>\n    </tr>\n    <tr>\n      <th>5</th>\n      <td>Palladium</td>\n      <td>71328</td>\n      <td>0.41</td>\n      <td>6819</td>\n      <td>14 hours</td>\n      <td>82.9</td>\n      <td>Djabushis</td>\n      <td>Cheli Terminal</td>\n      <td>L</td>\n    </tr>\n  </tbody>\n</table>\n</div>"
     },
     "metadata": {},
     "execution_count": 15
    }
   ],
   "source": [
    "eddb.best_rt_listings(hybrid_mining_system, jump_range * max_jumps, top_count=10, by_commodity=['Painite', 'Palladium', 'Platinum'], min_demand = cargo_capacity * demand_factor)"
   ]
  },
  {
   "cell_type": "markdown",
   "metadata": {},
   "source": [
    "## Best Nearby Listing Per Mineral ##"
   ]
  },
  {
   "cell_type": "code",
   "execution_count": 16,
   "metadata": {
    "scrolled": false
   },
   "outputs": [
    {
     "output_type": "execute_result",
     "data": {
      "text/plain": [
       "                   Commodity  Sell Price  Sell/Avg  Demand     As Of  \\\n",
       "0               Rhodplumsite      839101      3.74   11011   40 mins   \n",
       "1                   Platinum      284158      3.88    1567   47 mins   \n",
       "2                   Monazite      753798      2.75    1381    1 days   \n",
       "3   Low Temperature Diamonds      437154      3.11    4538   16 days   \n",
       "4                Alexandrite      725346      2.34   13546   40 mins   \n",
       "5                    Painite      247068      3.66   10966   40 mins   \n",
       "6                 Musgravite      633548      2.19    1023    2 days   \n",
       "7              Grandidierite      583522      1.96   13537   40 mins   \n",
       "8                     Osmium      264872      4.86   28185   19 mins   \n",
       "9                Serendibite      501557      1.90    1219    2 days   \n",
       "10                 Benitoite      498258      2.34    1017    5 days   \n",
       "11                Void Opals      478638      2.54    1239    5 days   \n",
       "12                 Palladium       71328      0.41    6819  14 hours   \n",
       "13                      Gold       64193      0.35  630605    2 days   \n",
       "14                Bromellite      116214      2.82    5722    2 days   \n",
       "15                  Samarium       48614      0.88   14944    1 days   \n",
       "16                   Tritium       61792      0.20    2437    8 days   \n",
       "17                    Silver       49306      0.32   25083   47 mins   \n",
       "\n",
       "    Distance       System                     Station Pad  Score  \n",
       "0       83.0  Shapsugabus                    Abe Dock   L   63.0  \n",
       "1       55.3    Jotunheim  Big Harry's Monkey Hangout   L   57.0  \n",
       "2       64.9       Murato                  Encke Ring   M   57.0  \n",
       "3       86.7      Jarogee               Mooz Terminal   M   55.0  \n",
       "4       83.0  Shapsugabus                    Abe Dock   L   54.0  \n",
       "5       83.0  Shapsugabus                    Abe Dock   L   49.0  \n",
       "6       58.0   Amphisatsu         Osterbrock Terminal   M   48.0  \n",
       "7       83.0  Shapsugabus                    Abe Dock   L   44.0  \n",
       "8       84.4    Convoumia                  Arnold Hub   L   40.0  \n",
       "9       14.1        Turir             Lethem Terminal   M   38.0  \n",
       "10      66.2        Alano                 Bondar City   M   37.0  \n",
       "11      66.2        Alano                 Bondar City   M   36.0  \n",
       "12      82.9    Djabushis              Cheli Terminal   L   11.0  \n",
       "13      40.4     Yimanbin           Vaucanson Gateway   M   10.0  \n",
       "14      76.4   Caelottixa                  Jones Dock   L    9.0  \n",
       "15      64.8    CD-54 471             KRAMSKI Holding   L    7.0  \n",
       "16      70.3     LTT 9360              Deere Horizons   M    5.0  \n",
       "17      55.3    Jotunheim  Big Harry's Monkey Hangout   L    4.0  "
      ],
      "text/html": "<div>\n<style scoped>\n    .dataframe tbody tr th:only-of-type {\n        vertical-align: middle;\n    }\n\n    .dataframe tbody tr th {\n        vertical-align: top;\n    }\n\n    .dataframe thead th {\n        text-align: right;\n    }\n</style>\n<table border=\"1\" class=\"dataframe\">\n  <thead>\n    <tr style=\"text-align: right;\">\n      <th></th>\n      <th>Commodity</th>\n      <th>Sell Price</th>\n      <th>Sell/Avg</th>\n      <th>Demand</th>\n      <th>As Of</th>\n      <th>Distance</th>\n      <th>System</th>\n      <th>Station</th>\n      <th>Pad</th>\n      <th>Score</th>\n    </tr>\n  </thead>\n  <tbody>\n    <tr>\n      <th>0</th>\n      <td>Rhodplumsite</td>\n      <td>839101</td>\n      <td>3.74</td>\n      <td>11011</td>\n      <td>40 mins</td>\n      <td>83.0</td>\n      <td>Shapsugabus</td>\n      <td>Abe Dock</td>\n      <td>L</td>\n      <td>63.0</td>\n    </tr>\n    <tr>\n      <th>1</th>\n      <td>Platinum</td>\n      <td>284158</td>\n      <td>3.88</td>\n      <td>1567</td>\n      <td>47 mins</td>\n      <td>55.3</td>\n      <td>Jotunheim</td>\n      <td>Big Harry's Monkey Hangout</td>\n      <td>L</td>\n      <td>57.0</td>\n    </tr>\n    <tr>\n      <th>2</th>\n      <td>Monazite</td>\n      <td>753798</td>\n      <td>2.75</td>\n      <td>1381</td>\n      <td>1 days</td>\n      <td>64.9</td>\n      <td>Murato</td>\n      <td>Encke Ring</td>\n      <td>M</td>\n      <td>57.0</td>\n    </tr>\n    <tr>\n      <th>3</th>\n      <td>Low Temperature Diamonds</td>\n      <td>437154</td>\n      <td>3.11</td>\n      <td>4538</td>\n      <td>16 days</td>\n      <td>86.7</td>\n      <td>Jarogee</td>\n      <td>Mooz Terminal</td>\n      <td>M</td>\n      <td>55.0</td>\n    </tr>\n    <tr>\n      <th>4</th>\n      <td>Alexandrite</td>\n      <td>725346</td>\n      <td>2.34</td>\n      <td>13546</td>\n      <td>40 mins</td>\n      <td>83.0</td>\n      <td>Shapsugabus</td>\n      <td>Abe Dock</td>\n      <td>L</td>\n      <td>54.0</td>\n    </tr>\n    <tr>\n      <th>5</th>\n      <td>Painite</td>\n      <td>247068</td>\n      <td>3.66</td>\n      <td>10966</td>\n      <td>40 mins</td>\n      <td>83.0</td>\n      <td>Shapsugabus</td>\n      <td>Abe Dock</td>\n      <td>L</td>\n      <td>49.0</td>\n    </tr>\n    <tr>\n      <th>6</th>\n      <td>Musgravite</td>\n      <td>633548</td>\n      <td>2.19</td>\n      <td>1023</td>\n      <td>2 days</td>\n      <td>58.0</td>\n      <td>Amphisatsu</td>\n      <td>Osterbrock Terminal</td>\n      <td>M</td>\n      <td>48.0</td>\n    </tr>\n    <tr>\n      <th>7</th>\n      <td>Grandidierite</td>\n      <td>583522</td>\n      <td>1.96</td>\n      <td>13537</td>\n      <td>40 mins</td>\n      <td>83.0</td>\n      <td>Shapsugabus</td>\n      <td>Abe Dock</td>\n      <td>L</td>\n      <td>44.0</td>\n    </tr>\n    <tr>\n      <th>8</th>\n      <td>Osmium</td>\n      <td>264872</td>\n      <td>4.86</td>\n      <td>28185</td>\n      <td>19 mins</td>\n      <td>84.4</td>\n      <td>Convoumia</td>\n      <td>Arnold Hub</td>\n      <td>L</td>\n      <td>40.0</td>\n    </tr>\n    <tr>\n      <th>9</th>\n      <td>Serendibite</td>\n      <td>501557</td>\n      <td>1.90</td>\n      <td>1219</td>\n      <td>2 days</td>\n      <td>14.1</td>\n      <td>Turir</td>\n      <td>Lethem Terminal</td>\n      <td>M</td>\n      <td>38.0</td>\n    </tr>\n    <tr>\n      <th>10</th>\n      <td>Benitoite</td>\n      <td>498258</td>\n      <td>2.34</td>\n      <td>1017</td>\n      <td>5 days</td>\n      <td>66.2</td>\n      <td>Alano</td>\n      <td>Bondar City</td>\n      <td>M</td>\n      <td>37.0</td>\n    </tr>\n    <tr>\n      <th>11</th>\n      <td>Void Opals</td>\n      <td>478638</td>\n      <td>2.54</td>\n      <td>1239</td>\n      <td>5 days</td>\n      <td>66.2</td>\n      <td>Alano</td>\n      <td>Bondar City</td>\n      <td>M</td>\n      <td>36.0</td>\n    </tr>\n    <tr>\n      <th>12</th>\n      <td>Palladium</td>\n      <td>71328</td>\n      <td>0.41</td>\n      <td>6819</td>\n      <td>14 hours</td>\n      <td>82.9</td>\n      <td>Djabushis</td>\n      <td>Cheli Terminal</td>\n      <td>L</td>\n      <td>11.0</td>\n    </tr>\n    <tr>\n      <th>13</th>\n      <td>Gold</td>\n      <td>64193</td>\n      <td>0.35</td>\n      <td>630605</td>\n      <td>2 days</td>\n      <td>40.4</td>\n      <td>Yimanbin</td>\n      <td>Vaucanson Gateway</td>\n      <td>M</td>\n      <td>10.0</td>\n    </tr>\n    <tr>\n      <th>14</th>\n      <td>Bromellite</td>\n      <td>116214</td>\n      <td>2.82</td>\n      <td>5722</td>\n      <td>2 days</td>\n      <td>76.4</td>\n      <td>Caelottixa</td>\n      <td>Jones Dock</td>\n      <td>L</td>\n      <td>9.0</td>\n    </tr>\n    <tr>\n      <th>15</th>\n      <td>Samarium</td>\n      <td>48614</td>\n      <td>0.88</td>\n      <td>14944</td>\n      <td>1 days</td>\n      <td>64.8</td>\n      <td>CD-54 471</td>\n      <td>KRAMSKI Holding</td>\n      <td>L</td>\n      <td>7.0</td>\n    </tr>\n    <tr>\n      <th>16</th>\n      <td>Tritium</td>\n      <td>61792</td>\n      <td>0.20</td>\n      <td>2437</td>\n      <td>8 days</td>\n      <td>70.3</td>\n      <td>LTT 9360</td>\n      <td>Deere Horizons</td>\n      <td>M</td>\n      <td>5.0</td>\n    </tr>\n    <tr>\n      <th>17</th>\n      <td>Silver</td>\n      <td>49306</td>\n      <td>0.32</td>\n      <td>25083</td>\n      <td>47 mins</td>\n      <td>55.3</td>\n      <td>Jotunheim</td>\n      <td>Big Harry's Monkey Hangout</td>\n      <td>L</td>\n      <td>4.0</td>\n    </tr>\n  </tbody>\n</table>\n</div>"
     },
     "metadata": {},
     "execution_count": 16
    }
   ],
   "source": [
    "eddb.best_scoring_minerals(main_system, jump_range * max_jumps, commodity_count=1, top_count=25, min_score = 0.0)"
   ]
  },
  {
   "cell_type": "markdown",
   "metadata": {},
   "source": [
    "## Best Global Listing Per Mineral ##"
   ]
  },
  {
   "cell_type": "code",
   "execution_count": 17,
   "metadata": {},
   "outputs": [
    {
     "output_type": "execute_result",
     "data": {
      "text/plain": [
       "                   Commodity  Sell Price  Sell/Avg  Demand     As Of  \\\n",
       "0               Rhodplumsite      839101      3.74   11011   40 mins   \n",
       "1                  Benitoite      783520      4.24    1320   42 mins   \n",
       "2                   Platinum      289576      3.97    1129    3 days   \n",
       "3                   Monazite      753798      2.75    1381    1 days   \n",
       "4   Low Temperature Diamonds      444008      3.17    1556   16 days   \n",
       "5                Alexandrite      725346      2.34   13546   40 mins   \n",
       "6                    Painite      260679      3.92    2000   42 mins   \n",
       "7              Grandidierite      669050      2.39    1372   42 mins   \n",
       "8                Serendibite      667470      2.86    1348   42 mins   \n",
       "9                 Musgravite      668260      2.36    8481   5 hours   \n",
       "10                    Osmium      273000      5.04   69390    7 mins   \n",
       "11                Void Opals      478638      2.54    1239    5 days   \n",
       "12                 Palladium       71328      0.41    6819  14 hours   \n",
       "13                      Gold       64137      0.35    1502    8 mins   \n",
       "14                Bromellite      115550      2.80    8913    2 days   \n",
       "15                  Samarium       48377      0.87  180118  10 hours   \n",
       "16                   Tritium       61808      0.20    3679    3 days   \n",
       "17                    Silver       49426      0.33  173520    8 mins   \n",
       "\n",
       "    Distance       System                   Station Pad  Score  \n",
       "0      158.8  Shapsugabus                  Abe Dock   L   63.0  \n",
       "1       61.4   BD+29 2405              Phillips Hub   M   59.0  \n",
       "2      184.6     Tsakhmet            Alvares Colony   M   58.0  \n",
       "3      150.7       Murato                Encke Ring   M   57.0  \n",
       "4      262.1        Moyot          de Seversky Port   M   56.0  \n",
       "5      158.8  Shapsugabus                  Abe Dock   L   54.0  \n",
       "6       61.4   BD+29 2405              Phillips Hub   M   52.0  \n",
       "7       61.4   BD+29 2405              Phillips Hub   M   50.0  \n",
       "8       61.4   BD+29 2405              Phillips Hub   M   50.0  \n",
       "9      134.1    HIP 72043            Brunel Station   L   50.0  \n",
       "10      64.0     LHS 2936            Fraser Orbital   L   41.0  \n",
       "11     102.2        Alano               Bondar City   M   36.0  \n",
       "12      56.0    Djabushis            Cheli Terminal   L   11.0  \n",
       "13      93.1        Freng            Werber Orbital   M   10.0  \n",
       "14     150.1       Shi Yu  Hibberd Analytics Centre   S    9.0  \n",
       "15      66.0      Caicius        Heisenberg Gateway   L    7.0  \n",
       "16     120.6     45 Tauri        Herrington Gateway   L    5.0  \n",
       "17      64.0     LHS 2936            Fraser Orbital   L    4.0  "
      ],
      "text/html": "<div>\n<style scoped>\n    .dataframe tbody tr th:only-of-type {\n        vertical-align: middle;\n    }\n\n    .dataframe tbody tr th {\n        vertical-align: top;\n    }\n\n    .dataframe thead th {\n        text-align: right;\n    }\n</style>\n<table border=\"1\" class=\"dataframe\">\n  <thead>\n    <tr style=\"text-align: right;\">\n      <th></th>\n      <th>Commodity</th>\n      <th>Sell Price</th>\n      <th>Sell/Avg</th>\n      <th>Demand</th>\n      <th>As Of</th>\n      <th>Distance</th>\n      <th>System</th>\n      <th>Station</th>\n      <th>Pad</th>\n      <th>Score</th>\n    </tr>\n  </thead>\n  <tbody>\n    <tr>\n      <th>0</th>\n      <td>Rhodplumsite</td>\n      <td>839101</td>\n      <td>3.74</td>\n      <td>11011</td>\n      <td>40 mins</td>\n      <td>158.8</td>\n      <td>Shapsugabus</td>\n      <td>Abe Dock</td>\n      <td>L</td>\n      <td>63.0</td>\n    </tr>\n    <tr>\n      <th>1</th>\n      <td>Benitoite</td>\n      <td>783520</td>\n      <td>4.24</td>\n      <td>1320</td>\n      <td>42 mins</td>\n      <td>61.4</td>\n      <td>BD+29 2405</td>\n      <td>Phillips Hub</td>\n      <td>M</td>\n      <td>59.0</td>\n    </tr>\n    <tr>\n      <th>2</th>\n      <td>Platinum</td>\n      <td>289576</td>\n      <td>3.97</td>\n      <td>1129</td>\n      <td>3 days</td>\n      <td>184.6</td>\n      <td>Tsakhmet</td>\n      <td>Alvares Colony</td>\n      <td>M</td>\n      <td>58.0</td>\n    </tr>\n    <tr>\n      <th>3</th>\n      <td>Monazite</td>\n      <td>753798</td>\n      <td>2.75</td>\n      <td>1381</td>\n      <td>1 days</td>\n      <td>150.7</td>\n      <td>Murato</td>\n      <td>Encke Ring</td>\n      <td>M</td>\n      <td>57.0</td>\n    </tr>\n    <tr>\n      <th>4</th>\n      <td>Low Temperature Diamonds</td>\n      <td>444008</td>\n      <td>3.17</td>\n      <td>1556</td>\n      <td>16 days</td>\n      <td>262.1</td>\n      <td>Moyot</td>\n      <td>de Seversky Port</td>\n      <td>M</td>\n      <td>56.0</td>\n    </tr>\n    <tr>\n      <th>5</th>\n      <td>Alexandrite</td>\n      <td>725346</td>\n      <td>2.34</td>\n      <td>13546</td>\n      <td>40 mins</td>\n      <td>158.8</td>\n      <td>Shapsugabus</td>\n      <td>Abe Dock</td>\n      <td>L</td>\n      <td>54.0</td>\n    </tr>\n    <tr>\n      <th>6</th>\n      <td>Painite</td>\n      <td>260679</td>\n      <td>3.92</td>\n      <td>2000</td>\n      <td>42 mins</td>\n      <td>61.4</td>\n      <td>BD+29 2405</td>\n      <td>Phillips Hub</td>\n      <td>M</td>\n      <td>52.0</td>\n    </tr>\n    <tr>\n      <th>7</th>\n      <td>Grandidierite</td>\n      <td>669050</td>\n      <td>2.39</td>\n      <td>1372</td>\n      <td>42 mins</td>\n      <td>61.4</td>\n      <td>BD+29 2405</td>\n      <td>Phillips Hub</td>\n      <td>M</td>\n      <td>50.0</td>\n    </tr>\n    <tr>\n      <th>8</th>\n      <td>Serendibite</td>\n      <td>667470</td>\n      <td>2.86</td>\n      <td>1348</td>\n      <td>42 mins</td>\n      <td>61.4</td>\n      <td>BD+29 2405</td>\n      <td>Phillips Hub</td>\n      <td>M</td>\n      <td>50.0</td>\n    </tr>\n    <tr>\n      <th>9</th>\n      <td>Musgravite</td>\n      <td>668260</td>\n      <td>2.36</td>\n      <td>8481</td>\n      <td>5 hours</td>\n      <td>134.1</td>\n      <td>HIP 72043</td>\n      <td>Brunel Station</td>\n      <td>L</td>\n      <td>50.0</td>\n    </tr>\n    <tr>\n      <th>10</th>\n      <td>Osmium</td>\n      <td>273000</td>\n      <td>5.04</td>\n      <td>69390</td>\n      <td>7 mins</td>\n      <td>64.0</td>\n      <td>LHS 2936</td>\n      <td>Fraser Orbital</td>\n      <td>L</td>\n      <td>41.0</td>\n    </tr>\n    <tr>\n      <th>11</th>\n      <td>Void Opals</td>\n      <td>478638</td>\n      <td>2.54</td>\n      <td>1239</td>\n      <td>5 days</td>\n      <td>102.2</td>\n      <td>Alano</td>\n      <td>Bondar City</td>\n      <td>M</td>\n      <td>36.0</td>\n    </tr>\n    <tr>\n      <th>12</th>\n      <td>Palladium</td>\n      <td>71328</td>\n      <td>0.41</td>\n      <td>6819</td>\n      <td>14 hours</td>\n      <td>56.0</td>\n      <td>Djabushis</td>\n      <td>Cheli Terminal</td>\n      <td>L</td>\n      <td>11.0</td>\n    </tr>\n    <tr>\n      <th>13</th>\n      <td>Gold</td>\n      <td>64137</td>\n      <td>0.35</td>\n      <td>1502</td>\n      <td>8 mins</td>\n      <td>93.1</td>\n      <td>Freng</td>\n      <td>Werber Orbital</td>\n      <td>M</td>\n      <td>10.0</td>\n    </tr>\n    <tr>\n      <th>14</th>\n      <td>Bromellite</td>\n      <td>115550</td>\n      <td>2.80</td>\n      <td>8913</td>\n      <td>2 days</td>\n      <td>150.1</td>\n      <td>Shi Yu</td>\n      <td>Hibberd Analytics Centre</td>\n      <td>S</td>\n      <td>9.0</td>\n    </tr>\n    <tr>\n      <th>15</th>\n      <td>Samarium</td>\n      <td>48377</td>\n      <td>0.87</td>\n      <td>180118</td>\n      <td>10 hours</td>\n      <td>66.0</td>\n      <td>Caicius</td>\n      <td>Heisenberg Gateway</td>\n      <td>L</td>\n      <td>7.0</td>\n    </tr>\n    <tr>\n      <th>16</th>\n      <td>Tritium</td>\n      <td>61808</td>\n      <td>0.20</td>\n      <td>3679</td>\n      <td>3 days</td>\n      <td>120.6</td>\n      <td>45 Tauri</td>\n      <td>Herrington Gateway</td>\n      <td>L</td>\n      <td>5.0</td>\n    </tr>\n    <tr>\n      <th>17</th>\n      <td>Silver</td>\n      <td>49426</td>\n      <td>0.33</td>\n      <td>173520</td>\n      <td>8 mins</td>\n      <td>64.0</td>\n      <td>LHS 2936</td>\n      <td>Fraser Orbital</td>\n      <td>L</td>\n      <td>4.0</td>\n    </tr>\n  </tbody>\n</table>\n</div>"
     },
     "metadata": {},
     "execution_count": 17
    }
   ],
   "source": [
    "eddb.best_scoring_minerals('Sol', 10000, commodity_count=1, top_count=25, min_score = 0.0)"
   ]
  }
 ],
 "metadata": {
  "kernelspec": {
   "name": "python376jvsc74a57bd057b850f4e4c2f9cbdad3ce81d537f2896169e7d85b76f14426b1f43fa264f1e6",
   "display_name": "Python 3.7.6 64-bit ('Programs': virtualenv)",
   "language": "python"
  },
  "language_info": {
   "codemirror_mode": {
    "name": "ipython",
    "version": 3
   },
   "file_extension": ".py",
   "mimetype": "text/x-python",
   "name": "python",
   "nbconvert_exporter": "python",
   "pygments_lexer": "ipython3",
   "version": "3.7.6"
  }
 },
 "nbformat": 4,
 "nbformat_minor": 4
}