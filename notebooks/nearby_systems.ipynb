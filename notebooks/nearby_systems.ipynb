{
 "cells": [
  {
   "cell_type": "code",
   "execution_count": 6,
   "metadata": {},
   "outputs": [
    {
     "output_type": "stream",
     "name": "stdout",
     "text": "# Found \"C:\\Users\\komin\\AppData\\Local\\Temp\\elite-tools\\archive-v6-systems_populated.jsonl\".\n# Feeds.POPULATED_SYSTEMS records loaded:  20629\n# Found \"C:\\Users\\komin\\AppData\\Local\\Temp\\elite-tools\\archive-v6-stations.jsonl\".\n# Feeds.STATIONS records loaded:  49453\n# Found \"C:\\Users\\komin\\AppData\\Local\\Temp\\elite-tools\\archive-v6-factions.jsonl\".\n# Feeds.FACTIONS records loaded:  77094\n"
    }
   ],
   "source": [
    "import eddb\n",
    "eddb.load_feeds()"
   ]
  },
  {
   "cell_type": "code",
   "execution_count": 7,
   "metadata": {},
   "outputs": [],
   "source": [
    "systems = input(\"Systems: \")\n",
    "origin = eddb.center(systems)"
   ]
  },
  {
   "cell_type": "code",
   "execution_count": 8,
   "metadata": {},
   "outputs": [
    {
     "output_type": "execute_result",
     "data": {
      "text/plain": "20"
     },
     "metadata": {},
     "execution_count": 8
    }
   ],
   "source": [
    "radius = int(input(\"Radius (ly): \"))\n",
    "if radius == 0:\n",
    "    radius = max(eddb.distance(origin, s.strip()) for s in systems.split(\",\"))\n",
    "radius"
   ]
  },
  {
   "cell_type": "code",
   "execution_count": 9,
   "metadata": {},
   "outputs": [
    {
     "output_type": "execute_result",
     "data": {
      "text/plain": "              Name  Distance  Population   Government   Allegiance  \\\n0       82 Eridani       5.3     3601898    Corporate   Federation   \n1         Agastani      14.5  3388045847    Democracy   Federation   \n2   Alpha Centauri      17.7      100000  Cooperative  Independent   \n3        Arangorii      16.9  4767147183    Corporate   Federation   \n4             Avik      13.6       42967  Cooperative  Independent   \n..             ...       ...         ...          ...          ...   \n60  WISE 0855-0714      14.3       34825  Cooperative  Independent   \n61       Wolf 1453      19.8  2601474523    Corporate   Federation   \n62         YZ Ceti      13.5     7632775    Corporate   Federation   \n63    Zeta Tucanae      11.4      145999    Democracy   Federation   \n64             Zhi      14.6      322711  Cooperative  Independent   \n\n   Security Level Primary Economy                   Controlling Faction  \\\n0            High        Refinery                    Crimson Legal & Co   \n1          Medium     Agriculture                         Kisaragi & Co   \n2             Low      Extraction  Hutton Orbital Truckers Co-Operative   \n3            High     Agriculture                Arangorii Interstellar   \n4             Low        Refinery  Hutton Orbital Truckers Co-Operative   \n..            ...             ...                                   ...   \n60            Low        Refinery  Hutton Orbital Truckers Co-Operative   \n61           High     Agriculture                   Earth Defense Fleet   \n62         Medium       High Tech            YZ Ceti Blue Galactic & Co   \n63            Low       High Tech                 New Zeta Tucanae Free   \n64         Medium        Refinery                          Boop Brigade   \n\n   Reserve Level  \n0         Common  \n1          Major  \n2       Depleted  \n3       Depleted  \n4       Depleted  \n..           ...  \n60           Low  \n61        Common  \n62        Common  \n63      Depleted  \n64          None  \n\n[65 rows x 9 columns]",
      "text/html": "<div>\n<style scoped>\n    .dataframe tbody tr th:only-of-type {\n        vertical-align: middle;\n    }\n\n    .dataframe tbody tr th {\n        vertical-align: top;\n    }\n\n    .dataframe thead th {\n        text-align: right;\n    }\n</style>\n<table border=\"1\" class=\"dataframe\">\n  <thead>\n    <tr style=\"text-align: right;\">\n      <th></th>\n      <th>Name</th>\n      <th>Distance</th>\n      <th>Population</th>\n      <th>Government</th>\n      <th>Allegiance</th>\n      <th>Security Level</th>\n      <th>Primary Economy</th>\n      <th>Controlling Faction</th>\n      <th>Reserve Level</th>\n    </tr>\n  </thead>\n  <tbody>\n    <tr>\n      <th>0</th>\n      <td>82 Eridani</td>\n      <td>5.3</td>\n      <td>3601898</td>\n      <td>Corporate</td>\n      <td>Federation</td>\n      <td>High</td>\n      <td>Refinery</td>\n      <td>Crimson Legal &amp; Co</td>\n      <td>Common</td>\n    </tr>\n    <tr>\n      <th>1</th>\n      <td>Agastani</td>\n      <td>14.5</td>\n      <td>3388045847</td>\n      <td>Democracy</td>\n      <td>Federation</td>\n      <td>Medium</td>\n      <td>Agriculture</td>\n      <td>Kisaragi &amp; Co</td>\n      <td>Major</td>\n    </tr>\n    <tr>\n      <th>2</th>\n      <td>Alpha Centauri</td>\n      <td>17.7</td>\n      <td>100000</td>\n      <td>Cooperative</td>\n      <td>Independent</td>\n      <td>Low</td>\n      <td>Extraction</td>\n      <td>Hutton Orbital Truckers Co-Operative</td>\n      <td>Depleted</td>\n    </tr>\n    <tr>\n      <th>3</th>\n      <td>Arangorii</td>\n      <td>16.9</td>\n      <td>4767147183</td>\n      <td>Corporate</td>\n      <td>Federation</td>\n      <td>High</td>\n      <td>Agriculture</td>\n      <td>Arangorii Interstellar</td>\n      <td>Depleted</td>\n    </tr>\n    <tr>\n      <th>4</th>\n      <td>Avik</td>\n      <td>13.6</td>\n      <td>42967</td>\n      <td>Cooperative</td>\n      <td>Independent</td>\n      <td>Low</td>\n      <td>Refinery</td>\n      <td>Hutton Orbital Truckers Co-Operative</td>\n      <td>Depleted</td>\n    </tr>\n    <tr>\n      <th>...</th>\n      <td>...</td>\n      <td>...</td>\n      <td>...</td>\n      <td>...</td>\n      <td>...</td>\n      <td>...</td>\n      <td>...</td>\n      <td>...</td>\n      <td>...</td>\n    </tr>\n    <tr>\n      <th>60</th>\n      <td>WISE 0855-0714</td>\n      <td>14.3</td>\n      <td>34825</td>\n      <td>Cooperative</td>\n      <td>Independent</td>\n      <td>Low</td>\n      <td>Refinery</td>\n      <td>Hutton Orbital Truckers Co-Operative</td>\n      <td>Low</td>\n    </tr>\n    <tr>\n      <th>61</th>\n      <td>Wolf 1453</td>\n      <td>19.8</td>\n      <td>2601474523</td>\n      <td>Corporate</td>\n      <td>Federation</td>\n      <td>High</td>\n      <td>Agriculture</td>\n      <td>Earth Defense Fleet</td>\n      <td>Common</td>\n    </tr>\n    <tr>\n      <th>62</th>\n      <td>YZ Ceti</td>\n      <td>13.5</td>\n      <td>7632775</td>\n      <td>Corporate</td>\n      <td>Federation</td>\n      <td>Medium</td>\n      <td>High Tech</td>\n      <td>YZ Ceti Blue Galactic &amp; Co</td>\n      <td>Common</td>\n    </tr>\n    <tr>\n      <th>63</th>\n      <td>Zeta Tucanae</td>\n      <td>11.4</td>\n      <td>145999</td>\n      <td>Democracy</td>\n      <td>Federation</td>\n      <td>Low</td>\n      <td>High Tech</td>\n      <td>New Zeta Tucanae Free</td>\n      <td>Depleted</td>\n    </tr>\n    <tr>\n      <th>64</th>\n      <td>Zhi</td>\n      <td>14.6</td>\n      <td>322711</td>\n      <td>Cooperative</td>\n      <td>Independent</td>\n      <td>Medium</td>\n      <td>Refinery</td>\n      <td>Boop Brigade</td>\n      <td>None</td>\n    </tr>\n  </tbody>\n</table>\n<p>65 rows × 9 columns</p>\n</div>"
     },
     "metadata": {},
     "execution_count": 9
    }
   ],
   "source": [
    "nearby_systems = eddb.query_nearby_systems(origin, radius)\n",
    "system_summaries = eddb.system_survey_summary(nearby_systems, origin)\n",
    "system_summaries"
   ]
  },
  {
   "cell_type": "code",
   "execution_count": 10,
   "metadata": {},
   "outputs": [],
   "source": [
    "system_summaries.to_clipboard(header=None, index=False)"
   ]
  }
 ],
 "metadata": {
  "kernelspec": {
   "display_name": "Python 3",
   "language": "python",
   "name": "python3"
  },
  "language_info": {
   "codemirror_mode": {
    "name": "ipython",
    "version": 3
   },
   "file_extension": ".py",
   "mimetype": "text/x-python",
   "name": "python",
   "nbconvert_exporter": "python",
   "pygments_lexer": "ipython3",
   "version": "3.8.2-final"
  }
 },
 "nbformat": 4,
 "nbformat_minor": 4
}