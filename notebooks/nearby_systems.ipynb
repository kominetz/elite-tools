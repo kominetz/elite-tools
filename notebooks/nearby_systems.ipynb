{
 "cells": [
  {
   "cell_type": "code",
   "execution_count": 1,
   "metadata": {},
   "outputs": [
    {
     "output_type": "stream",
     "name": "stdout",
     "text": "# Found \"C:\\Users\\komin\\AppData\\Local\\Temp\\elite-tools\\archive-v6-systems_populated.jsonl\".\n# Feeds.POPULATED_SYSTEMS records loaded:  20629\n# Found \"C:\\Users\\komin\\AppData\\Local\\Temp\\elite-tools\\archive-v6-systems_populated.jsonl\".\n# Feeds.POPULATED_SYSTEMS records loaded:  20629\n# Found \"C:\\Users\\komin\\AppData\\Local\\Temp\\elite-tools\\archive-v6-stations.jsonl\".\n# Feeds.STATIONS records loaded:  49461\n# Found \"C:\\Users\\komin\\AppData\\Local\\Temp\\elite-tools\\archive-v6-factions.jsonl\".\n# Feeds.FACTIONS records loaded:  77096\n# Found \"C:\\Users\\komin\\AppData\\Local\\Temp\\elite-tools\\archive-v6-factions.jsonl\".\n# Feeds.FACTIONS records loaded:  77096\n"
    }
   ],
   "source": [
    "import eddb\n",
    "eddb.load_feeds()"
   ]
  },
  {
   "cell_type": "code",
   "execution_count": 2,
   "metadata": {},
   "outputs": [],
   "source": [
    "systems = input(\"Systems: \")\n",
    "origin = eddb.center(systems)"
   ]
  },
  {
   "cell_type": "code",
   "execution_count": 3,
   "metadata": {},
   "outputs": [
    {
     "output_type": "execute_result",
     "data": {
      "text/plain": "25"
     },
     "metadata": {},
     "execution_count": 3
    }
   ],
   "source": [
    "radius = int(input(\"Radius (ly): \"))\n",
    "if radius == 0:\n",
    "    radius = max(eddb.distance(origin, s.strip()) for s in systems.split(\",\"))\n",
    "radius"
   ]
  },
  {
   "cell_type": "code",
   "execution_count": 4,
   "metadata": {},
   "outputs": [
    {
     "output_type": "execute_result",
     "data": {
      "text/plain": "                Name  Distance  Population Primary Economy Reserve Level\n0         82 Eridani       5.3     3601898        Refinery        Common\n1           Agastani      14.5  3388045847     Agriculture         Major\n2     Alpha Centauri      17.7      100000      Extraction      Depleted\n3          Arangorii      16.9  4767147183     Agriculture      Depleted\n4          Aspelenie      22.4       43008          Colony          None\n..               ...       ...         ...             ...           ...\n98          Wolf 359      23.6      129999      Industrial      Depleted\n99           YZ Ceti      13.5     7632775       High Tech        Common\n100     Zeta Tucanae      11.4      145999       High Tech      Depleted\n101  Zeta-1 Reticuli      20.1        2416      Extraction          None\n102              Zhi      14.6      322711        Refinery          None\n\n[103 rows x 5 columns]",
      "text/html": "<div>\n<style scoped>\n    .dataframe tbody tr th:only-of-type {\n        vertical-align: middle;\n    }\n\n    .dataframe tbody tr th {\n        vertical-align: top;\n    }\n\n    .dataframe thead th {\n        text-align: right;\n    }\n</style>\n<table border=\"1\" class=\"dataframe\">\n  <thead>\n    <tr style=\"text-align: right;\">\n      <th></th>\n      <th>Name</th>\n      <th>Distance</th>\n      <th>Population</th>\n      <th>Primary Economy</th>\n      <th>Reserve Level</th>\n    </tr>\n  </thead>\n  <tbody>\n    <tr>\n      <th>0</th>\n      <td>82 Eridani</td>\n      <td>5.3</td>\n      <td>3601898</td>\n      <td>Refinery</td>\n      <td>Common</td>\n    </tr>\n    <tr>\n      <th>1</th>\n      <td>Agastani</td>\n      <td>14.5</td>\n      <td>3388045847</td>\n      <td>Agriculture</td>\n      <td>Major</td>\n    </tr>\n    <tr>\n      <th>2</th>\n      <td>Alpha Centauri</td>\n      <td>17.7</td>\n      <td>100000</td>\n      <td>Extraction</td>\n      <td>Depleted</td>\n    </tr>\n    <tr>\n      <th>3</th>\n      <td>Arangorii</td>\n      <td>16.9</td>\n      <td>4767147183</td>\n      <td>Agriculture</td>\n      <td>Depleted</td>\n    </tr>\n    <tr>\n      <th>4</th>\n      <td>Aspelenie</td>\n      <td>22.4</td>\n      <td>43008</td>\n      <td>Colony</td>\n      <td>None</td>\n    </tr>\n    <tr>\n      <th>...</th>\n      <td>...</td>\n      <td>...</td>\n      <td>...</td>\n      <td>...</td>\n      <td>...</td>\n    </tr>\n    <tr>\n      <th>98</th>\n      <td>Wolf 359</td>\n      <td>23.6</td>\n      <td>129999</td>\n      <td>Industrial</td>\n      <td>Depleted</td>\n    </tr>\n    <tr>\n      <th>99</th>\n      <td>YZ Ceti</td>\n      <td>13.5</td>\n      <td>7632775</td>\n      <td>High Tech</td>\n      <td>Common</td>\n    </tr>\n    <tr>\n      <th>100</th>\n      <td>Zeta Tucanae</td>\n      <td>11.4</td>\n      <td>145999</td>\n      <td>High Tech</td>\n      <td>Depleted</td>\n    </tr>\n    <tr>\n      <th>101</th>\n      <td>Zeta-1 Reticuli</td>\n      <td>20.1</td>\n      <td>2416</td>\n      <td>Extraction</td>\n      <td>None</td>\n    </tr>\n    <tr>\n      <th>102</th>\n      <td>Zhi</td>\n      <td>14.6</td>\n      <td>322711</td>\n      <td>Refinery</td>\n      <td>None</td>\n    </tr>\n  </tbody>\n</table>\n<p>103 rows × 5 columns</p>\n</div>"
     },
     "metadata": {},
     "execution_count": 4
    }
   ],
   "source": [
    "nearby_systems = eddb.query_nearby_systems(origin, radius)\n",
    "system_summaries = eddb.system_survey_report(nearby_systems, origin)\n",
    "system_summaries"
   ]
  },
  {
   "cell_type": "code",
   "execution_count": 5,
   "metadata": {},
   "outputs": [],
   "source": [
    "system_summaries.to_clipboard(header=None, index=False)"
   ]
  }
 ],
 "metadata": {
  "kernelspec": {
   "display_name": "Python 3",
   "language": "python",
   "name": "python3"
  },
  "language_info": {
   "codemirror_mode": {
    "name": "ipython",
    "version": 3
   },
   "file_extension": ".py",
   "mimetype": "text/x-python",
   "name": "python",
   "nbconvert_exporter": "python",
   "pygments_lexer": "ipython3",
   "version": "3.8.2-final"
  }
 },
 "nbformat": 4,
 "nbformat_minor": 4
}