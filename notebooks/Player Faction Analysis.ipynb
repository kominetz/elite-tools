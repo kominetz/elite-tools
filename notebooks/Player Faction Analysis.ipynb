{
 "metadata": {
  "language_info": {
   "codemirror_mode": {
    "name": "ipython",
    "version": 3
   },
   "file_extension": ".py",
   "mimetype": "text/x-python",
   "name": "python",
   "nbconvert_exporter": "python",
   "pygments_lexer": "ipython3",
   "version": "3.8.6-final"
  },
  "orig_nbformat": 2,
  "kernelspec": {
   "name": "python3",
   "display_name": "Python 3.8.6 64-bit",
   "metadata": {
    "interpreter": {
     "hash": "64a2d09fa3906c585c99906e698c2767b0e84ad70b4934ba5da95196e2eb7739"
    }
   }
  }
 },
 "nbformat": 4,
 "nbformat_minor": 2,
 "cells": [
  {
   "cell_type": "code",
   "execution_count": null,
   "metadata": {},
   "outputs": [],
   "source": [
    "import os\n",
    "import os.path\n",
    "import sys\n",
    "import pandas as pd\n",
    "from pathlib import Path\n",
    "sys.path.insert(0, '..')\n",
    "from elitetools import eddb\n",
    "eddb.load_feeds()"
   ]
  },
  {
   "cell_type": "code",
   "execution_count": null,
   "metadata": {},
   "outputs": [],
   "source": [
    "faction = \"The Order of Mobius\"\n",
    "origin = eddb.faction_home_system(faction)\n",
    "core_systems = set(eddb.query_systems_by_faction(faction))\n",
    "extended_systems = set([inf_s for core_s in core_systems for inf_s in eddb.query_nearby_systems(core_s, eddb.SYSTEM_INFLUENCE_RANGE)])"
   ]
  },
  {
   "cell_type": "code",
   "execution_count": null,
   "metadata": {},
   "outputs": [],
   "source": [
    "faction_report = eddb.system_faction_report(extended_systems, faction, origin).sort_values(by=['Priority', 'Name'], ascending=[True, True])\n",
    "faction_report.to_clipboard()\n",
    "faction_report"
   ]
  },
  {
   "cell_type": "code",
   "execution_count": null,
   "metadata": {},
   "outputs": [],
   "source": [
    "faction_stats = {}\n",
    "#cpf = eddb.player_faction_controlled(extended_systems, faction, origin)\n",
    "for s_name in extended_systems:\n",
    "    s = eddb.populated_systems_deprecated[s_name]\n",
    "    cf_name = s['controlling_minor_faction']\n",
    "    if cf_name in eddb.player_faction_names_deprecated:\n",
    "        if cf_name not in faction_stats.keys():\n",
    "            faction_stats[cf_name] = {'name': cf_name, 'control': 0, 'presence': 0}\n",
    "        faction_stats[cf_name]['control'] += 1\n",
    "    for f in s['minor_faction_presences']:\n",
    "        f_name = eddb.faction_names_by_id_deprecated[f['minor_faction_id']]\n",
    "        if f_name in eddb.player_faction_names_deprecated:\n",
    "            if f_name not in faction_stats.keys():\n",
    "                faction_stats[f_name] = {'name': f_name, 'control': 0, 'presence': 0}\n",
    "            if f_name != cf_name:\n",
    "                faction_stats[f_name]['presence'] += 1\n",
    "\n",
    "pd.DataFrame.from_dict(faction_stats.values()).set_index('name').sort_values(by=['control', 'presence', 'name'], ascending=[False, False, True])"
   ]
  }
 ]
}