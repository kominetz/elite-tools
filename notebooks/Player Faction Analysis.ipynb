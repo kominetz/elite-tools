{
 "cells": [
  {
   "cell_type": "code",
   "execution_count": null,
   "metadata": {},
   "outputs": [],
   "source": [
    "import os\n",
    "import os.path\n",
    "import sys\n",
    "import pandas as pd\n",
    "from pathlib import Path\n",
    "sys.path.insert(0, '..')\n",
    "from elitetools import eddb\n",
    "eddb.load_feeds()"
   ]
  },
  {
   "cell_type": "code",
   "execution_count": null,
   "metadata": {},
   "outputs": [],
   "source": [
    "faction = \"The Order of Mobius\"\n",
    "core_systems = set(eddb.query_systems_by_faction(faction))\n",
    "\n",
    "#ref_system = \"Ling Deti\"  \n",
    "#ref_system = eddb.faction_home_system(faction)  # centers on faction homeworld\n",
    "ref_system = eddb.center(core_systems)\n",
    "\n",
    "extended_systems = core_systems \n",
    "#extended_systems = set([inf_s for core_s in core_systems for inf_s in eddb.query_nearby_systems(core_s, eddb.SYSTEM_INFLUENCE_RANGE)])"
   ]
  },
  {
   "cell_type": "code",
   "execution_count": null,
   "metadata": {},
   "outputs": [],
   "source": [
    "faction_report = eddb.system_faction_report(extended_systems, faction, ref_system).sort_values(by=['Priority', 'Name'], ascending=[True, True])\n",
    "faction_report.to_clipboard()\n",
    "faction_report"
   ]
  }
 ],
 "metadata": {
  "interpreter": {
   "hash": "294ce3eeb4238ab366a4ed00698b7e367b354f65a08ed64b348097224984088b"
  },
  "kernelspec": {
   "display_name": "Python 3.9.5 64-bit",
   "name": "python3"
  },
  "language_info": {
   "codemirror_mode": {
    "name": "ipython",
    "version": 3
   },
   "file_extension": ".py",
   "mimetype": "text/x-python",
   "name": "python",
   "nbconvert_exporter": "python",
   "pygments_lexer": "ipython3",
   "version": "3.9.5"
  },
  "orig_nbformat": 2
 },
 "nbformat": 4,
 "nbformat_minor": 2
}
