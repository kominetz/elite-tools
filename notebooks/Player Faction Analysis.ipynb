{
 "cells": [
  {
   "cell_type": "code",
   "execution_count": null,
   "metadata": {},
   "outputs": [],
   "source": [
    "import os\n",
    "import os.path\n",
    "import sys\n",
    "import pandas as pd\n",
    "from pathlib import Path\n",
    "sys.path.insert(0, '..')\n",
    "from elitetools import eddb\n",
    "eddb.load_feeds()"
   ]
  },
  {
   "cell_type": "code",
   "execution_count": null,
   "metadata": {},
   "outputs": [],
   "source": [
    "#faction = \"The Order of Mobius\"\n",
    "#core_systems = set(eddb.query_systems_by_faction(faction))\n",
    "faction = \"Nobody\"\n",
    "core_systems_list = \"Beatis Secundus,Eudora,Concordia,Bedrock,Aventine,Haven,New Chana,San Baltah’Sine\"\n",
    "core_systems = [n.strip() for n in core_systems_list.split(',')]\n",
    "\n",
    "#ref_system = \"Ling Deti\"  \n",
    "#ref_system = eddb.faction_home_system(faction)  # centers on faction homeworld\n",
    "ref_system = eddb.center(core_systems)\n",
    "\n",
    "#extended_systems = core_systems \n",
    "extended_systems = set([inf_s for core_s in core_systems for inf_s in eddb.query_nearby_systems(core_s, eddb.SYSTEM_INFLUENCE_RANGE)])"
   ]
  },
  {
   "cell_type": "code",
   "execution_count": null,
   "metadata": {},
   "outputs": [],
   "source": [
    "faction_report = eddb.system_faction_report(extended_systems, faction, ref_system).sort_values(by=['Priority', 'Name'], ascending=[True, True])\n",
    "faction_report.to_clipboard()\n",
    "faction_report"
   ]
  },
  {
   "cell_type": "code",
   "execution_count": null,
   "metadata": {},
   "outputs": [],
   "source": []
  }
 ],
 "metadata": {
  "kernelspec": {
   "display_name": "Python 3.10.8 64-bit (microsoft store)",
   "language": "python",
   "name": "python3"
  },
  "language_info": {
   "codemirror_mode": {
    "name": "ipython",
    "version": 3
   },
   "file_extension": ".py",
   "mimetype": "text/x-python",
   "name": "python",
   "nbconvert_exporter": "python",
   "pygments_lexer": "ipython3",
   "version": "3.10.8"
  },
  "orig_nbformat": 2,
  "vscode": {
   "interpreter": {
    "hash": "aa1e2ddce8b04aec7b3edf0d8441e6cbb5d191733fc9f8125fc294ebf7ffc880"
   }
  }
 },
 "nbformat": 4,
 "nbformat_minor": 2
}
