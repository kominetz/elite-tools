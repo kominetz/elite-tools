{
 "metadata": {
  "language_info": {
   "codemirror_mode": {
    "name": "ipython",
    "version": 3
   },
   "file_extension": ".py",
   "mimetype": "text/x-python",
   "name": "python",
   "nbconvert_exporter": "python",
   "pygments_lexer": "ipython3",
   "version": "3.8.6-final"
  },
  "orig_nbformat": 2,
  "kernelspec": {
   "name": "python3",
   "display_name": "Python 3.8.6 64-bit",
   "metadata": {
    "interpreter": {
     "hash": "64a2d09fa3906c585c99906e698c2767b0e84ad70b4934ba5da95196e2eb7739"
    }
   }
  }
 },
 "nbformat": 4,
 "nbformat_minor": 2,
 "cells": [
  {
   "cell_type": "code",
   "execution_count": null,
   "metadata": {},
   "outputs": [],
   "source": [
    "import os\n",
    "import os.path\n",
    "import sys\n",
    "import pandas as pd\n",
    "from pathlib import Path\n",
    "sys.path.insert(0, '..')\n",
    "from elitetools import eddb\n",
    "eddb.load_feeds()"
   ]
  },
  {
   "cell_type": "code",
   "execution_count": null,
   "metadata": {},
   "outputs": [],
   "source": [
    "origin = input(\"Home System: \")\n",
    "origin"
   ]
  },
  {
   "cell_type": "code",
   "execution_count": null,
   "metadata": {},
   "outputs": [],
   "source": [
    "core_systems = eddb.query_nearby_systems(origin, eddb.SYSTEM_INFLUENCE_RANGE)\n",
    "extended_systems = eddb.query_nearby_systems(core_systems, eddb.SYSTEM_INFLUENCE_RANGE)\n",
    "system_summaries = eddb.system_survey_report(extended_systems, origin)\n",
    "system_summaries.sort_values(by='Distance')\n",
    "system_summaries.to_clipboard(header=None, index=False)\n",
    "system_summaries"
   ]
  }
 ]
}