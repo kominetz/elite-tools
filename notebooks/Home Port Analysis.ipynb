{
 "cells": [
  {
   "cell_type": "code",
   "execution_count": null,
   "metadata": {},
   "outputs": [],
   "source": [
    "import os\n",
    "import os.path\n",
    "import sys\n",
    "import pandas as pd\n",
    "from pathlib import Path\n",
    "sys.path.insert(0, '..')\n",
    "from elitetools import eddb\n",
    "eddb.load_feeds()"
   ]
  },
  {
   "cell_type": "code",
   "execution_count": null,
   "metadata": {},
   "outputs": [],
   "source": [
    "#origin = input(\"Home System: \")\n",
    "#core_systems = eddb.query_nearby_systems(origin, eddb.SYSTEM_INFLUENCE_RANGE)\n",
    "core_systems_list = \"Beatis Secundus,Eudora,Concordia,Bedrock,Aventine,Haven,New Chana,San Baltah’Sine\"\n",
    "core_systems = [n.strip() for n in core_systems_list.split(',')]\n",
    "origin = eddb.center(core_systems)\n"
   ]
  },
  {
   "cell_type": "code",
   "execution_count": null,
   "metadata": {},
   "outputs": [],
   "source": [
    "extended_systems = eddb.query_nearby_systems(core_systems, eddb.SYSTEM_INFLUENCE_RANGE)\n",
    "system_summaries = eddb.system_survey_report(extended_systems, origin)\n",
    "system_summaries.sort_values(by='Distance')\n",
    "system_summaries.to_clipboard(header=None, index=False)\n",
    "system_summaries"
   ]
  }
 ],
 "metadata": {
  "kernelspec": {
   "display_name": "Python 3.10.8 64-bit (microsoft store)",
   "language": "python",
   "name": "python3"
  },
  "language_info": {
   "codemirror_mode": {
    "name": "ipython",
    "version": 3
   },
   "file_extension": ".py",
   "mimetype": "text/x-python",
   "name": "python",
   "nbconvert_exporter": "python",
   "pygments_lexer": "ipython3",
   "version": "3.10.8"
  },
  "orig_nbformat": 2,
  "vscode": {
   "interpreter": {
    "hash": "aa1e2ddce8b04aec7b3edf0d8441e6cbb5d191733fc9f8125fc294ebf7ffc880"
   }
  }
 },
 "nbformat": 4,
 "nbformat_minor": 2
}
