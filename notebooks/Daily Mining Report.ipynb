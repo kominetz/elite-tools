{
 "cells": [
  {
   "cell_type": "code",
   "execution_count": null,
   "metadata": {
    "tags": []
   },
   "outputs": [],
   "source": [
    "from datetime import datetime\n",
    "import os\n",
    "import os.path\n",
    "import sys\n",
    "from pathlib import Path\n",
    "sys.path.insert(0, '..')\n",
    "from elitetools import eddb\n",
    "eddb.load_feeds(force_refresh=False)\n",
    "datetime.now().isoformat()"
   ]
  },
  {
   "cell_type": "code",
   "execution_count": null,
   "metadata": {},
   "outputs": [],
   "source": [
    "demand_factor   = 4\n",
    "max_jumps       = 3\n",
    "\n",
    "ref_system           = 'Concordia'\n",
    "ref_radius           = 500\n",
    "cargo_capacity       = 128\n",
    "\n",
    "core_ref_system      = 'Concordia'\n",
    "core_ref_radius      = max_jumps * 22\n",
    "core_min_demand      = demand_factor * 192\n",
    "core_large_pad_only  = False\n",
    "\n",
    "laser_ref_system     = 'Concordia'\n",
    "laser_ref_radius     = max_jumps * 30\n",
    "laser_min_demand     = demand_factor * 512\n",
    "laser_large_pad_only = False"
   ]
  },
  {
   "cell_type": "markdown",
   "metadata": {},
   "source": [
    "## Top Score Mineral Listings ##"
   ]
  },
  {
   "cell_type": "code",
   "execution_count": null,
   "metadata": {
    "tags": []
   },
   "outputs": [],
   "source": [
    "eddb.top_score_mineral_listings(ref_system, ref_radius, commodity_count=3, top_count=25)"
   ]
  },
  {
   "cell_type": "markdown",
   "metadata": {},
   "source": [
    "## Top Performance Core Mineral Listings ##"
   ]
  },
  {
   "cell_type": "code",
   "execution_count": null,
   "metadata": {},
   "outputs": [],
   "source": [
    "eddb.top_perf_mineral_listings(core_ref_system, core_ref_radius, by_commodity=eddb.top_core_minerals, commodity_count=3, top_count=15, min_demand=core_min_demand, large_pad_only=core_large_pad_only)"
   ]
  },
  {
   "cell_type": "markdown",
   "metadata": {},
   "source": [
    "## Top Price Core Mineral Listings ##"
   ]
  },
  {
   "cell_type": "code",
   "execution_count": null,
   "metadata": {},
   "outputs": [],
   "source": [
    "eddb.top_price_mineral_listings(core_ref_system, core_ref_radius, by_commodity=eddb.top_core_minerals, commodity_count=3, top_count=15, min_demand=core_min_demand, large_pad_only=core_large_pad_only)"
   ]
  },
  {
   "cell_type": "markdown",
   "metadata": {},
   "source": [
    "## Top Performance Laser Mineral Listings ##"
   ]
  },
  {
   "cell_type": "code",
   "execution_count": null,
   "metadata": {},
   "outputs": [],
   "source": [
    "eddb.top_perf_mineral_listings(laser_ref_system, laser_ref_radius, commodity_count=3, top_count=15, by_commodity=eddb.top_laser_minerals, min_demand=laser_min_demand, large_pad_only=laser_large_pad_only)"
   ]
  },
  {
   "cell_type": "markdown",
   "metadata": {},
   "source": [
    "## Top Price Laser Mineral Listings ##"
   ]
  },
  {
   "cell_type": "code",
   "execution_count": null,
   "metadata": {
    "scrolled": true
   },
   "outputs": [],
   "source": [
    "eddb.top_price_mineral_listings(laser_ref_system, laser_ref_radius, commodity_count=3, top_count=15, by_commodity=eddb.top_laser_minerals, min_demand=laser_min_demand, large_pad_only=laser_large_pad_only)"
   ]
  }
 ],
 "metadata": {
  "kernelspec": {
   "display_name": "Python 3.10.5 64-bit (windows store)",
   "language": "python",
   "name": "python3"
  },
  "language_info": {
   "codemirror_mode": {
    "name": "ipython",
    "version": 3
   },
   "file_extension": ".py",
   "mimetype": "text/x-python",
   "name": "python",
   "nbconvert_exporter": "python",
   "pygments_lexer": "ipython3",
   "version": "3.10.8"
  },
  "metadata": {
   "interpreter": {
    "hash": "9d35b96a40f6b9c941905013a647818129c5962a78f981fa1f821d9e05c6ff52"
   }
  },
  "vscode": {
   "interpreter": {
    "hash": "aa1e2ddce8b04aec7b3edf0d8441e6cbb5d191733fc9f8125fc294ebf7ffc880"
   }
  }
 },
 "nbformat": 4,
 "nbformat_minor": 4
}
