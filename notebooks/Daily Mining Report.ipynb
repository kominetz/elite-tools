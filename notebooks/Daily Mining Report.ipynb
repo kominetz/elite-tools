{
 "cells": [
  {
   "cell_type": "code",
   "execution_count": null,
   "metadata": {
    "tags": []
   },
   "outputs": [],
   "source": [
    "import os\n",
    "import os.path\n",
    "import sys\n",
    "from pathlib import Path\n",
    "sys.path.insert(0, '..')\n",
    "from elitetools import eddb\n",
    "eddb.load_feeds()"
   ]
  },
  {
   "cell_type": "code",
   "execution_count": null,
   "metadata": {},
   "outputs": [],
   "source": [
    "ref_system           = 'Azrael'\n",
    "ref_radius           = 500\n",
    "cargo_capacity       = 196\n",
    "\n",
    "core_ref_system      = 'Azrael'\n",
    "core_ref_radius      = 259\n",
    "core_cargo_capacity  = 196\n",
    "\n",
    "laser_ref_system     = 'Azrael'\n",
    "laser_ref_radius     = 209\n",
    "laser_cargo_capacity = 640\n",
    "\n",
    "min_demand           = 4 * cargo_capacity\n",
    "core_min_demand      = 4 * core_cargo_capacity\n",
    "laser_min_demand     = 4 * laser_cargo_capacity"
   ]
  },
  {
   "cell_type": "markdown",
   "metadata": {},
   "source": [
    "## Top Performing Listing By Mineral ##"
   ]
  },
  {
   "cell_type": "code",
   "execution_count": null,
   "metadata": {},
   "outputs": [],
   "source": [
    "eddb.top_perf_mineral_listings(ref_system, ref_radius, commodity_count=1, top_count=100)"
   ]
  },
  {
   "cell_type": "markdown",
   "metadata": {},
   "source": [
    "## Top Price Listing By Mineral ##"
   ]
  },
  {
   "cell_type": "code",
   "execution_count": null,
   "metadata": {},
   "outputs": [],
   "source": [
    "eddb.top_price_mineral_listings(ref_system, ref_radius, commodity_count=1, top_count=100)"
   ]
  },
  {
   "cell_type": "markdown",
   "metadata": {},
   "source": [
    "## Top Scoring Listing By Mineral ##"
   ]
  },
  {
   "cell_type": "code",
   "execution_count": null,
   "metadata": {},
   "outputs": [],
   "source": [
    "eddb.top_score_mineral_listings(ref_system, ref_radius, commodity_count=1, top_count=100, min_score = 0.0)"
   ]
  },
  {
   "cell_type": "markdown",
   "metadata": {},
   "source": [
    "# Top Performing Mineral Listings #"
   ]
  },
  {
   "cell_type": "code",
   "execution_count": null,
   "metadata": {},
   "outputs": [],
   "source": [
    "eddb.top_perf_mineral_listings(ref_system, ref_radius, commodity_count=5, top_count=25, min_perf = 1.0)"
   ]
  },
  {
   "cell_type": "markdown",
   "metadata": {},
   "source": [
    "## Top Core Mineral Price Listings ##"
   ]
  },
  {
   "cell_type": "code",
   "execution_count": null,
   "metadata": {
    "scrolled": true
   },
   "outputs": [],
   "source": [
    "eddb.top_price_mineral_listings(core_ref_system, core_ref_radius, commodity_count=5, top_count=25, by_commodity=eddb.top_core_minerals, min_demand=core_min_demand)"
   ]
  },
  {
   "cell_type": "markdown",
   "metadata": {},
   "source": [
    "## Top Laser Mineral Price Listings ##"
   ]
  },
  {
   "cell_type": "code",
   "execution_count": null,
   "metadata": {
    "scrolled": true
   },
   "outputs": [],
   "source": [
    "eddb.top_price_mineral_listings(laser_ref_system, laser_ref_radius, commodity_count=5, top_count=25, by_commodity=eddb.top_laser_minerals, min_demand=laser_min_demand)"
   ]
  },
  {
   "cell_type": "markdown",
   "metadata": {},
   "source": [
    "## Top Scoring Mineral Listings ##"
   ]
  },
  {
   "cell_type": "code",
   "execution_count": null,
   "metadata": {},
   "outputs": [],
   "source": [
    "eddb.top_score_mineral_listings(ref_system, ref_radius, commodity_count=5, top_count=25, min_score = 1.0)"
   ]
  }
 ],
 "metadata": {
  "kernelspec": {
   "display_name": "Python 3.10.5 64-bit (windows store)",
   "language": "python",
   "name": "python3"
  },
  "language_info": {
   "codemirror_mode": {
    "name": "ipython",
    "version": 3
   },
   "file_extension": ".py",
   "mimetype": "text/x-python",
   "name": "python",
   "nbconvert_exporter": "python",
   "pygments_lexer": "ipython3",
   "version": "3.10.5"
  },
  "vscode": {
   "interpreter": {
    "hash": "aa1e2ddce8b04aec7b3edf0d8441e6cbb5d191733fc9f8125fc294ebf7ffc880"
   }
  }
 },
 "nbformat": 4,
 "nbformat_minor": 4
}
