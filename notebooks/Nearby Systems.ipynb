{
 "cells": [
  {
   "cell_type": "code",
   "execution_count": null,
   "metadata": {},
   "outputs": [],
   "source": [
    "import os\n",
    "import os.path\n",
    "import sys\n",
    "import pandas as pd\n",
    "from pathlib import Path\n",
    "sys.path.insert(0, '..')\n",
    "from elitetools import eddb\n",
    "eddb.load_feeds()"
   ]
  },
  {
   "cell_type": "code",
   "execution_count": null,
   "metadata": {},
   "outputs": [],
   "source": [
    "# systems = input(\"Systems: \")\n",
    "#systems = 'Shinrarta Dezhra, Alioth, Muang, Shenve, Sol, Leesti, Khun, Deciat, Kuwemaki, Giryak, Laksak, Eurybia, Shinrarta Dezhra, Sirius, Arque, Meene, Kuk, Wyrd, Beta-3 Tucani, Achenar, Wolf 397, Yoru'\n",
    "systems = set(eddb.query_systems_by_faction(\"The Order of Mobius\"))\n",
    "origin = eddb.center(systems)\n",
    "origin"
   ]
  },
  {
   "cell_type": "code",
   "execution_count": null,
   "metadata": {},
   "outputs": [],
   "source": [
    "radius = 0\n",
    "# radius = int(input(\"Radius (ly): \"))\n",
    "if radius == 0:\n",
    "    radius = max(eddb.distance(origin, s.strip()) for s in systems.split(\",\"))\n",
    "radius"
   ]
  },
  {
   "cell_type": "code",
   "execution_count": null,
   "metadata": {},
   "outputs": [],
   "source": [
    "nearby_systems = eddb.query_nearby_systems(origin, radius)\n",
    "system_summaries = eddb.system_survey_report(nearby_systems, origin)\n",
    "system_summaries"
   ]
  },
  {
   "cell_type": "code",
   "execution_count": null,
   "metadata": {},
   "outputs": [],
   "source": [
    "system_summaries.to_clipboard(header=None, index=False)"
   ]
  }
 ],
 "metadata": {
  "kernelspec": {
   "display_name": "Python 3.8.6 64-bit",
   "metadata": {
    "interpreter": {
     "hash": "64a2d09fa3906c585c99906e698c2767b0e84ad70b4934ba5da95196e2eb7739"
    }
   },
   "name": "python3"
  },
  "language_info": {
   "codemirror_mode": {
    "name": "ipython",
    "version": 3
   },
   "file_extension": ".py",
   "mimetype": "text/x-python",
   "name": "python",
   "nbconvert_exporter": "python",
   "pygments_lexer": "ipython3",
   "version": "3.8.6-final"
  },
  "orig_nbformat": 2
 },
 "nbformat": 4,
 "nbformat_minor": 2
}
