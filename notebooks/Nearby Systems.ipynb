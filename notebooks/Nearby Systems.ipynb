{
 "cells": [
  {
   "cell_type": "code",
   "execution_count": null,
   "metadata": {},
   "outputs": [],
   "source": [
    "import os\n",
    "import os.path\n",
    "import sys\n",
    "import pandas as pd\n",
    "from pathlib import Path\n",
    "sys.path.insert(0, '..')\n",
    "from elitetools import eddb\n",
    "eddb.load_feeds()\n"
   ]
  },
  {
   "cell_type": "code",
   "execution_count": null,
   "metadata": {},
   "outputs": [],
   "source": [
    "#systems = input(\"Systems: \")\n",
    "#systems = 'Shinrarta Dezhra, Alioth, Muang, Shenve, Sol, Leesti, Khun, Deciat, Kuwemaki, Giryak, Laksak, Eurybia, Shinrarta Dezhra, Sirius, Arque, Meene, Kuk, Wyrd, Beta-3 Tucani, Achenar, Wolf 397, Yoru'\n",
    "#systems = set(eddb.query_systems_by_faction(\"The Order of Mobius\"))\n",
    "systems = \"Beatis Secundus,Eudora,Concordia,Bedrock,Aventine,Haven,New Chana,San Baltah’Sine\"\n",
    "origin = eddb.center(systems)"
   ]
  },
  {
   "cell_type": "code",
   "execution_count": null,
   "metadata": {},
   "outputs": [],
   "source": [
    "radius = 0\n",
    "# radius = int(input(\"Radius (ly): \"))\n",
    "if radius == 0:\n",
    "    radius = max(eddb.distance(origin, s.strip()) for s in systems.split(','))\n",
    "radius"
   ]
  },
  {
   "cell_type": "code",
   "execution_count": null,
   "metadata": {},
   "outputs": [],
   "source": [
    "nearby_systems = eddb.query_nearby_systems(origin, radius)\n",
    "system_summaries = eddb.system_survey_report(nearby_systems, origin)\n",
    "system_summaries"
   ]
  },
  {
   "cell_type": "code",
   "execution_count": null,
   "metadata": {},
   "outputs": [],
   "source": [
    "system_summaries.to_clipboard(header=None, index=False)\n"
   ]
  }
 ],
 "metadata": {
  "kernelspec": {
   "display_name": "Python 3.10.8 64-bit (microsoft store)",
   "language": "python",
   "name": "python3"
  },
  "language_info": {
   "codemirror_mode": {
    "name": "ipython",
    "version": 3
   },
   "file_extension": ".py",
   "mimetype": "text/x-python",
   "name": "python",
   "nbconvert_exporter": "python",
   "pygments_lexer": "ipython3",
   "version": "3.10.8"
  },
  "orig_nbformat": 2,
  "vscode": {
   "interpreter": {
    "hash": "aa1e2ddce8b04aec7b3edf0d8441e6cbb5d191733fc9f8125fc294ebf7ffc880"
   }
  }
 },
 "nbformat": 4,
 "nbformat_minor": 2
}
