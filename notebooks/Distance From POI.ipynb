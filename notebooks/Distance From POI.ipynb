{
 "cells": [
  {
   "cell_type": "code",
   "execution_count": 1,
   "metadata": {
    "tags": []
   },
   "outputs": [
    {
     "name": "stdout",
     "output_type": "stream",
     "text": [
      "# Found \"C:\\Users\\komin\\AppData\\Local\\Temp\\elite-tools\\archive-v6-commodities.json\".\n",
      "# Feeds.COMMODITIES records loaded:  373\n",
      "# Found \"C:\\Users\\komin\\AppData\\Local\\Temp\\elite-tools\\archive-v6-listings.csv\".\n",
      "# Feeds.PRICES records loaded:  4191028\n",
      "# Found \"C:\\Users\\komin\\AppData\\Local\\Temp\\elite-tools\\archive-v6-factions.jsonl\".\n",
      "# Feeds.FACTIONS records loaded:  77156\n",
      "# Found \"C:\\Users\\komin\\AppData\\Local\\Temp\\elite-tools\\archive-v6-systems_populated.jsonl\".\n",
      "# Feeds.POPULATED_SYSTEMS records loaded:  20568\n",
      "# Found \"C:\\Users\\komin\\AppData\\Local\\Temp\\elite-tools\\archive-v6-stations.jsonl\".\n",
      "# Feeds.STATIONS records loaded:  76104\n",
      "# Scraping \"C:\\Users\\komin\\AppData\\Local\\Temp\\elite-tools\\scraped_listings.jsonl\".\n",
      "# Alexandrite: 25 listings scraped.\n",
      "# Benitoite: 25 listings scraped.\n",
      "# Bromellite: 25 listings scraped.\n",
      "# Grandidierite: 25 listings scraped.\n",
      "# Low Temperature Diamonds: 25 listings scraped.\n",
      "# Monazite: 25 listings scraped.\n",
      "# Musgravite: 25 listings scraped.\n",
      "# Painite: 25 listings scraped.\n",
      "# Platinum: 25 listings scraped.\n",
      "# Rhodplumsite: 25 listings scraped.\n",
      "# Serendibite: 25 listings scraped.\n",
      "# Tritium: 25 listings scraped.\n",
      "# Void Opals: 25 listings scraped.\n",
      "# Real-time listing records loaded:  325\n"
     ]
    }
   ],
   "source": [
    "import os\n",
    "import os.path\n",
    "import sys\n",
    "import pandas as pd\n",
    "from pathlib import Path\n",
    "sys.path.insert(0, '..')\n",
    "from elitetools import eddb\n",
    "eddb.load_feeds()"
   ]
  },
  {
   "cell_type": "markdown",
   "metadata": {},
   "source": [
    "## Distance From ##"
   ]
  },
  {
   "cell_type": "code",
   "execution_count": 6,
   "metadata": {
    "scrolled": true
   },
   "outputs": [
    {
     "data": {
      "text/html": [
       "<div>\n",
       "<style scoped>\n",
       "    .dataframe tbody tr th:only-of-type {\n",
       "        vertical-align: middle;\n",
       "    }\n",
       "\n",
       "    .dataframe tbody tr th {\n",
       "        vertical-align: top;\n",
       "    }\n",
       "\n",
       "    .dataframe thead th {\n",
       "        text-align: right;\n",
       "    }\n",
       "</style>\n",
       "<table border=\"1\" class=\"dataframe\">\n",
       "  <thead>\n",
       "    <tr style=\"text-align: right;\">\n",
       "      <th></th>\n",
       "      <th>Distance From:</th>\n",
       "      <th>Bhare</th>\n",
       "      <th>Xi Phoenicis</th>\n",
       "    </tr>\n",
       "  </thead>\n",
       "  <tbody>\n",
       "    <tr>\n",
       "      <th>0</th>\n",
       "      <td>Azrael</td>\n",
       "      <td>111.9</td>\n",
       "      <td>97.4</td>\n",
       "    </tr>\n",
       "    <tr>\n",
       "      <th>1</th>\n",
       "      <td>Shinrarta Dezhra</td>\n",
       "      <td>133.7</td>\n",
       "      <td>213.6</td>\n",
       "    </tr>\n",
       "    <tr>\n",
       "      <th>2</th>\n",
       "      <td>Sol</td>\n",
       "      <td>130.7</td>\n",
       "      <td>218.6</td>\n",
       "    </tr>\n",
       "    <tr>\n",
       "      <th>3</th>\n",
       "      <td>Achenar</td>\n",
       "      <td>97.7</td>\n",
       "      <td>82.5</td>\n",
       "    </tr>\n",
       "    <tr>\n",
       "      <th>4</th>\n",
       "      <td>Alioth</td>\n",
       "      <td>203.0</td>\n",
       "      <td>301.1</td>\n",
       "    </tr>\n",
       "    <tr>\n",
       "      <th>5</th>\n",
       "      <td>Asterope</td>\n",
       "      <td>443.5</td>\n",
       "      <td>431.0</td>\n",
       "    </tr>\n",
       "    <tr>\n",
       "      <th>6</th>\n",
       "      <td>Pencil Sector EL-Y D5</td>\n",
       "      <td>823.1</td>\n",
       "      <td>761.6</td>\n",
       "    </tr>\n",
       "    <tr>\n",
       "      <th>7</th>\n",
       "      <td>Colonia</td>\n",
       "      <td>21914.2</td>\n",
       "      <td>21976.4</td>\n",
       "    </tr>\n",
       "    <tr>\n",
       "      <th>8</th>\n",
       "      <td>Bhare</td>\n",
       "      <td>0.0</td>\n",
       "      <td>134.2</td>\n",
       "    </tr>\n",
       "    <tr>\n",
       "      <th>9</th>\n",
       "      <td>Xi Phoenicis</td>\n",
       "      <td>134.2</td>\n",
       "      <td>0.0</td>\n",
       "    </tr>\n",
       "  </tbody>\n",
       "</table>\n",
       "</div>"
      ],
      "text/plain": [
       "          Distance From:    Bhare  Xi Phoenicis\n",
       "0                 Azrael    111.9          97.4\n",
       "1       Shinrarta Dezhra    133.7         213.6\n",
       "2                    Sol    130.7         218.6\n",
       "3                Achenar     97.7          82.5\n",
       "4                 Alioth    203.0         301.1\n",
       "5               Asterope    443.5         431.0\n",
       "6  Pencil Sector EL-Y D5    823.1         761.6\n",
       "7                Colonia  21914.2       21976.4\n",
       "8                  Bhare      0.0         134.2\n",
       "9           Xi Phoenicis    134.2           0.0"
      ]
     },
     "execution_count": 6,
     "metadata": {},
     "output_type": "execute_result"
    }
   ],
   "source": [
    "targets = ['Bhare', 'Xi Phoenicis']\n",
    "destinations = ['Azrael', 'Shinrarta Dezhra', 'Sol', 'Achenar', 'Alioth', 'Asterope', 'Pencil Sector EL-Y D5', 'Colonia']\n",
    "destinations += targets\n",
    "df_data = {'Distance From:': destinations}\n",
    "for target_name in targets:\n",
    "    df_data[target_name] = [eddb.distance(target_name, d) for d in destinations]\n",
    "distance_from = pd.DataFrame(df_data)\n",
    "distance_from"
   ]
  },
  {
   "cell_type": "code",
   "execution_count": null,
   "metadata": {},
   "outputs": [],
   "source": []
  }
 ],
 "metadata": {
  "kernelspec": {
   "display_name": "Python 3",
   "language": "python",
   "name": "python3"
  },
  "language_info": {
   "codemirror_mode": {
    "name": "ipython",
    "version": 3
   },
   "file_extension": ".py",
   "mimetype": "text/x-python",
   "name": "python",
   "nbconvert_exporter": "python",
   "pygments_lexer": "ipython3",
   "version": "3.7.6"
  }
 },
 "nbformat": 4,
 "nbformat_minor": 4
}
