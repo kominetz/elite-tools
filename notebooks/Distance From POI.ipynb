{
 "cells": [
  {
   "cell_type": "code",
   "execution_count": null,
   "metadata": {
    "tags": []
   },
   "outputs": [],
   "source": [
    "import os\n",
    "import os.path\n",
    "import sys\n",
    "import pandas as pd\n",
    "from pathlib import Path\n",
    "sys.path.insert(0, '..')\n",
    "from elitetools import eddb\n",
    "eddb.load_feeds()"
   ]
  },
  {
   "cell_type": "markdown",
   "metadata": {},
   "source": [
    "## Distance From Points Of Interest ##"
   ]
  },
  {
   "cell_type": "code",
   "execution_count": null,
   "metadata": {
    "scrolled": true
   },
   "outputs": [],
   "source": [
    "targets = [x.strip() for x in 'Fjorgyn, HR 4979, Wolf 294, Lambda-2 Tucanae, Potriti, LHS 4058, Chakpa, Gally Bese, Eta Cephei, Ninabin'.split(',')]\n",
    "points_of_interest = ['Azrael', 'Shinrarta Dezhra', 'Sol', 'Achenar', 'Alioth', 'Asterope', 'Pencil Sector EL-Y D5', 'Colonia']\n",
    "targets_as_destinations = True"
   ]
  },
  {
   "cell_type": "code",
   "execution_count": null,
   "metadata": {},
   "outputs": [],
   "source": [
    "destinations = (points_of_interest + targets) if targets_as_destinations else points_of_interest\n",
    "df_data = {'Distance From:': destinations}\n",
    "for target_name in targets:\n",
    "    df_data[target_name] = [eddb.distance(target_name, d) for d in destinations]\n",
    "distance_from = pd.DataFrame(df_data)\n",
    "distance_from"
   ]
  }
 ],
 "metadata": {
  "kernelspec": {
   "name": "Python 3.8.6 64-bit",
   "display_name": "Python 3.8.6 64-bit",
   "metadata": {
    "interpreter": {
     "hash": "64a2d09fa3906c585c99906e698c2767b0e84ad70b4934ba5da95196e2eb7739"
    }
   }
  },
  "language_info": {
   "codemirror_mode": {
    "name": "ipython",
    "version": 3
   },
   "file_extension": ".py",
   "mimetype": "text/x-python",
   "name": "python",
   "nbconvert_exporter": "python",
   "pygments_lexer": "ipython3",
   "version": "3.8.6-final"
  }
 },
 "nbformat": 4,
 "nbformat_minor": 4
}