{
 "cells": [
  {
   "cell_type": "code",
   "execution_count": null,
   "metadata": {},
   "outputs": [],
   "source": [
    "import os\n",
    "import os.path\n",
    "import sys\n",
    "import pandas as pd\n",
    "from pathlib import Path\n",
    "sys.path.insert(0, '..')\n",
    "from elitetools import eddb\n",
    "from elitetools.eddb import distance, load_feeds, station_details, populated_systems\n",
    "load_feeds()\n"
   ]
  },
  {
   "cell_type": "code",
   "execution_count": null,
   "metadata": {},
   "outputs": [],
   "source": [
    "origin = 'Mbooni'\n",
    "\n",
    "fcoc_systems     = ['LHS 2687', 'LTT 13125', 'HR 5451']\n",
    "fcoc_stations    = ['Wells Termnial', 'Jenkinson City', 'Ross Port', 'Markham Orbital', 'Hamilton Hub', 'Macdonald Hub', 'Mieville City', 'Dantec City']\n",
    "fcoc_station_ids = [9815, 13161, 13163, 7819, 7820, 7822, 1990, 899, 2785]\n",
    "query_filter     = f'supply >= 25000 and station_id in {fcoc_station_ids}'\n"
   ]
  },
  {
   "cell_type": "code",
   "execution_count": null,
   "metadata": {},
   "outputs": [],
   "source": [
    "fcoc_distances = pd.DataFrame({'System': fcoc_systems, 'LY To': [distance(origin, system_name) for system_name in fcoc_systems]})\n",
    "fcoc_listings = eddb.commodity_listings_eod[eddb.commodity_listings_eod['commodity_id'] == 362].query(query_filter).sort_values('buy_price', ascending=True) \\\n",
    "        .merge(station_details[['id', 'name', 'system_id', 'max_landing_pad_size', 'distance_to_star']].rename(columns={'id': 'station_id', 'name': 'station', 'max_landing_pad_size': 'Pad Size', 'distance_to_star': 'LS To'}), on='station_id') \\\n",
    "        .merge(populated_systems[['id', 'name']].rename(columns={'id': 'system_id', 'name': 'System'}), on='system_id') \\\n",
    "        .merge(fcoc_distances, on='System') \\\n",
    "        .rename(columns={'buy_price': 'Buy Price', 'station': 'Station', 'supply': 'Supply'})\n",
    "fcoc_table = fcoc_listings[['System', 'Station', 'LY To', 'LS To', 'Supply', 'Buy Price']].sort_values(by=['Buy Price', 'LY To', 'LS To'], ascending=[True, True, True])\n"
   ]
  },
  {
   "cell_type": "markdown",
   "metadata": {},
   "source": [
    "## FCOC Tritium Prices ##\n",
    "- Remember to add at least 10,000 credits per ton incentive"
   ]
  },
  {
   "cell_type": "code",
   "execution_count": null,
   "metadata": {},
   "outputs": [],
   "source": [
    "fcoc_table.to_clipboard()\n",
    "fcoc_table\n"
   ]
  }
 ],
 "metadata": {
  "kernelspec": {
   "display_name": "Python 3.10.8 64-bit (microsoft store)",
   "language": "python",
   "name": "python3"
  },
  "language_info": {
   "codemirror_mode": {
    "name": "ipython",
    "version": 3
   },
   "file_extension": ".py",
   "mimetype": "text/x-python",
   "name": "python",
   "nbconvert_exporter": "python",
   "pygments_lexer": "ipython3",
   "version": "3.10.8"
  },
  "orig_nbformat": 4,
  "vscode": {
   "interpreter": {
    "hash": "aa1e2ddce8b04aec7b3edf0d8441e6cbb5d191733fc9f8125fc294ebf7ffc880"
   }
  }
 },
 "nbformat": 4,
 "nbformat_minor": 2
}
