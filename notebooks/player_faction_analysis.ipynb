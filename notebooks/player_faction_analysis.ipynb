{
 "cells": [
  {
   "cell_type": "code",
   "execution_count": 7,
   "metadata": {},
   "outputs": [
    {
     "output_type": "stream",
     "name": "stdout",
     "text": "# Found \"C:\\Users\\komin\\AppData\\Local\\Temp\\elite-tools\\archive-v6-systems_populated.jsonl\".\n# Feeds.POPULATED_SYSTEMS records loaded:  20629\n# Found \"C:\\Users\\komin\\AppData\\Local\\Temp\\elite-tools\\archive-v6-stations.jsonl\".\n# Feeds.STATIONS records loaded:  49453\n# Found \"C:\\Users\\komin\\AppData\\Local\\Temp\\elite-tools\\archive-v6-factions.jsonl\".\n# Feeds.FACTIONS records loaded:  77094\n"
    }
   ],
   "source": [
    "import pandas as pd\n",
    "import eddb\n",
    "eddb.load_feeds()"
   ]
  },
  {
   "cell_type": "code",
   "execution_count": 8,
   "metadata": {},
   "outputs": [],
   "source": [
    "origin = 'Azrael'\n",
    "faction = \"The Order of Mobius\"\n",
    "core_systems = set(eddb.query_systems_by_faction(faction))\n",
    "extended_systems = set([inf_s for core_s in core_systems for inf_s in eddb.query_nearby_systems(core_s, eddb.SYSTEM_INFLUENCE_RANGE)])"
   ]
  },
  {
   "cell_type": "code",
   "execution_count": 9,
   "metadata": {},
   "outputs": [
    {
     "output_type": "execute_result",
     "data": {
      "text/plain": "\"Magnates of Cemiess\\nLavigny's Legion\\nDaily Routine Incorporated\\nAncient World Order\\nDecimus Imperium Lex\\nImperial Trade Works\\nZeta Corporation\\nWhite Scar Contingency\\nImperial Privateers\\nOuter Worlds Network\\nLibertas Co-operative\\nThe Order of Mobius\\nShadows of the Void\\nPrismatic Knights\\nBrowncoat Uprising\\nExtra Corporation\\nThe Empires Fleet\\nEmpire Corsairs\\nSilver Hunter Order\\nThe Independent Light Wheel\\nSociety Of Greybeards\\nBlack Ram\\nThe 10th Legion\\nImperial Galactic Investments Inc\\nRoyal Elite of the Grand Duke\\nStellar Winter Squadron\\nThe White Templars\\nThe Guardian Angels\\nImperial Ghost Division\""
     },
     "metadata": {},
     "execution_count": 9
    }
   ],
   "source": [
    "cpf = eddb.player_faction_controlled(extended_systems)\n",
    "\"\\n\".join(cpf)"
   ]
  },
  {
   "cell_type": "code",
   "execution_count": 10,
   "metadata": {},
   "outputs": [
    {
     "output_type": "execute_result",
     "data": {
      "text/plain": "                                        control  presence\nname                                                     \nThe Order of Mobius                          21         1\nLavigny's Legion                             14         1\nDecimus Imperium Lex                         13         0\nSilver Hunter Order                           8         3\nThe 10th Legion                               7         1\nDaily Routine Incorporated                    7         0\nLibertas Co-operative                         6         3\nThe White Templars                            5         0\nEmpire Corsairs                               4         4\nWhite Scar Contingency                        4         2\nImperial Trade Works                          2         4\nBlack Ram                                     2         2\nThe Empires Fleet                             2         1\nThe Independent Light Wheel                   2         1\nMagnates of Cemiess                           2         0\nRoyal Elite of the Grand Duke                 2         0\nShadows of the Void                           1         5\nThe Guardian Angels                           1         2\nBrowncoat Uprising                            1         1\nStellar Winter Squadron                       1         1\nAncient World Order                           1         0\nExtra Corporation                             1         0\nImperial Galactic Investments Inc             1         0\nImperial Ghost Division                       1         0\nImperial Privateers                           1         0\nOuter Worlds Network                          1         0\nPrismatic Knights                             1         0\nSociety Of Greybeards                         1         0\nZeta Corporation                              1         0\nEmpire Consulate Ltd                          0         2\nL.Y.S Corp.                                   0         2\nCorvos                                        0         1\nCwn Annwn                                     0         1\nDark-Armada                                   0         1\nDemons of Praetoria                           0         1\nDivine Brotherhood of Commerce                0         1\nExploration and Resource recovery Corp        0         1\nHeaven's Judgment                             0         1\nLegion of the Black Sea                       0         1\nLegionem Ethicam Corp                         0         1\nLegionnaria Protectiva                        0         1\nMarch of the Council of Nobles                0         1\nMonks of Purity                               0         1\nOrder of Intrepidus                           0         1\nOrder of Open                                 0         1\nPhoenix Inc                                   0         1\nThe Guardians                                 0         1\nThe New Republic of Aymifa                    0         1\nTwilight of the Gods Yarrite Corp.            0         1\nUnion Cosmos                                  0         1\nUnited Imperial Clans                         0         1\nVSOP Privateers                               0         1",
      "text/html": "<div>\n<style scoped>\n    .dataframe tbody tr th:only-of-type {\n        vertical-align: middle;\n    }\n\n    .dataframe tbody tr th {\n        vertical-align: top;\n    }\n\n    .dataframe thead th {\n        text-align: right;\n    }\n</style>\n<table border=\"1\" class=\"dataframe\">\n  <thead>\n    <tr style=\"text-align: right;\">\n      <th></th>\n      <th>control</th>\n      <th>presence</th>\n    </tr>\n    <tr>\n      <th>name</th>\n      <th></th>\n      <th></th>\n    </tr>\n  </thead>\n  <tbody>\n    <tr>\n      <th>The Order of Mobius</th>\n      <td>21</td>\n      <td>1</td>\n    </tr>\n    <tr>\n      <th>Lavigny's Legion</th>\n      <td>14</td>\n      <td>1</td>\n    </tr>\n    <tr>\n      <th>Decimus Imperium Lex</th>\n      <td>13</td>\n      <td>0</td>\n    </tr>\n    <tr>\n      <th>Silver Hunter Order</th>\n      <td>8</td>\n      <td>3</td>\n    </tr>\n    <tr>\n      <th>The 10th Legion</th>\n      <td>7</td>\n      <td>1</td>\n    </tr>\n    <tr>\n      <th>Daily Routine Incorporated</th>\n      <td>7</td>\n      <td>0</td>\n    </tr>\n    <tr>\n      <th>Libertas Co-operative</th>\n      <td>6</td>\n      <td>3</td>\n    </tr>\n    <tr>\n      <th>The White Templars</th>\n      <td>5</td>\n      <td>0</td>\n    </tr>\n    <tr>\n      <th>Empire Corsairs</th>\n      <td>4</td>\n      <td>4</td>\n    </tr>\n    <tr>\n      <th>White Scar Contingency</th>\n      <td>4</td>\n      <td>2</td>\n    </tr>\n    <tr>\n      <th>Imperial Trade Works</th>\n      <td>2</td>\n      <td>4</td>\n    </tr>\n    <tr>\n      <th>Black Ram</th>\n      <td>2</td>\n      <td>2</td>\n    </tr>\n    <tr>\n      <th>The Empires Fleet</th>\n      <td>2</td>\n      <td>1</td>\n    </tr>\n    <tr>\n      <th>The Independent Light Wheel</th>\n      <td>2</td>\n      <td>1</td>\n    </tr>\n    <tr>\n      <th>Magnates of Cemiess</th>\n      <td>2</td>\n      <td>0</td>\n    </tr>\n    <tr>\n      <th>Royal Elite of the Grand Duke</th>\n      <td>2</td>\n      <td>0</td>\n    </tr>\n    <tr>\n      <th>Shadows of the Void</th>\n      <td>1</td>\n      <td>5</td>\n    </tr>\n    <tr>\n      <th>The Guardian Angels</th>\n      <td>1</td>\n      <td>2</td>\n    </tr>\n    <tr>\n      <th>Browncoat Uprising</th>\n      <td>1</td>\n      <td>1</td>\n    </tr>\n    <tr>\n      <th>Stellar Winter Squadron</th>\n      <td>1</td>\n      <td>1</td>\n    </tr>\n    <tr>\n      <th>Ancient World Order</th>\n      <td>1</td>\n      <td>0</td>\n    </tr>\n    <tr>\n      <th>Extra Corporation</th>\n      <td>1</td>\n      <td>0</td>\n    </tr>\n    <tr>\n      <th>Imperial Galactic Investments Inc</th>\n      <td>1</td>\n      <td>0</td>\n    </tr>\n    <tr>\n      <th>Imperial Ghost Division</th>\n      <td>1</td>\n      <td>0</td>\n    </tr>\n    <tr>\n      <th>Imperial Privateers</th>\n      <td>1</td>\n      <td>0</td>\n    </tr>\n    <tr>\n      <th>Outer Worlds Network</th>\n      <td>1</td>\n      <td>0</td>\n    </tr>\n    <tr>\n      <th>Prismatic Knights</th>\n      <td>1</td>\n      <td>0</td>\n    </tr>\n    <tr>\n      <th>Society Of Greybeards</th>\n      <td>1</td>\n      <td>0</td>\n    </tr>\n    <tr>\n      <th>Zeta Corporation</th>\n      <td>1</td>\n      <td>0</td>\n    </tr>\n    <tr>\n      <th>Empire Consulate Ltd</th>\n      <td>0</td>\n      <td>2</td>\n    </tr>\n    <tr>\n      <th>L.Y.S Corp.</th>\n      <td>0</td>\n      <td>2</td>\n    </tr>\n    <tr>\n      <th>Corvos</th>\n      <td>0</td>\n      <td>1</td>\n    </tr>\n    <tr>\n      <th>Cwn Annwn</th>\n      <td>0</td>\n      <td>1</td>\n    </tr>\n    <tr>\n      <th>Dark-Armada</th>\n      <td>0</td>\n      <td>1</td>\n    </tr>\n    <tr>\n      <th>Demons of Praetoria</th>\n      <td>0</td>\n      <td>1</td>\n    </tr>\n    <tr>\n      <th>Divine Brotherhood of Commerce</th>\n      <td>0</td>\n      <td>1</td>\n    </tr>\n    <tr>\n      <th>Exploration and Resource recovery Corp</th>\n      <td>0</td>\n      <td>1</td>\n    </tr>\n    <tr>\n      <th>Heaven's Judgment</th>\n      <td>0</td>\n      <td>1</td>\n    </tr>\n    <tr>\n      <th>Legion of the Black Sea</th>\n      <td>0</td>\n      <td>1</td>\n    </tr>\n    <tr>\n      <th>Legionem Ethicam Corp</th>\n      <td>0</td>\n      <td>1</td>\n    </tr>\n    <tr>\n      <th>Legionnaria Protectiva</th>\n      <td>0</td>\n      <td>1</td>\n    </tr>\n    <tr>\n      <th>March of the Council of Nobles</th>\n      <td>0</td>\n      <td>1</td>\n    </tr>\n    <tr>\n      <th>Monks of Purity</th>\n      <td>0</td>\n      <td>1</td>\n    </tr>\n    <tr>\n      <th>Order of Intrepidus</th>\n      <td>0</td>\n      <td>1</td>\n    </tr>\n    <tr>\n      <th>Order of Open</th>\n      <td>0</td>\n      <td>1</td>\n    </tr>\n    <tr>\n      <th>Phoenix Inc</th>\n      <td>0</td>\n      <td>1</td>\n    </tr>\n    <tr>\n      <th>The Guardians</th>\n      <td>0</td>\n      <td>1</td>\n    </tr>\n    <tr>\n      <th>The New Republic of Aymifa</th>\n      <td>0</td>\n      <td>1</td>\n    </tr>\n    <tr>\n      <th>Twilight of the Gods Yarrite Corp.</th>\n      <td>0</td>\n      <td>1</td>\n    </tr>\n    <tr>\n      <th>Union Cosmos</th>\n      <td>0</td>\n      <td>1</td>\n    </tr>\n    <tr>\n      <th>United Imperial Clans</th>\n      <td>0</td>\n      <td>1</td>\n    </tr>\n    <tr>\n      <th>VSOP Privateers</th>\n      <td>0</td>\n      <td>1</td>\n    </tr>\n  </tbody>\n</table>\n</div>"
     },
     "metadata": {},
     "execution_count": 10
    }
   ],
   "source": [
    "faction_stats = {}\n",
    "for s_name in extended_systems:\n",
    "    s = eddb.populated_systems[s_name]\n",
    "    cf_name = s['controlling_minor_faction']\n",
    "    if cf_name in eddb.player_faction_names:\n",
    "        if cf_name not in faction_stats.keys():\n",
    "            faction_stats[cf_name] = {'name': cf_name, 'control': 0, 'presence': 0}\n",
    "        faction_stats[cf_name]['control'] += 1\n",
    "    for f in s['minor_faction_presences']:\n",
    "        f_name = eddb.faction_names_by_id[f['minor_faction_id']]\n",
    "        if f_name in eddb.player_faction_names:\n",
    "            if f_name not in faction_stats.keys():\n",
    "                faction_stats[f_name] = {'name': f_name, 'control': 0, 'presence': 0}\n",
    "            if f_name != cf_name:\n",
    "                faction_stats[f_name]['presence'] += 1\n",
    "\n",
    "pd.DataFrame.from_dict(faction_stats.values()).set_index('name').sort_values(by=['control', 'presence', 'name'], ascending=[False, False, True])"
   ]
  },
  {
   "cell_type": "code",
   "execution_count": null,
   "metadata": {},
   "outputs": [],
   "source": []
  },
  {
   "cell_type": "code",
   "execution_count": 11,
   "metadata": {},
   "outputs": [
    {
     "output_type": "execute_result",
     "data": {
      "text/plain": "            Category       Name  Distance          Controlling Faction  \\\nPriority                                                                 \n0         Insurgency     Dvorsi      14.5          The Order of Mobius   \n0         Insurgency      Njiri      12.0          The Order of Mobius   \n1            Control   Apathaam       6.0          The Order of Mobius   \n1            Control   Asase Ya      24.6          The Order of Mobius   \n1            Control     Azrael       0.0          The Order of Mobius   \n...              ...        ...       ...                          ...   \n5                NPC       Tewi      23.2  Tewi Guardians of Tradition   \n5                NPC   Thanatos      31.0                 Thanatos Inc   \n5                NPC    Wandjin      23.8       HR 571 Emperor's Grace   \n5                NPC  Windjabar      51.1      Kokonjekodi Empire Pact   \n5                NPC   Zhangana      30.6     Zhangana Empire Assembly   \n\n          Happiness  Influence             Player Factions Present  \\\nPriority                                                             \n0                 1    37.8000  The Order of Mobius, The Guardians   \n0                 2    48.4484      The Order of Mobius, Black Ram   \n1                 2    57.9000                 The Order of Mobius   \n1                 1    48.1000                 The Order of Mobius   \n1                 1    56.0000                 The Order of Mobius   \n...             ...        ...                                 ...   \n5                 2    26.8000                                       \n5                 2    48.6486                                       \n5                 2    44.5000                                       \n5                 2    33.1000                                       \n5                 2    54.0000                                       \n\n                       States   Population   Government   Allegiance  \\\nPriority                                                               \n0                        Boom     65081959  Cooperative  Independent   \n0                        Boom     17186307  Cooperative  Independent   \n1                        Boom      3506390  Cooperative  Independent   \n1                        None  10832961797  Cooperative  Independent   \n1         Boom, Civil Liberty      4500000  Cooperative  Independent   \n...                       ...          ...          ...          ...   \n5                    Election       310841    Patronage       Empire   \n5                        Boom       450000    Corporate       Empire   \n5                        Boom       114523    Patronage       Empire   \n5                        None      3606428    Patronage       Empire   \n5                        Boom       164642    Patronage       Empire   \n\n         Security Level Primary Economy  \nPriority                                 \n0                  High       High Tech  \n0                Medium       High Tech  \n1                Medium      Industrial  \n1                  High     Agriculture  \n1                Medium      Extraction  \n...                 ...             ...  \n5                Medium        Refinery  \n5                Medium        Refinery  \n5                Medium      Extraction  \n5                Medium      Industrial  \n5                Medium        Refinery  \n\n[190 rows x 13 columns]",
      "text/html": "<div>\n<style scoped>\n    .dataframe tbody tr th:only-of-type {\n        vertical-align: middle;\n    }\n\n    .dataframe tbody tr th {\n        vertical-align: top;\n    }\n\n    .dataframe thead th {\n        text-align: right;\n    }\n</style>\n<table border=\"1\" class=\"dataframe\">\n  <thead>\n    <tr style=\"text-align: right;\">\n      <th></th>\n      <th>Category</th>\n      <th>Name</th>\n      <th>Distance</th>\n      <th>Controlling Faction</th>\n      <th>Happiness</th>\n      <th>Influence</th>\n      <th>Player Factions Present</th>\n      <th>States</th>\n      <th>Population</th>\n      <th>Government</th>\n      <th>Allegiance</th>\n      <th>Security Level</th>\n      <th>Primary Economy</th>\n    </tr>\n    <tr>\n      <th>Priority</th>\n      <th></th>\n      <th></th>\n      <th></th>\n      <th></th>\n      <th></th>\n      <th></th>\n      <th></th>\n      <th></th>\n      <th></th>\n      <th></th>\n      <th></th>\n      <th></th>\n      <th></th>\n    </tr>\n  </thead>\n  <tbody>\n    <tr>\n      <th>0</th>\n      <td>Insurgency</td>\n      <td>Dvorsi</td>\n      <td>14.5</td>\n      <td>The Order of Mobius</td>\n      <td>1</td>\n      <td>37.8000</td>\n      <td>The Order of Mobius, The Guardians</td>\n      <td>Boom</td>\n      <td>65081959</td>\n      <td>Cooperative</td>\n      <td>Independent</td>\n      <td>High</td>\n      <td>High Tech</td>\n    </tr>\n    <tr>\n      <th>0</th>\n      <td>Insurgency</td>\n      <td>Njiri</td>\n      <td>12.0</td>\n      <td>The Order of Mobius</td>\n      <td>2</td>\n      <td>48.4484</td>\n      <td>The Order of Mobius, Black Ram</td>\n      <td>Boom</td>\n      <td>17186307</td>\n      <td>Cooperative</td>\n      <td>Independent</td>\n      <td>Medium</td>\n      <td>High Tech</td>\n    </tr>\n    <tr>\n      <th>1</th>\n      <td>Control</td>\n      <td>Apathaam</td>\n      <td>6.0</td>\n      <td>The Order of Mobius</td>\n      <td>2</td>\n      <td>57.9000</td>\n      <td>The Order of Mobius</td>\n      <td>Boom</td>\n      <td>3506390</td>\n      <td>Cooperative</td>\n      <td>Independent</td>\n      <td>Medium</td>\n      <td>Industrial</td>\n    </tr>\n    <tr>\n      <th>1</th>\n      <td>Control</td>\n      <td>Asase Ya</td>\n      <td>24.6</td>\n      <td>The Order of Mobius</td>\n      <td>1</td>\n      <td>48.1000</td>\n      <td>The Order of Mobius</td>\n      <td>None</td>\n      <td>10832961797</td>\n      <td>Cooperative</td>\n      <td>Independent</td>\n      <td>High</td>\n      <td>Agriculture</td>\n    </tr>\n    <tr>\n      <th>1</th>\n      <td>Control</td>\n      <td>Azrael</td>\n      <td>0.0</td>\n      <td>The Order of Mobius</td>\n      <td>1</td>\n      <td>56.0000</td>\n      <td>The Order of Mobius</td>\n      <td>Boom, Civil Liberty</td>\n      <td>4500000</td>\n      <td>Cooperative</td>\n      <td>Independent</td>\n      <td>Medium</td>\n      <td>Extraction</td>\n    </tr>\n    <tr>\n      <th>...</th>\n      <td>...</td>\n      <td>...</td>\n      <td>...</td>\n      <td>...</td>\n      <td>...</td>\n      <td>...</td>\n      <td>...</td>\n      <td>...</td>\n      <td>...</td>\n      <td>...</td>\n      <td>...</td>\n      <td>...</td>\n      <td>...</td>\n    </tr>\n    <tr>\n      <th>5</th>\n      <td>NPC</td>\n      <td>Tewi</td>\n      <td>23.2</td>\n      <td>Tewi Guardians of Tradition</td>\n      <td>2</td>\n      <td>26.8000</td>\n      <td></td>\n      <td>Election</td>\n      <td>310841</td>\n      <td>Patronage</td>\n      <td>Empire</td>\n      <td>Medium</td>\n      <td>Refinery</td>\n    </tr>\n    <tr>\n      <th>5</th>\n      <td>NPC</td>\n      <td>Thanatos</td>\n      <td>31.0</td>\n      <td>Thanatos Inc</td>\n      <td>2</td>\n      <td>48.6486</td>\n      <td></td>\n      <td>Boom</td>\n      <td>450000</td>\n      <td>Corporate</td>\n      <td>Empire</td>\n      <td>Medium</td>\n      <td>Refinery</td>\n    </tr>\n    <tr>\n      <th>5</th>\n      <td>NPC</td>\n      <td>Wandjin</td>\n      <td>23.8</td>\n      <td>HR 571 Emperor's Grace</td>\n      <td>2</td>\n      <td>44.5000</td>\n      <td></td>\n      <td>Boom</td>\n      <td>114523</td>\n      <td>Patronage</td>\n      <td>Empire</td>\n      <td>Medium</td>\n      <td>Extraction</td>\n    </tr>\n    <tr>\n      <th>5</th>\n      <td>NPC</td>\n      <td>Windjabar</td>\n      <td>51.1</td>\n      <td>Kokonjekodi Empire Pact</td>\n      <td>2</td>\n      <td>33.1000</td>\n      <td></td>\n      <td>None</td>\n      <td>3606428</td>\n      <td>Patronage</td>\n      <td>Empire</td>\n      <td>Medium</td>\n      <td>Industrial</td>\n    </tr>\n    <tr>\n      <th>5</th>\n      <td>NPC</td>\n      <td>Zhangana</td>\n      <td>30.6</td>\n      <td>Zhangana Empire Assembly</td>\n      <td>2</td>\n      <td>54.0000</td>\n      <td></td>\n      <td>Boom</td>\n      <td>164642</td>\n      <td>Patronage</td>\n      <td>Empire</td>\n      <td>Medium</td>\n      <td>Refinery</td>\n    </tr>\n  </tbody>\n</table>\n<p>190 rows × 13 columns</p>\n</div>"
     },
     "metadata": {},
     "execution_count": 11
    }
   ],
   "source": [
    "faction_report = eddb.system_faction_summary(extended_systems, origin).sort_values(by=['Priority', 'Name'], ascending=[True, True])\n",
    "faction_report"
   ]
  },
  {
   "cell_type": "code",
   "execution_count": 12,
   "metadata": {},
   "outputs": [],
   "source": [
    "faction_report.to_clipboard()"
   ]
  }
 ],
 "metadata": {
  "kernelspec": {
   "display_name": "Python 3",
   "language": "python",
   "name": "python3"
  },
  "language_info": {
   "codemirror_mode": {
    "name": "ipython",
    "version": 3
   },
   "file_extension": ".py",
   "mimetype": "text/x-python",
   "name": "python",
   "nbconvert_exporter": "python",
   "pygments_lexer": "ipython3",
   "version": "3.8.2-final"
  }
 },
 "nbformat": 4,
 "nbformat_minor": 4
}