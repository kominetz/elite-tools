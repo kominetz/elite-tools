{
 "cells": [
  {
   "cell_type": "code",
   "execution_count": 1,
   "metadata": {},
   "outputs": [
    {
     "output_type": "stream",
     "name": "stdout",
     "text": "# Found \"C:\\Users\\komin\\AppData\\Local\\Temp\\elite-tools\\archive-v6-systems_populated.jsonl\".\n# Feeds.POPULATED_SYSTEMS records loaded:  20629\n# Found \"C:\\Users\\komin\\AppData\\Local\\Temp\\elite-tools\\archive-v6-systems_populated.jsonl\".\n# Feeds.POPULATED_SYSTEMS records loaded:  20629\n# Found \"C:\\Users\\komin\\AppData\\Local\\Temp\\elite-tools\\archive-v6-stations.jsonl\".\n# Feeds.STATIONS records loaded:  49461\n# Found \"C:\\Users\\komin\\AppData\\Local\\Temp\\elite-tools\\archive-v6-factions.jsonl\".\n# Feeds.FACTIONS records loaded:  77096\n# Found \"C:\\Users\\komin\\AppData\\Local\\Temp\\elite-tools\\archive-v6-factions.jsonl\".\n# Feeds.FACTIONS records loaded:  77096\n"
    }
   ],
   "source": [
    "import pandas as pd\n",
    "import eddb\n",
    "eddb.load_feeds()"
   ]
  },
  {
   "cell_type": "code",
   "execution_count": 2,
   "metadata": {},
   "outputs": [],
   "source": [
    "faction = \"The Order of Mobius\"\n",
    "origin = eddb.faction_home_system(faction)\n",
    "core_systems = set(eddb.query_systems_by_faction(faction))\n",
    "extended_systems = set([inf_s for core_s in core_systems for inf_s in eddb.query_nearby_systems(core_s, eddb.SYSTEM_INFLUENCE_RANGE)])"
   ]
  },
  {
   "cell_type": "code",
   "execution_count": null,
   "metadata": {},
   "outputs": [],
   "source": []
  },
  {
   "cell_type": "code",
   "execution_count": 3,
   "metadata": {},
   "outputs": [
    {
     "output_type": "execute_result",
     "data": {
      "text/plain": "     Priority    Category       Name  Distance   Population Primary Economy  \\\n52          0  Insurgency     Dvorsi      14.5     65081959       High Tech   \n92          0  Insurgency      Njiri      12.0     17186307       High Tech   \n72          1     Control   Apathaam       6.0      3506390      Industrial   \n38          1     Control   Asase Ya      24.6  10832961797     Agriculture   \n150         1     Control     Azrael       0.0      4500000      Extraction   \n..        ...         ...        ...       ...          ...             ...   \n126         5         NPC       Tewi      23.2       310841        Refinery   \n31          5         NPC   Thanatos      31.0       450000        Refinery   \n123         5         NPC    Wandjin      23.8       114523      Extraction   \n11          5         NPC  Windjabar      51.1      3606428      Industrial   \n178         5         NPC   Zhangana      30.6       164642        Refinery   \n\n                  States  Happiness Security Level  \\\n52                  Boom          2           High   \n92                  Boom          2         Medium   \n72                  Boom          2         Medium   \n38                  None          2           High   \n150  Boom, Civil Liberty          2         Medium   \n..                   ...        ...            ...   \n126             Election          2         Medium   \n31                  Boom          2         Medium   \n123                 Boom          2         Medium   \n11                  None          2         Medium   \n178                 Boom          2         Medium   \n\n             Controlling Faction  Influence   Government   Allegiance  \\\n52           The Order of Mobius    38.4000  Cooperative  Independent   \n92           The Order of Mobius    48.4000  Cooperative  Independent   \n72           The Order of Mobius    57.4000  Cooperative  Independent   \n38           The Order of Mobius    48.4577  Cooperative  Independent   \n150          The Order of Mobius    60.0400  Cooperative  Independent   \n..                           ...        ...          ...          ...   \n126  Tewi Guardians of Tradition    26.7732    Patronage       Empire   \n31                  Thanatos Inc    48.8000    Corporate       Empire   \n123       HR 571 Emperor's Grace    43.8000    Patronage       Empire   \n11       Kokonjekodi Empire Pact    33.1000    Patronage       Empire   \n178     Zhangana Empire Assembly    53.9461    Patronage       Empire   \n\n                Player Factions Present  \n52   The Guardians, The Order of Mobius  \n92       Black Ram, The Order of Mobius  \n72                  The Order of Mobius  \n38                  The Order of Mobius  \n150                 The Order of Mobius  \n..                                  ...  \n126                                      \n31                                       \n123                                      \n11                                       \n178                                      \n\n[190 rows x 14 columns]",
      "text/html": "<div>\n<style scoped>\n    .dataframe tbody tr th:only-of-type {\n        vertical-align: middle;\n    }\n\n    .dataframe tbody tr th {\n        vertical-align: top;\n    }\n\n    .dataframe thead th {\n        text-align: right;\n    }\n</style>\n<table border=\"1\" class=\"dataframe\">\n  <thead>\n    <tr style=\"text-align: right;\">\n      <th></th>\n      <th>Priority</th>\n      <th>Category</th>\n      <th>Name</th>\n      <th>Distance</th>\n      <th>Population</th>\n      <th>Primary Economy</th>\n      <th>States</th>\n      <th>Happiness</th>\n      <th>Security Level</th>\n      <th>Controlling Faction</th>\n      <th>Influence</th>\n      <th>Government</th>\n      <th>Allegiance</th>\n      <th>Player Factions Present</th>\n    </tr>\n  </thead>\n  <tbody>\n    <tr>\n      <th>52</th>\n      <td>0</td>\n      <td>Insurgency</td>\n      <td>Dvorsi</td>\n      <td>14.5</td>\n      <td>65081959</td>\n      <td>High Tech</td>\n      <td>Boom</td>\n      <td>2</td>\n      <td>High</td>\n      <td>The Order of Mobius</td>\n      <td>38.4000</td>\n      <td>Cooperative</td>\n      <td>Independent</td>\n      <td>The Guardians, The Order of Mobius</td>\n    </tr>\n    <tr>\n      <th>92</th>\n      <td>0</td>\n      <td>Insurgency</td>\n      <td>Njiri</td>\n      <td>12.0</td>\n      <td>17186307</td>\n      <td>High Tech</td>\n      <td>Boom</td>\n      <td>2</td>\n      <td>Medium</td>\n      <td>The Order of Mobius</td>\n      <td>48.4000</td>\n      <td>Cooperative</td>\n      <td>Independent</td>\n      <td>Black Ram, The Order of Mobius</td>\n    </tr>\n    <tr>\n      <th>72</th>\n      <td>1</td>\n      <td>Control</td>\n      <td>Apathaam</td>\n      <td>6.0</td>\n      <td>3506390</td>\n      <td>Industrial</td>\n      <td>Boom</td>\n      <td>2</td>\n      <td>Medium</td>\n      <td>The Order of Mobius</td>\n      <td>57.4000</td>\n      <td>Cooperative</td>\n      <td>Independent</td>\n      <td>The Order of Mobius</td>\n    </tr>\n    <tr>\n      <th>38</th>\n      <td>1</td>\n      <td>Control</td>\n      <td>Asase Ya</td>\n      <td>24.6</td>\n      <td>10832961797</td>\n      <td>Agriculture</td>\n      <td>None</td>\n      <td>2</td>\n      <td>High</td>\n      <td>The Order of Mobius</td>\n      <td>48.4577</td>\n      <td>Cooperative</td>\n      <td>Independent</td>\n      <td>The Order of Mobius</td>\n    </tr>\n    <tr>\n      <th>150</th>\n      <td>1</td>\n      <td>Control</td>\n      <td>Azrael</td>\n      <td>0.0</td>\n      <td>4500000</td>\n      <td>Extraction</td>\n      <td>Boom, Civil Liberty</td>\n      <td>2</td>\n      <td>Medium</td>\n      <td>The Order of Mobius</td>\n      <td>60.0400</td>\n      <td>Cooperative</td>\n      <td>Independent</td>\n      <td>The Order of Mobius</td>\n    </tr>\n    <tr>\n      <th>...</th>\n      <td>...</td>\n      <td>...</td>\n      <td>...</td>\n      <td>...</td>\n      <td>...</td>\n      <td>...</td>\n      <td>...</td>\n      <td>...</td>\n      <td>...</td>\n      <td>...</td>\n      <td>...</td>\n      <td>...</td>\n      <td>...</td>\n      <td>...</td>\n    </tr>\n    <tr>\n      <th>126</th>\n      <td>5</td>\n      <td>NPC</td>\n      <td>Tewi</td>\n      <td>23.2</td>\n      <td>310841</td>\n      <td>Refinery</td>\n      <td>Election</td>\n      <td>2</td>\n      <td>Medium</td>\n      <td>Tewi Guardians of Tradition</td>\n      <td>26.7732</td>\n      <td>Patronage</td>\n      <td>Empire</td>\n      <td></td>\n    </tr>\n    <tr>\n      <th>31</th>\n      <td>5</td>\n      <td>NPC</td>\n      <td>Thanatos</td>\n      <td>31.0</td>\n      <td>450000</td>\n      <td>Refinery</td>\n      <td>Boom</td>\n      <td>2</td>\n      <td>Medium</td>\n      <td>Thanatos Inc</td>\n      <td>48.8000</td>\n      <td>Corporate</td>\n      <td>Empire</td>\n      <td></td>\n    </tr>\n    <tr>\n      <th>123</th>\n      <td>5</td>\n      <td>NPC</td>\n      <td>Wandjin</td>\n      <td>23.8</td>\n      <td>114523</td>\n      <td>Extraction</td>\n      <td>Boom</td>\n      <td>2</td>\n      <td>Medium</td>\n      <td>HR 571 Emperor's Grace</td>\n      <td>43.8000</td>\n      <td>Patronage</td>\n      <td>Empire</td>\n      <td></td>\n    </tr>\n    <tr>\n      <th>11</th>\n      <td>5</td>\n      <td>NPC</td>\n      <td>Windjabar</td>\n      <td>51.1</td>\n      <td>3606428</td>\n      <td>Industrial</td>\n      <td>None</td>\n      <td>2</td>\n      <td>Medium</td>\n      <td>Kokonjekodi Empire Pact</td>\n      <td>33.1000</td>\n      <td>Patronage</td>\n      <td>Empire</td>\n      <td></td>\n    </tr>\n    <tr>\n      <th>178</th>\n      <td>5</td>\n      <td>NPC</td>\n      <td>Zhangana</td>\n      <td>30.6</td>\n      <td>164642</td>\n      <td>Refinery</td>\n      <td>Boom</td>\n      <td>2</td>\n      <td>Medium</td>\n      <td>Zhangana Empire Assembly</td>\n      <td>53.9461</td>\n      <td>Patronage</td>\n      <td>Empire</td>\n      <td></td>\n    </tr>\n  </tbody>\n</table>\n<p>190 rows × 14 columns</p>\n</div>"
     },
     "metadata": {},
     "execution_count": 3
    }
   ],
   "source": [
    "faction_report = eddb.system_faction_report(extended_systems, faction, origin).sort_values(by=['Priority', 'Name'], ascending=[True, True])\n",
    "faction_report.to_clipboard()\n",
    "faction_report"
   ]
  },
  {
   "cell_type": "code",
   "execution_count": 4,
   "metadata": {},
   "outputs": [
    {
     "output_type": "execute_result",
     "data": {
      "text/plain": "                                        control  presence\nname                                                     \nThe Order of Mobius                          21         1\nLavigny's Legion                             14         1\nDecimus Imperium Lex                         13         0\nSilver Hunter Order                           8         3\nThe 10th Legion                               7         1\nDaily Routine Incorporated                    7         0\nLibertas Co-operative                         6         3\nThe White Templars                            5         0\nEmpire Corsairs                               4         4\nWhite Scar Contingency                        4         2\nImperial Trade Works                          2         4\nBlack Ram                                     2         2\nThe Empires Fleet                             2         1\nThe Independent Light Wheel                   2         1\nMagnates of Cemiess                           2         0\nRoyal Elite of the Grand Duke                 2         0\nShadows of the Void                           1         5\nThe Guardian Angels                           1         2\nBrowncoat Uprising                            1         1\nStellar Winter Squadron                       1         1\nAncient World Order                           1         0\nExtra Corporation                             1         0\nImperial Galactic Investments Inc             1         0\nImperial Ghost Division                       1         0\nImperial Privateers                           1         0\nOuter Worlds Network                          1         0\nPrismatic Knights                             1         0\nSociety Of Greybeards                         1         0\nZeta Corporation                              1         0\nEmpire Consulate Ltd                          0         2\nL.Y.S Corp.                                   0         2\nCorvos                                        0         1\nCwn Annwn                                     0         1\nDark-Armada                                   0         1\nDemons of Praetoria                           0         1\nDivine Brotherhood of Commerce                0         1\nExploration and Resource recovery Corp        0         1\nHeaven's Judgment                             0         1\nLegion of the Black Sea                       0         1\nLegionem Ethicam Corp                         0         1\nLegionnaria Protectiva                        0         1\nMarch of the Council of Nobles                0         1\nMonks of Purity                               0         1\nOrder of Intrepidus                           0         1\nOrder of Open                                 0         1\nPhoenix Inc                                   0         1\nThe Guardians                                 0         1\nThe New Republic of Aymifa                    0         1\nTwilight of the Gods Yarrite Corp.            0         1\nUnion Cosmos                                  0         1\nUnited Imperial Clans                         0         1\nVSOP Privateers                               0         1",
      "text/html": "<div>\n<style scoped>\n    .dataframe tbody tr th:only-of-type {\n        vertical-align: middle;\n    }\n\n    .dataframe tbody tr th {\n        vertical-align: top;\n    }\n\n    .dataframe thead th {\n        text-align: right;\n    }\n</style>\n<table border=\"1\" class=\"dataframe\">\n  <thead>\n    <tr style=\"text-align: right;\">\n      <th></th>\n      <th>control</th>\n      <th>presence</th>\n    </tr>\n    <tr>\n      <th>name</th>\n      <th></th>\n      <th></th>\n    </tr>\n  </thead>\n  <tbody>\n    <tr>\n      <th>The Order of Mobius</th>\n      <td>21</td>\n      <td>1</td>\n    </tr>\n    <tr>\n      <th>Lavigny's Legion</th>\n      <td>14</td>\n      <td>1</td>\n    </tr>\n    <tr>\n      <th>Decimus Imperium Lex</th>\n      <td>13</td>\n      <td>0</td>\n    </tr>\n    <tr>\n      <th>Silver Hunter Order</th>\n      <td>8</td>\n      <td>3</td>\n    </tr>\n    <tr>\n      <th>The 10th Legion</th>\n      <td>7</td>\n      <td>1</td>\n    </tr>\n    <tr>\n      <th>Daily Routine Incorporated</th>\n      <td>7</td>\n      <td>0</td>\n    </tr>\n    <tr>\n      <th>Libertas Co-operative</th>\n      <td>6</td>\n      <td>3</td>\n    </tr>\n    <tr>\n      <th>The White Templars</th>\n      <td>5</td>\n      <td>0</td>\n    </tr>\n    <tr>\n      <th>Empire Corsairs</th>\n      <td>4</td>\n      <td>4</td>\n    </tr>\n    <tr>\n      <th>White Scar Contingency</th>\n      <td>4</td>\n      <td>2</td>\n    </tr>\n    <tr>\n      <th>Imperial Trade Works</th>\n      <td>2</td>\n      <td>4</td>\n    </tr>\n    <tr>\n      <th>Black Ram</th>\n      <td>2</td>\n      <td>2</td>\n    </tr>\n    <tr>\n      <th>The Empires Fleet</th>\n      <td>2</td>\n      <td>1</td>\n    </tr>\n    <tr>\n      <th>The Independent Light Wheel</th>\n      <td>2</td>\n      <td>1</td>\n    </tr>\n    <tr>\n      <th>Magnates of Cemiess</th>\n      <td>2</td>\n      <td>0</td>\n    </tr>\n    <tr>\n      <th>Royal Elite of the Grand Duke</th>\n      <td>2</td>\n      <td>0</td>\n    </tr>\n    <tr>\n      <th>Shadows of the Void</th>\n      <td>1</td>\n      <td>5</td>\n    </tr>\n    <tr>\n      <th>The Guardian Angels</th>\n      <td>1</td>\n      <td>2</td>\n    </tr>\n    <tr>\n      <th>Browncoat Uprising</th>\n      <td>1</td>\n      <td>1</td>\n    </tr>\n    <tr>\n      <th>Stellar Winter Squadron</th>\n      <td>1</td>\n      <td>1</td>\n    </tr>\n    <tr>\n      <th>Ancient World Order</th>\n      <td>1</td>\n      <td>0</td>\n    </tr>\n    <tr>\n      <th>Extra Corporation</th>\n      <td>1</td>\n      <td>0</td>\n    </tr>\n    <tr>\n      <th>Imperial Galactic Investments Inc</th>\n      <td>1</td>\n      <td>0</td>\n    </tr>\n    <tr>\n      <th>Imperial Ghost Division</th>\n      <td>1</td>\n      <td>0</td>\n    </tr>\n    <tr>\n      <th>Imperial Privateers</th>\n      <td>1</td>\n      <td>0</td>\n    </tr>\n    <tr>\n      <th>Outer Worlds Network</th>\n      <td>1</td>\n      <td>0</td>\n    </tr>\n    <tr>\n      <th>Prismatic Knights</th>\n      <td>1</td>\n      <td>0</td>\n    </tr>\n    <tr>\n      <th>Society Of Greybeards</th>\n      <td>1</td>\n      <td>0</td>\n    </tr>\n    <tr>\n      <th>Zeta Corporation</th>\n      <td>1</td>\n      <td>0</td>\n    </tr>\n    <tr>\n      <th>Empire Consulate Ltd</th>\n      <td>0</td>\n      <td>2</td>\n    </tr>\n    <tr>\n      <th>L.Y.S Corp.</th>\n      <td>0</td>\n      <td>2</td>\n    </tr>\n    <tr>\n      <th>Corvos</th>\n      <td>0</td>\n      <td>1</td>\n    </tr>\n    <tr>\n      <th>Cwn Annwn</th>\n      <td>0</td>\n      <td>1</td>\n    </tr>\n    <tr>\n      <th>Dark-Armada</th>\n      <td>0</td>\n      <td>1</td>\n    </tr>\n    <tr>\n      <th>Demons of Praetoria</th>\n      <td>0</td>\n      <td>1</td>\n    </tr>\n    <tr>\n      <th>Divine Brotherhood of Commerce</th>\n      <td>0</td>\n      <td>1</td>\n    </tr>\n    <tr>\n      <th>Exploration and Resource recovery Corp</th>\n      <td>0</td>\n      <td>1</td>\n    </tr>\n    <tr>\n      <th>Heaven's Judgment</th>\n      <td>0</td>\n      <td>1</td>\n    </tr>\n    <tr>\n      <th>Legion of the Black Sea</th>\n      <td>0</td>\n      <td>1</td>\n    </tr>\n    <tr>\n      <th>Legionem Ethicam Corp</th>\n      <td>0</td>\n      <td>1</td>\n    </tr>\n    <tr>\n      <th>Legionnaria Protectiva</th>\n      <td>0</td>\n      <td>1</td>\n    </tr>\n    <tr>\n      <th>March of the Council of Nobles</th>\n      <td>0</td>\n      <td>1</td>\n    </tr>\n    <tr>\n      <th>Monks of Purity</th>\n      <td>0</td>\n      <td>1</td>\n    </tr>\n    <tr>\n      <th>Order of Intrepidus</th>\n      <td>0</td>\n      <td>1</td>\n    </tr>\n    <tr>\n      <th>Order of Open</th>\n      <td>0</td>\n      <td>1</td>\n    </tr>\n    <tr>\n      <th>Phoenix Inc</th>\n      <td>0</td>\n      <td>1</td>\n    </tr>\n    <tr>\n      <th>The Guardians</th>\n      <td>0</td>\n      <td>1</td>\n    </tr>\n    <tr>\n      <th>The New Republic of Aymifa</th>\n      <td>0</td>\n      <td>1</td>\n    </tr>\n    <tr>\n      <th>Twilight of the Gods Yarrite Corp.</th>\n      <td>0</td>\n      <td>1</td>\n    </tr>\n    <tr>\n      <th>Union Cosmos</th>\n      <td>0</td>\n      <td>1</td>\n    </tr>\n    <tr>\n      <th>United Imperial Clans</th>\n      <td>0</td>\n      <td>1</td>\n    </tr>\n    <tr>\n      <th>VSOP Privateers</th>\n      <td>0</td>\n      <td>1</td>\n    </tr>\n  </tbody>\n</table>\n</div>"
     },
     "metadata": {},
     "execution_count": 4
    }
   ],
   "source": [
    "faction_stats = {}\n",
    "#cpf = eddb.player_faction_controlled(extended_systems, faction, origin)\n",
    "for s_name in extended_systems:\n",
    "    s = eddb.populated_systems[s_name]\n",
    "    cf_name = s['controlling_minor_faction']\n",
    "    if cf_name in eddb.player_faction_names:\n",
    "        if cf_name not in faction_stats.keys():\n",
    "            faction_stats[cf_name] = {'name': cf_name, 'control': 0, 'presence': 0}\n",
    "        faction_stats[cf_name]['control'] += 1\n",
    "    for f in s['minor_faction_presences']:\n",
    "        f_name = eddb.faction_names_by_id[f['minor_faction_id']]\n",
    "        if f_name in eddb.player_faction_names:\n",
    "            if f_name not in faction_stats.keys():\n",
    "                faction_stats[f_name] = {'name': f_name, 'control': 0, 'presence': 0}\n",
    "            if f_name != cf_name:\n",
    "                faction_stats[f_name]['presence'] += 1\n",
    "\n",
    "pd.DataFrame.from_dict(faction_stats.values()).set_index('name').sort_values(by=['control', 'presence', 'name'], ascending=[False, False, True])"
   ]
  }
 ],
 "metadata": {
  "kernelspec": {
   "display_name": "Python 3",
   "language": "python",
   "name": "python3"
  },
  "language_info": {
   "codemirror_mode": {
    "name": "ipython",
    "version": 3
   },
   "file_extension": ".py",
   "mimetype": "text/x-python",
   "name": "python",
   "nbconvert_exporter": "python",
   "pygments_lexer": "ipython3",
   "version": "3.8.2-final"
  }
 },
 "nbformat": 4,
 "nbformat_minor": 4
}