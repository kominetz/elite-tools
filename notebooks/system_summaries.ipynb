{
 "cells": [
  {
   "cell_type": "code",
   "execution_count": null,
   "metadata": {
    "scrolled": true
   },
   "outputs": [],
   "source": [
    "import eddb\n",
    "eddb.load_feeds()"
   ]
  },
  {
   "cell_type": "code",
   "execution_count": 7,
   "metadata": {
    "scrolled": true
   },
   "outputs": [],
   "source": [
    "reference_system = input(\"Reference System: \")"
   ]
  },
  {
   "cell_type": "code",
   "execution_count": 8,
   "metadata": {},
   "outputs": [],
   "source": [
    "systems = [wp.strip() for wp in input(\"Systems to summarize: \").split(',')]"
   ]
  },
  {
   "cell_type": "code",
   "execution_count": 9,
   "metadata": {},
   "outputs": [
    {
     "output_type": "execute_result",
     "data": {
      "text/plain": "      Name  Distance   Population Government  Allegiance Security Level  \\\n2  Achenar     137.6  16380047759  Patronage      Empire           High   \n1   Alioth     115.3  14900071500  Democracy    Alliance           High   \n0      Sol      64.4  22780871769  Democracy  Federation           High   \n\n  Primary Economy    Controlling Faction Reserve Level  \n2        Refinery  Achenar Empire League      Depleted  \n1       High Tech    Alioth Independents      Depleted  \n0        Refinery            Mother Gaia        Common  ",
      "text/html": "<div>\n<style scoped>\n    .dataframe tbody tr th:only-of-type {\n        vertical-align: middle;\n    }\n\n    .dataframe tbody tr th {\n        vertical-align: top;\n    }\n\n    .dataframe thead th {\n        text-align: right;\n    }\n</style>\n<table border=\"1\" class=\"dataframe\">\n  <thead>\n    <tr style=\"text-align: right;\">\n      <th></th>\n      <th>Name</th>\n      <th>Distance</th>\n      <th>Population</th>\n      <th>Government</th>\n      <th>Allegiance</th>\n      <th>Security Level</th>\n      <th>Primary Economy</th>\n      <th>Controlling Faction</th>\n      <th>Reserve Level</th>\n    </tr>\n  </thead>\n  <tbody>\n    <tr>\n      <th>2</th>\n      <td>Achenar</td>\n      <td>137.6</td>\n      <td>16380047759</td>\n      <td>Patronage</td>\n      <td>Empire</td>\n      <td>High</td>\n      <td>Refinery</td>\n      <td>Achenar Empire League</td>\n      <td>Depleted</td>\n    </tr>\n    <tr>\n      <th>1</th>\n      <td>Alioth</td>\n      <td>115.3</td>\n      <td>14900071500</td>\n      <td>Democracy</td>\n      <td>Alliance</td>\n      <td>High</td>\n      <td>High Tech</td>\n      <td>Alioth Independents</td>\n      <td>Depleted</td>\n    </tr>\n    <tr>\n      <th>0</th>\n      <td>Sol</td>\n      <td>64.4</td>\n      <td>22780871769</td>\n      <td>Democracy</td>\n      <td>Federation</td>\n      <td>High</td>\n      <td>Refinery</td>\n      <td>Mother Gaia</td>\n      <td>Common</td>\n    </tr>\n  </tbody>\n</table>\n</div>"
     },
     "metadata": {},
     "execution_count": 9
    }
   ],
   "source": [
    "system_summaries = eddb.system_survey_report(systems, reference_system)\n",
    "system_summaries.sort_values(by='Name')"
   ]
  },
  {
   "cell_type": "code",
   "execution_count": 10,
   "metadata": {},
   "outputs": [],
   "source": [
    "system_summaries.to_clipboard(header=None, index=False)"
   ]
  }
 ],
 "metadata": {
  "kernelspec": {
   "display_name": "Python 3",
   "language": "python",
   "name": "python3"
  },
  "language_info": {
   "codemirror_mode": {
    "name": "ipython",
    "version": 3
   },
   "file_extension": ".py",
   "mimetype": "text/x-python",
   "name": "python",
   "nbconvert_exporter": "python",
   "pygments_lexer": "ipython3",
   "version": "3.8.2-final"
  }
 },
 "nbformat": 4,
 "nbformat_minor": 4
}