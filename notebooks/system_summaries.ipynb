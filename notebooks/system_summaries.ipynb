{
 "cells": [
  {
   "cell_type": "code",
   "execution_count": 1,
   "metadata": {
    "scrolled": true
   },
   "outputs": [
    {
     "name": "stdout",
     "output_type": "stream",
     "text": [
      "['C:\\\\Users\\\\komin\\\\Projects\\\\elite-tools\\\\src', 'C:\\\\Users\\\\komin\\\\Projects\\\\elite-tools\\\\notebooks', 'C:\\\\Anaconda3\\\\python37.zip', 'C:\\\\Anaconda3\\\\DLLs', 'C:\\\\Anaconda3\\\\lib', 'C:\\\\Anaconda3', '', 'C:\\\\Anaconda3\\\\lib\\\\site-packages', 'C:\\\\Anaconda3\\\\lib\\\\site-packages\\\\win32', 'C:\\\\Anaconda3\\\\lib\\\\site-packages\\\\win32\\\\lib', 'C:\\\\Anaconda3\\\\lib\\\\site-packages\\\\Pythonwin', 'C:\\\\Anaconda3\\\\lib\\\\site-packages\\\\IPython\\\\extensions', 'C:\\\\Users\\\\komin\\\\.ipython']\n",
      "Downloaded Feeds.POPULATED_SYSTEMS as file \"C:\\Users\\komin\\AppData\\Local\\Temp\\elite-tools\\archive-v6-systems_populated.jsonl\".\n",
      "# Populated systems loaded:  20629\n"
     ]
    }
   ],
   "source": [
    "import sys\n",
    "sys.path.insert(0, '..')\n",
    "import eddb\n",
    "eddb.load_feeds()"
   ]
  },
  {
   "cell_type": "code",
   "execution_count": 2,
   "metadata": {
    "scrolled": true
   },
   "outputs": [
    {
     "name": "stdout",
     "output_type": "stream",
     "text": [
      "Reference System: Azrael\n"
     ]
    }
   ],
   "source": [
    "reference_system = input(\"Reference System: \")"
   ]
  },
  {
   "cell_type": "code",
   "execution_count": 7,
   "metadata": {},
   "outputs": [
    {
     "name": "stdout",
     "output_type": "stream",
     "text": [
      "Systems to summarize: Bacap,Blodyaks,Dxui,HIP 20277,Knepagari,Kokonjekodi,Lambda Horologii,Mayoquot,Quiate\n"
     ]
    }
   ],
   "source": [
    "systems = [wp.strip() for wp in input(\"Systems to summarize: \").split(',')]"
   ]
  },
  {
   "cell_type": "code",
   "execution_count": 10,
   "metadata": {},
   "outputs": [
    {
     "data": {
      "text/html": [
       "<div>\n",
       "<style scoped>\n",
       "    .dataframe tbody tr th:only-of-type {\n",
       "        vertical-align: middle;\n",
       "    }\n",
       "\n",
       "    .dataframe tbody tr th {\n",
       "        vertical-align: top;\n",
       "    }\n",
       "\n",
       "    .dataframe thead th {\n",
       "        text-align: right;\n",
       "    }\n",
       "</style>\n",
       "<table border=\"1\" class=\"dataframe\">\n",
       "  <thead>\n",
       "    <tr style=\"text-align: right;\">\n",
       "      <th></th>\n",
       "      <th>Name</th>\n",
       "      <th>Distance</th>\n",
       "      <th>Population</th>\n",
       "      <th>Government</th>\n",
       "      <th>Allegiance</th>\n",
       "      <th>Security Level</th>\n",
       "      <th>Primary Economy</th>\n",
       "      <th>Controlling Faction</th>\n",
       "      <th>Reserve Level</th>\n",
       "    </tr>\n",
       "  </thead>\n",
       "  <tbody>\n",
       "    <tr>\n",
       "      <th>0</th>\n",
       "      <td>Bacap</td>\n",
       "      <td>44.8</td>\n",
       "      <td>3291</td>\n",
       "      <td>Cooperative</td>\n",
       "      <td>Independent</td>\n",
       "      <td>Low</td>\n",
       "      <td>Extraction</td>\n",
       "      <td>The Order of Mobius</td>\n",
       "      <td>None</td>\n",
       "    </tr>\n",
       "    <tr>\n",
       "      <th>1</th>\n",
       "      <td>Blodyaks</td>\n",
       "      <td>57.0</td>\n",
       "      <td>2504</td>\n",
       "      <td>Cooperative</td>\n",
       "      <td>Independent</td>\n",
       "      <td>Low</td>\n",
       "      <td>Military</td>\n",
       "      <td>The Order of Mobius</td>\n",
       "      <td>Depleted</td>\n",
       "    </tr>\n",
       "    <tr>\n",
       "      <th>2</th>\n",
       "      <td>Dxui</td>\n",
       "      <td>57.2</td>\n",
       "      <td>8400593</td>\n",
       "      <td>Cooperative</td>\n",
       "      <td>Independent</td>\n",
       "      <td>Medium</td>\n",
       "      <td>Terraforming</td>\n",
       "      <td>The Order of Mobius</td>\n",
       "      <td>Low</td>\n",
       "    </tr>\n",
       "    <tr>\n",
       "      <th>3</th>\n",
       "      <td>HIP 20277</td>\n",
       "      <td>27.9</td>\n",
       "      <td>11247202</td>\n",
       "      <td>Corporate</td>\n",
       "      <td>Empire</td>\n",
       "      <td>High</td>\n",
       "      <td>Industrial</td>\n",
       "      <td>Calennero State Industries</td>\n",
       "      <td>Common</td>\n",
       "    </tr>\n",
       "    <tr>\n",
       "      <th>4</th>\n",
       "      <td>Knepagari</td>\n",
       "      <td>43.7</td>\n",
       "      <td>2744</td>\n",
       "      <td>Cooperative</td>\n",
       "      <td>Independent</td>\n",
       "      <td>Low</td>\n",
       "      <td>Extraction</td>\n",
       "      <td>The Order of Mobius</td>\n",
       "      <td>None</td>\n",
       "    </tr>\n",
       "    <tr>\n",
       "      <th>5</th>\n",
       "      <td>Kokonjekodi</td>\n",
       "      <td>46.9</td>\n",
       "      <td>16880373</td>\n",
       "      <td>Cooperative</td>\n",
       "      <td>Independent</td>\n",
       "      <td>Medium</td>\n",
       "      <td>Industrial</td>\n",
       "      <td>The Order of Mobius</td>\n",
       "      <td>Low</td>\n",
       "    </tr>\n",
       "    <tr>\n",
       "      <th>6</th>\n",
       "      <td>Lambda Horologii</td>\n",
       "      <td>26.5</td>\n",
       "      <td>56999</td>\n",
       "      <td>Cooperative</td>\n",
       "      <td>Independent</td>\n",
       "      <td>Medium</td>\n",
       "      <td>Industrial</td>\n",
       "      <td>The Order of Mobius</td>\n",
       "      <td>Low</td>\n",
       "    </tr>\n",
       "    <tr>\n",
       "      <th>7</th>\n",
       "      <td>Mayoquot</td>\n",
       "      <td>41.5</td>\n",
       "      <td>54998</td>\n",
       "      <td>Cooperative</td>\n",
       "      <td>Independent</td>\n",
       "      <td>Low</td>\n",
       "      <td>Colony</td>\n",
       "      <td>The Order of Mobius</td>\n",
       "      <td>None</td>\n",
       "    </tr>\n",
       "    <tr>\n",
       "      <th>8</th>\n",
       "      <td>Quiate</td>\n",
       "      <td>29.8</td>\n",
       "      <td>6951330</td>\n",
       "      <td>Cooperative</td>\n",
       "      <td>Independent</td>\n",
       "      <td>High</td>\n",
       "      <td>Industrial</td>\n",
       "      <td>The Order of Mobius</td>\n",
       "      <td>Low</td>\n",
       "    </tr>\n",
       "  </tbody>\n",
       "</table>\n",
       "</div>"
      ],
      "text/plain": [
       "               Name  Distance  Population   Government   Allegiance  \\\n",
       "0             Bacap      44.8        3291  Cooperative  Independent   \n",
       "1          Blodyaks      57.0        2504  Cooperative  Independent   \n",
       "2              Dxui      57.2     8400593  Cooperative  Independent   \n",
       "3         HIP 20277      27.9    11247202    Corporate       Empire   \n",
       "4         Knepagari      43.7        2744  Cooperative  Independent   \n",
       "5       Kokonjekodi      46.9    16880373  Cooperative  Independent   \n",
       "6  Lambda Horologii      26.5       56999  Cooperative  Independent   \n",
       "7          Mayoquot      41.5       54998  Cooperative  Independent   \n",
       "8            Quiate      29.8     6951330  Cooperative  Independent   \n",
       "\n",
       "  Security Level Primary Economy         Controlling Faction Reserve Level  \n",
       "0            Low      Extraction         The Order of Mobius          None  \n",
       "1            Low        Military         The Order of Mobius      Depleted  \n",
       "2         Medium    Terraforming         The Order of Mobius           Low  \n",
       "3           High      Industrial  Calennero State Industries        Common  \n",
       "4            Low      Extraction         The Order of Mobius          None  \n",
       "5         Medium      Industrial         The Order of Mobius           Low  \n",
       "6         Medium      Industrial         The Order of Mobius           Low  \n",
       "7            Low          Colony         The Order of Mobius          None  \n",
       "8           High      Industrial         The Order of Mobius           Low  "
      ]
     },
     "execution_count": 10,
     "metadata": {},
     "output_type": "execute_result"
    }
   ],
   "source": [
    "system_summaries = eddb.system_survey_summary(systems, reference_system)\n",
    "system_summaries.sort_values(by='Name')"
   ]
  },
  {
   "cell_type": "code",
   "execution_count": 11,
   "metadata": {},
   "outputs": [],
   "source": [
    "system_summaries.to_clipboard(header=None, index=False)"
   ]
  }
 ],
 "metadata": {
  "kernelspec": {
   "display_name": "Python 3",
   "language": "python",
   "name": "python3"
  },
  "language_info": {
   "codemirror_mode": {
    "name": "ipython",
    "version": 3
   },
   "file_extension": ".py",
   "mimetype": "text/x-python",
   "name": "python",
   "nbconvert_exporter": "python",
   "pygments_lexer": "ipython3",
   "version": "3.7.6"
  }
 },
 "nbformat": 4,
 "nbformat_minor": 4
}