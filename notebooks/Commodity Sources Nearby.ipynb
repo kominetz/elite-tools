{
 "cells": [
  {
   "cell_type": "code",
   "execution_count": null,
   "source": [
    "import os\r\n",
    "import os.path\r\n",
    "import sys\r\n",
    "from pathlib import Path\r\n",
    "sys.path.insert(0, '..')\r\n",
    "from elitetools import eddb\r\n",
    "eddb.load_feeds()"
   ],
   "outputs": [],
   "metadata": {
    "tags": []
   }
  },
  {
   "cell_type": "code",
   "execution_count": null,
   "source": [
    "origin_name=\"Dvorsi\"\r\n",
    "commodities = \"Tobacco, Gold, Mineral Oil\"\r\n",
    "minimum_supply = 128\r\n",
    "top_count = 5"
   ],
   "outputs": [],
   "metadata": {}
  },
  {
   "cell_type": "code",
   "execution_count": null,
   "source": [
    "commodity_names=[ c.strip() for c in commodities.split(',') ]\r\n",
    "nearby_sources = eddb.commodity_sources_nearby(origin_name, commodity_names, minimum_supply, top_count)\r\n",
    "nearby_sources"
   ],
   "outputs": [],
   "metadata": {}
  }
 ],
 "metadata": {
  "kernelspec": {
   "display_name": "Python 3.8.2 64-bit ('venv': venv)",
   "language": "python",
   "name": "python38264bitvenvvenv62a40293f17f4ac3b1598e6c38a4bc04"
  },
  "language_info": {
   "codemirror_mode": {
    "name": "ipython",
    "version": 3
   },
   "file_extension": ".py",
   "mimetype": "text/x-python",
   "name": "python",
   "nbconvert_exporter": "python",
   "pygments_lexer": "ipython3",
   "version": "3.8.2-final"
  }
 },
 "nbformat": 4,
 "nbformat_minor": 4
}