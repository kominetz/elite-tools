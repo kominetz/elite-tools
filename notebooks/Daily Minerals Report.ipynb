{
 "cells": [
  {
   "cell_type": "code",
   "execution_count": 1,
   "metadata": {
    "tags": []
   },
   "outputs": [],
   "source": [
    "import os\n",
    "import os.path\n",
    "import sys\n",
    "from pathlib import Path\n",
    "sys.path.insert(0, '..')\n",
    "from elitetools import eddb\n",
    "eddb.load_feeds()"
   ]
  },
  {
   "cell_type": "markdown",
   "metadata": {},
   "source": [
    "# Best Mineral Listings #"
   ]
  },
  {
   "cell_type": "code",
   "execution_count": 2,
   "metadata": {
    "tags": []
   },
   "outputs": [
    {
     "output_type": "execute_result",
     "data": {
      "text/plain": "                   Commodity  Sell Price  Demand     As Of  Distance  \\\n0                    Painite      790072    1491   17 mins     135.0   \n1                    Painite      779449    1726    5 mins     374.3   \n2                    Painite      777968    2066    5 mins      81.4   \n3                    Painite      750354    1050   31 mins      54.3   \n4                 Void Opals     1365184     706   21 mins      97.5   \n5                    Painite      621573    6512  17 hours      88.6   \n6                    Painite      621573    3070   6 hours      88.6   \n7                 Void Opals     1332634     414    5 mins     374.3   \n8                    Painite      594680    6062   6 hours     143.1   \n9                    Painite      559116    1074   1 hours      79.6   \n10                   Painite      559116     772   3 hours      79.6   \n11                   Painite      556428   16768   49 mins     180.2   \n12                 Benitoite     1191593    1070    5 mins     374.3   \n13                Void Opals     1089105     387  17 hours      88.6   \n14  Low Temperature Diamonds      933956     430    5 mins     374.3   \n\n                        System                   Station Pad  Score  Amount  \n0                         Muri  Vasquez de Coronado Dock   L  1.707   151.7  \n1   Pleiades Sector HR-W d1-41          Malthus Terminal   L  1.684   149.7  \n2                      Unktock             Baird Station   L  1.681   149.4  \n3                    Daha Deti             Carleson Ring   L  1.621   144.1  \n4                      40 Ceti         Pailes Enterprise   L  1.365   131.1  \n5                       Malloc            Julian Gateway   L  1.343   119.3  \n6                       Malloc              Onizuka Ring   M  1.343   119.3  \n7   Pleiades Sector HR-W d1-41          Malthus Terminal   L  1.333   127.9  \n8                    HIP 20277               Fabian City   L  1.285   114.2  \n9                         Frog         Kempston Hardwick   L  1.208   107.4  \n10                        Frog                 Rochester   L  1.208   107.4  \n11                      Nortes               Hobbes Hope   L  1.202   106.8  \n12  Pleiades Sector HR-W d1-41          Malthus Terminal   L  1.192   114.4  \n13                      Malloc            Julian Gateway   L  1.089   104.6  \n14  Pleiades Sector HR-W d1-41          Malthus Terminal   L  1.078    89.7  ",
      "text/html": "<div>\n<style scoped>\n    .dataframe tbody tr th:only-of-type {\n        vertical-align: middle;\n    }\n\n    .dataframe tbody tr th {\n        vertical-align: top;\n    }\n\n    .dataframe thead th {\n        text-align: right;\n    }\n</style>\n<table border=\"1\" class=\"dataframe\">\n  <thead>\n    <tr style=\"text-align: right;\">\n      <th></th>\n      <th>Commodity</th>\n      <th>Sell Price</th>\n      <th>Demand</th>\n      <th>As Of</th>\n      <th>Distance</th>\n      <th>System</th>\n      <th>Station</th>\n      <th>Pad</th>\n      <th>Score</th>\n      <th>Amount</th>\n    </tr>\n  </thead>\n  <tbody>\n    <tr>\n      <th>0</th>\n      <td>Painite</td>\n      <td>790072</td>\n      <td>1491</td>\n      <td>17 mins</td>\n      <td>135.0</td>\n      <td>Muri</td>\n      <td>Vasquez de Coronado Dock</td>\n      <td>L</td>\n      <td>1.707</td>\n      <td>151.7</td>\n    </tr>\n    <tr>\n      <th>1</th>\n      <td>Painite</td>\n      <td>779449</td>\n      <td>1726</td>\n      <td>5 mins</td>\n      <td>374.3</td>\n      <td>Pleiades Sector HR-W d1-41</td>\n      <td>Malthus Terminal</td>\n      <td>L</td>\n      <td>1.684</td>\n      <td>149.7</td>\n    </tr>\n    <tr>\n      <th>2</th>\n      <td>Painite</td>\n      <td>777968</td>\n      <td>2066</td>\n      <td>5 mins</td>\n      <td>81.4</td>\n      <td>Unktock</td>\n      <td>Baird Station</td>\n      <td>L</td>\n      <td>1.681</td>\n      <td>149.4</td>\n    </tr>\n    <tr>\n      <th>3</th>\n      <td>Painite</td>\n      <td>750354</td>\n      <td>1050</td>\n      <td>31 mins</td>\n      <td>54.3</td>\n      <td>Daha Deti</td>\n      <td>Carleson Ring</td>\n      <td>L</td>\n      <td>1.621</td>\n      <td>144.1</td>\n    </tr>\n    <tr>\n      <th>4</th>\n      <td>Void Opals</td>\n      <td>1365184</td>\n      <td>706</td>\n      <td>21 mins</td>\n      <td>97.5</td>\n      <td>40 Ceti</td>\n      <td>Pailes Enterprise</td>\n      <td>L</td>\n      <td>1.365</td>\n      <td>131.1</td>\n    </tr>\n    <tr>\n      <th>5</th>\n      <td>Painite</td>\n      <td>621573</td>\n      <td>6512</td>\n      <td>17 hours</td>\n      <td>88.6</td>\n      <td>Malloc</td>\n      <td>Julian Gateway</td>\n      <td>L</td>\n      <td>1.343</td>\n      <td>119.3</td>\n    </tr>\n    <tr>\n      <th>6</th>\n      <td>Painite</td>\n      <td>621573</td>\n      <td>3070</td>\n      <td>6 hours</td>\n      <td>88.6</td>\n      <td>Malloc</td>\n      <td>Onizuka Ring</td>\n      <td>M</td>\n      <td>1.343</td>\n      <td>119.3</td>\n    </tr>\n    <tr>\n      <th>7</th>\n      <td>Void Opals</td>\n      <td>1332634</td>\n      <td>414</td>\n      <td>5 mins</td>\n      <td>374.3</td>\n      <td>Pleiades Sector HR-W d1-41</td>\n      <td>Malthus Terminal</td>\n      <td>L</td>\n      <td>1.333</td>\n      <td>127.9</td>\n    </tr>\n    <tr>\n      <th>8</th>\n      <td>Painite</td>\n      <td>594680</td>\n      <td>6062</td>\n      <td>6 hours</td>\n      <td>143.1</td>\n      <td>HIP 20277</td>\n      <td>Fabian City</td>\n      <td>L</td>\n      <td>1.285</td>\n      <td>114.2</td>\n    </tr>\n    <tr>\n      <th>9</th>\n      <td>Painite</td>\n      <td>559116</td>\n      <td>1074</td>\n      <td>1 hours</td>\n      <td>79.6</td>\n      <td>Frog</td>\n      <td>Kempston Hardwick</td>\n      <td>L</td>\n      <td>1.208</td>\n      <td>107.4</td>\n    </tr>\n    <tr>\n      <th>10</th>\n      <td>Painite</td>\n      <td>559116</td>\n      <td>772</td>\n      <td>3 hours</td>\n      <td>79.6</td>\n      <td>Frog</td>\n      <td>Rochester</td>\n      <td>L</td>\n      <td>1.208</td>\n      <td>107.4</td>\n    </tr>\n    <tr>\n      <th>11</th>\n      <td>Painite</td>\n      <td>556428</td>\n      <td>16768</td>\n      <td>49 mins</td>\n      <td>180.2</td>\n      <td>Nortes</td>\n      <td>Hobbes Hope</td>\n      <td>L</td>\n      <td>1.202</td>\n      <td>106.8</td>\n    </tr>\n    <tr>\n      <th>12</th>\n      <td>Benitoite</td>\n      <td>1191593</td>\n      <td>1070</td>\n      <td>5 mins</td>\n      <td>374.3</td>\n      <td>Pleiades Sector HR-W d1-41</td>\n      <td>Malthus Terminal</td>\n      <td>L</td>\n      <td>1.192</td>\n      <td>114.4</td>\n    </tr>\n    <tr>\n      <th>13</th>\n      <td>Void Opals</td>\n      <td>1089105</td>\n      <td>387</td>\n      <td>17 hours</td>\n      <td>88.6</td>\n      <td>Malloc</td>\n      <td>Julian Gateway</td>\n      <td>L</td>\n      <td>1.089</td>\n      <td>104.6</td>\n    </tr>\n    <tr>\n      <th>14</th>\n      <td>Low Temperature Diamonds</td>\n      <td>933956</td>\n      <td>430</td>\n      <td>5 mins</td>\n      <td>374.3</td>\n      <td>Pleiades Sector HR-W d1-41</td>\n      <td>Malthus Terminal</td>\n      <td>L</td>\n      <td>1.078</td>\n      <td>89.7</td>\n    </tr>\n  </tbody>\n</table>\n</div>"
     },
     "metadata": {},
     "execution_count": 2
    }
   ],
   "source": [
    "eddb.best_scoring_minerals('Sol', 500, commodity_count=10, top_count=15, min_score = 1.0)"
   ]
  },
  {
   "cell_type": "markdown",
   "metadata": {},
   "source": [
    "## Best Low Temperature Diamond Prices ##"
   ]
  },
  {
   "cell_type": "code",
   "execution_count": 3,
   "metadata": {
    "scrolled": true
   },
   "outputs": [
    {
     "output_type": "execute_result",
     "data": {
      "text/plain": "                  Commodity  Sell Price  Demand     As Of  Distance  \\\n0  Low Temperature Diamonds      874938     496   14 mins     133.0   \n1  Low Temperature Diamonds      850033     776   12 mins      18.2   \n2  Low Temperature Diamonds      833945     940   8 hours     162.6   \n3  Low Temperature Diamonds      831838    1753  15 hours      71.0   \n4  Low Temperature Diamonds      829965    1130   9 hours     180.6   \n5  Low Temperature Diamonds      819185     758  15 hours     180.6   \n6  Low Temperature Diamonds      818317     614   3 hours     161.1   \n7  Low Temperature Diamonds      814949     879   21 mins     109.6   \n\n      System            Station Pad  \n0    Artemis  Laphrian Shipyard   L  \n1     Mac Og          Amis Dock   L  \n2     Lenore     Kregel Station   M  \n3   Veroandi     Henson Station   M  \n4     Toluku   Rotsler Terminal   M  \n5     Toluku        Priest Dock   M  \n6  NLTT 8084        Surayev Hub   L  \n7    Zaragas         Jenner Hub   L  ",
      "text/html": "<div>\n<style scoped>\n    .dataframe tbody tr th:only-of-type {\n        vertical-align: middle;\n    }\n\n    .dataframe tbody tr th {\n        vertical-align: top;\n    }\n\n    .dataframe thead th {\n        text-align: right;\n    }\n</style>\n<table border=\"1\" class=\"dataframe\">\n  <thead>\n    <tr style=\"text-align: right;\">\n      <th></th>\n      <th>Commodity</th>\n      <th>Sell Price</th>\n      <th>Demand</th>\n      <th>As Of</th>\n      <th>Distance</th>\n      <th>System</th>\n      <th>Station</th>\n      <th>Pad</th>\n    </tr>\n  </thead>\n  <tbody>\n    <tr>\n      <th>0</th>\n      <td>Low Temperature Diamonds</td>\n      <td>874938</td>\n      <td>496</td>\n      <td>14 mins</td>\n      <td>133.0</td>\n      <td>Artemis</td>\n      <td>Laphrian Shipyard</td>\n      <td>L</td>\n    </tr>\n    <tr>\n      <th>1</th>\n      <td>Low Temperature Diamonds</td>\n      <td>850033</td>\n      <td>776</td>\n      <td>12 mins</td>\n      <td>18.2</td>\n      <td>Mac Og</td>\n      <td>Amis Dock</td>\n      <td>L</td>\n    </tr>\n    <tr>\n      <th>2</th>\n      <td>Low Temperature Diamonds</td>\n      <td>833945</td>\n      <td>940</td>\n      <td>8 hours</td>\n      <td>162.6</td>\n      <td>Lenore</td>\n      <td>Kregel Station</td>\n      <td>M</td>\n    </tr>\n    <tr>\n      <th>3</th>\n      <td>Low Temperature Diamonds</td>\n      <td>831838</td>\n      <td>1753</td>\n      <td>15 hours</td>\n      <td>71.0</td>\n      <td>Veroandi</td>\n      <td>Henson Station</td>\n      <td>M</td>\n    </tr>\n    <tr>\n      <th>4</th>\n      <td>Low Temperature Diamonds</td>\n      <td>829965</td>\n      <td>1130</td>\n      <td>9 hours</td>\n      <td>180.6</td>\n      <td>Toluku</td>\n      <td>Rotsler Terminal</td>\n      <td>M</td>\n    </tr>\n    <tr>\n      <th>5</th>\n      <td>Low Temperature Diamonds</td>\n      <td>819185</td>\n      <td>758</td>\n      <td>15 hours</td>\n      <td>180.6</td>\n      <td>Toluku</td>\n      <td>Priest Dock</td>\n      <td>M</td>\n    </tr>\n    <tr>\n      <th>6</th>\n      <td>Low Temperature Diamonds</td>\n      <td>818317</td>\n      <td>614</td>\n      <td>3 hours</td>\n      <td>161.1</td>\n      <td>NLTT 8084</td>\n      <td>Surayev Hub</td>\n      <td>L</td>\n    </tr>\n    <tr>\n      <th>7</th>\n      <td>Low Temperature Diamonds</td>\n      <td>814949</td>\n      <td>879</td>\n      <td>21 mins</td>\n      <td>109.6</td>\n      <td>Zaragas</td>\n      <td>Jenner Hub</td>\n      <td>L</td>\n    </tr>\n  </tbody>\n</table>\n</div>"
     },
     "metadata": {},
     "execution_count": 3
    }
   ],
   "source": [
    "eddb.best_rt_listings(\"Mosche\", (259-0), top_count=10, by_commodity=['Low Temperature Diamonds'], min_demand=400)"
   ]
  },
  {
   "cell_type": "markdown",
   "metadata": {},
   "source": [
    "## Best Painite Prices ##"
   ]
  },
  {
   "cell_type": "code",
   "execution_count": 4,
   "metadata": {
    "scrolled": true
   },
   "outputs": [
    {
     "output_type": "execute_result",
     "data": {
      "text/plain": "  Commodity  Sell Price  Demand     As Of  Distance     System  \\\n0   Painite      790072    1491   17 mins     140.9       Muri   \n1   Painite      777968    2066    5 mins      51.0    Unktock   \n2   Painite      750354    1050   31 mins     145.9  Daha Deti   \n3   Painite      621573    3070   6 hours     161.3     Malloc   \n4   Painite      621573    6512  17 hours     161.3     Malloc   \n5   Painite      594680    6062   6 hours     166.1  HIP 20277   \n\n                    Station Pad  \n0  Vasquez de Coronado Dock   L  \n1             Baird Station   L  \n2             Carleson Ring   L  \n3              Onizuka Ring   M  \n4            Julian Gateway   L  \n5               Fabian City   L  ",
      "text/html": "<div>\n<style scoped>\n    .dataframe tbody tr th:only-of-type {\n        vertical-align: middle;\n    }\n\n    .dataframe tbody tr th {\n        vertical-align: top;\n    }\n\n    .dataframe thead th {\n        text-align: right;\n    }\n</style>\n<table border=\"1\" class=\"dataframe\">\n  <thead>\n    <tr style=\"text-align: right;\">\n      <th></th>\n      <th>Commodity</th>\n      <th>Sell Price</th>\n      <th>Demand</th>\n      <th>As Of</th>\n      <th>Distance</th>\n      <th>System</th>\n      <th>Station</th>\n      <th>Pad</th>\n    </tr>\n  </thead>\n  <tbody>\n    <tr>\n      <th>0</th>\n      <td>Painite</td>\n      <td>790072</td>\n      <td>1491</td>\n      <td>17 mins</td>\n      <td>140.9</td>\n      <td>Muri</td>\n      <td>Vasquez de Coronado Dock</td>\n      <td>L</td>\n    </tr>\n    <tr>\n      <th>1</th>\n      <td>Painite</td>\n      <td>777968</td>\n      <td>2066</td>\n      <td>5 mins</td>\n      <td>51.0</td>\n      <td>Unktock</td>\n      <td>Baird Station</td>\n      <td>L</td>\n    </tr>\n    <tr>\n      <th>2</th>\n      <td>Painite</td>\n      <td>750354</td>\n      <td>1050</td>\n      <td>31 mins</td>\n      <td>145.9</td>\n      <td>Daha Deti</td>\n      <td>Carleson Ring</td>\n      <td>L</td>\n    </tr>\n    <tr>\n      <th>3</th>\n      <td>Painite</td>\n      <td>621573</td>\n      <td>3070</td>\n      <td>6 hours</td>\n      <td>161.3</td>\n      <td>Malloc</td>\n      <td>Onizuka Ring</td>\n      <td>M</td>\n    </tr>\n    <tr>\n      <th>4</th>\n      <td>Painite</td>\n      <td>621573</td>\n      <td>6512</td>\n      <td>17 hours</td>\n      <td>161.3</td>\n      <td>Malloc</td>\n      <td>Julian Gateway</td>\n      <td>L</td>\n    </tr>\n    <tr>\n      <th>5</th>\n      <td>Painite</td>\n      <td>594680</td>\n      <td>6062</td>\n      <td>6 hours</td>\n      <td>166.1</td>\n      <td>HIP 20277</td>\n      <td>Fabian City</td>\n      <td>L</td>\n    </tr>\n  </tbody>\n</table>\n</div>"
     },
     "metadata": {},
     "execution_count": 4
    }
   ],
   "source": [
    "eddb.best_rt_listings(\"GCRV 1568\", (219-0), top_count=10, by_commodity=['Painite'], min_demand = 800)"
   ]
  },
  {
   "cell_type": "markdown",
   "metadata": {},
   "source": [
    "## Best Void Opal Prices ##"
   ]
  },
  {
   "cell_type": "code",
   "execution_count": 5,
   "metadata": {},
   "outputs": [
    {
     "output_type": "execute_result",
     "data": {
      "text/plain": "    Commodity  Sell Price  Demand     As Of  Distance    System  \\\n0  Void Opals     1365184     706   21 mins     175.8   40 Ceti   \n1  Void Opals      963019     496  22 hours     100.0  Lansbury   \n\n             Station Pad  \n0  Pailes Enterprise   L  \n1  Henson Laboratory   M  ",
      "text/html": "<div>\n<style scoped>\n    .dataframe tbody tr th:only-of-type {\n        vertical-align: middle;\n    }\n\n    .dataframe tbody tr th {\n        vertical-align: top;\n    }\n\n    .dataframe thead th {\n        text-align: right;\n    }\n</style>\n<table border=\"1\" class=\"dataframe\">\n  <thead>\n    <tr style=\"text-align: right;\">\n      <th></th>\n      <th>Commodity</th>\n      <th>Sell Price</th>\n      <th>Demand</th>\n      <th>As Of</th>\n      <th>Distance</th>\n      <th>System</th>\n      <th>Station</th>\n      <th>Pad</th>\n    </tr>\n  </thead>\n  <tbody>\n    <tr>\n      <th>0</th>\n      <td>Void Opals</td>\n      <td>1365184</td>\n      <td>706</td>\n      <td>21 mins</td>\n      <td>175.8</td>\n      <td>40 Ceti</td>\n      <td>Pailes Enterprise</td>\n      <td>L</td>\n    </tr>\n    <tr>\n      <th>1</th>\n      <td>Void Opals</td>\n      <td>963019</td>\n      <td>496</td>\n      <td>22 hours</td>\n      <td>100.0</td>\n      <td>Lansbury</td>\n      <td>Henson Laboratory</td>\n      <td>M</td>\n    </tr>\n  </tbody>\n</table>\n</div>"
     },
     "metadata": {},
     "execution_count": 5
    }
   ],
   "source": [
    "eddb.best_rt_listings(\"Vindinepu\", (259-38), top_count=10, by_commodity=['Void Opals'], min_demand=400)"
   ]
  },
  {
   "cell_type": "markdown",
   "metadata": {},
   "source": [
    "## Best Listing Per Mineral in Core Region ##"
   ]
  },
  {
   "cell_type": "code",
   "execution_count": 6,
   "metadata": {
    "scrolled": false
   },
   "outputs": [
    {
     "output_type": "execute_result",
     "data": {
      "text/plain": "                   Commodity  Sell Price  Demand     As Of  Distance  \\\n0                    Painite      790072    1491   17 mins     135.0   \n1                 Void Opals     1365184     706   21 mins      97.5   \n2   Low Temperature Diamonds      874938     496   14 mins      69.4   \n3                  Benitoite      929666     812   49 mins     180.2   \n4                 Musgravite      814742     812   49 mins     180.2   \n5                Serendibite      771629     812   50 mins     180.2   \n6              Grandidierite      761623     812   49 mins     180.2   \n7                Alexandrite      559755     748   6 hours      88.6   \n8                   Monazite      336742    3094  17 hours      64.0   \n9               Rhodplumsite      315732    2088   7 hours      64.0   \n10                  Platinum       66945   43687    2 days     206.0   \n11                Bromellite        8805    6135   5 hours      79.6   \n\n       System                   Station Pad  Score  Amount  \n0        Muri  Vasquez de Coronado Dock   L  1.707   151.7  \n1     40 Ceti         Pailes Enterprise   L  1.365   131.1  \n2     Artemis         Laphrian Shipyard   L  1.010    84.0  \n3      Nortes               Hobbes Hope   L  0.930    89.2  \n4      Nortes               Hobbes Hope   L  0.815    78.2  \n5      Nortes               Hobbes Hope   L  0.772    74.1  \n6      Nortes               Hobbes Hope   L  0.762    73.1  \n7      Malloc              Onizuka Ring   M  0.560    53.7  \n8    LHS 2936               Kessel Port   M  0.337    32.3  \n9    LHS 2936            Fraser Orbital   L  0.316    30.3  \n10  Kapoongzi                 Jones Hub   L  0.145    12.9  \n11       Frog                Kroehl Lab   L  0.009     0.8  ",
      "text/html": "<div>\n<style scoped>\n    .dataframe tbody tr th:only-of-type {\n        vertical-align: middle;\n    }\n\n    .dataframe tbody tr th {\n        vertical-align: top;\n    }\n\n    .dataframe thead th {\n        text-align: right;\n    }\n</style>\n<table border=\"1\" class=\"dataframe\">\n  <thead>\n    <tr style=\"text-align: right;\">\n      <th></th>\n      <th>Commodity</th>\n      <th>Sell Price</th>\n      <th>Demand</th>\n      <th>As Of</th>\n      <th>Distance</th>\n      <th>System</th>\n      <th>Station</th>\n      <th>Pad</th>\n      <th>Score</th>\n      <th>Amount</th>\n    </tr>\n  </thead>\n  <tbody>\n    <tr>\n      <th>0</th>\n      <td>Painite</td>\n      <td>790072</td>\n      <td>1491</td>\n      <td>17 mins</td>\n      <td>135.0</td>\n      <td>Muri</td>\n      <td>Vasquez de Coronado Dock</td>\n      <td>L</td>\n      <td>1.707</td>\n      <td>151.7</td>\n    </tr>\n    <tr>\n      <th>1</th>\n      <td>Void Opals</td>\n      <td>1365184</td>\n      <td>706</td>\n      <td>21 mins</td>\n      <td>97.5</td>\n      <td>40 Ceti</td>\n      <td>Pailes Enterprise</td>\n      <td>L</td>\n      <td>1.365</td>\n      <td>131.1</td>\n    </tr>\n    <tr>\n      <th>2</th>\n      <td>Low Temperature Diamonds</td>\n      <td>874938</td>\n      <td>496</td>\n      <td>14 mins</td>\n      <td>69.4</td>\n      <td>Artemis</td>\n      <td>Laphrian Shipyard</td>\n      <td>L</td>\n      <td>1.010</td>\n      <td>84.0</td>\n    </tr>\n    <tr>\n      <th>3</th>\n      <td>Benitoite</td>\n      <td>929666</td>\n      <td>812</td>\n      <td>49 mins</td>\n      <td>180.2</td>\n      <td>Nortes</td>\n      <td>Hobbes Hope</td>\n      <td>L</td>\n      <td>0.930</td>\n      <td>89.2</td>\n    </tr>\n    <tr>\n      <th>4</th>\n      <td>Musgravite</td>\n      <td>814742</td>\n      <td>812</td>\n      <td>49 mins</td>\n      <td>180.2</td>\n      <td>Nortes</td>\n      <td>Hobbes Hope</td>\n      <td>L</td>\n      <td>0.815</td>\n      <td>78.2</td>\n    </tr>\n    <tr>\n      <th>5</th>\n      <td>Serendibite</td>\n      <td>771629</td>\n      <td>812</td>\n      <td>50 mins</td>\n      <td>180.2</td>\n      <td>Nortes</td>\n      <td>Hobbes Hope</td>\n      <td>L</td>\n      <td>0.772</td>\n      <td>74.1</td>\n    </tr>\n    <tr>\n      <th>6</th>\n      <td>Grandidierite</td>\n      <td>761623</td>\n      <td>812</td>\n      <td>49 mins</td>\n      <td>180.2</td>\n      <td>Nortes</td>\n      <td>Hobbes Hope</td>\n      <td>L</td>\n      <td>0.762</td>\n      <td>73.1</td>\n    </tr>\n    <tr>\n      <th>7</th>\n      <td>Alexandrite</td>\n      <td>559755</td>\n      <td>748</td>\n      <td>6 hours</td>\n      <td>88.6</td>\n      <td>Malloc</td>\n      <td>Onizuka Ring</td>\n      <td>M</td>\n      <td>0.560</td>\n      <td>53.7</td>\n    </tr>\n    <tr>\n      <th>8</th>\n      <td>Monazite</td>\n      <td>336742</td>\n      <td>3094</td>\n      <td>17 hours</td>\n      <td>64.0</td>\n      <td>LHS 2936</td>\n      <td>Kessel Port</td>\n      <td>M</td>\n      <td>0.337</td>\n      <td>32.3</td>\n    </tr>\n    <tr>\n      <th>9</th>\n      <td>Rhodplumsite</td>\n      <td>315732</td>\n      <td>2088</td>\n      <td>7 hours</td>\n      <td>64.0</td>\n      <td>LHS 2936</td>\n      <td>Fraser Orbital</td>\n      <td>L</td>\n      <td>0.316</td>\n      <td>30.3</td>\n    </tr>\n    <tr>\n      <th>10</th>\n      <td>Platinum</td>\n      <td>66945</td>\n      <td>43687</td>\n      <td>2 days</td>\n      <td>206.0</td>\n      <td>Kapoongzi</td>\n      <td>Jones Hub</td>\n      <td>L</td>\n      <td>0.145</td>\n      <td>12.9</td>\n    </tr>\n    <tr>\n      <th>11</th>\n      <td>Bromellite</td>\n      <td>8805</td>\n      <td>6135</td>\n      <td>5 hours</td>\n      <td>79.6</td>\n      <td>Frog</td>\n      <td>Kroehl Lab</td>\n      <td>L</td>\n      <td>0.009</td>\n      <td>0.8</td>\n    </tr>\n  </tbody>\n</table>\n</div>"
     },
     "metadata": {},
     "execution_count": 6
    }
   ],
   "source": [
    "eddb.best_scoring_minerals('Sol', 250, commodity_count=1, top_count=25, min_score = 0.0)"
   ]
  },
  {
   "cell_type": "markdown",
   "metadata": {},
   "source": [
    "## Best Listing Per Mineral in Known Space ##"
   ]
  },
  {
   "cell_type": "code",
   "execution_count": 7,
   "metadata": {},
   "outputs": [
    {
     "output_type": "execute_result",
     "data": {
      "text/plain": "                   Commodity  Sell Price  Demand    As Of  Distance  \\\n0                    Painite      790072    1491  17 mins     135.0   \n1                 Void Opals     1365184     706  21 mins      97.5   \n2                  Benitoite     1191593    1070   5 mins     374.3   \n3   Low Temperature Diamonds      933956     430   5 mins     374.3   \n4                Serendibite      954200    1070   5 mins     374.3   \n5                 Musgravite      834486    1070   5 mins     374.3   \n6              Grandidierite      780464    1070   5 mins     374.3   \n7                Alexandrite      559755     748  6 hours      88.6   \n8                   Monazite      336742    1491   2 days      64.0   \n9               Rhodplumsite      315732    1465   2 days      64.0   \n10                  Platinum       66990   15942  22 days     216.5   \n11                Bromellite        8805    6135  5 hours      79.6   \n\n                        System                   Station Pad  Score  Amount  \n0                         Muri  Vasquez de Coronado Dock   L  1.707   151.7  \n1                      40 Ceti         Pailes Enterprise   L  1.365   131.1  \n2   Pleiades Sector HR-W d1-41          Malthus Terminal   L  1.192   114.4  \n3   Pleiades Sector HR-W d1-41          Malthus Terminal   L  1.078    89.7  \n4   Pleiades Sector HR-W d1-41          Malthus Terminal   L  0.954    91.6  \n5   Pleiades Sector HR-W d1-41          Malthus Terminal   L  0.834    80.1  \n6   Pleiades Sector HR-W d1-41          Malthus Terminal   L  0.780    74.9  \n7                       Malloc              Onizuka Ring   M  0.560    53.7  \n8                     LHS 2936         Zebrowski Orbital   M  0.337    32.3  \n9                     LHS 2936         Zebrowski Orbital   M  0.316    30.3  \n10                       Maiki         Salpeter Terminal   M  0.145    12.9  \n11                        Frog                Kroehl Lab   L  0.009     0.8  ",
      "text/html": "<div>\n<style scoped>\n    .dataframe tbody tr th:only-of-type {\n        vertical-align: middle;\n    }\n\n    .dataframe tbody tr th {\n        vertical-align: top;\n    }\n\n    .dataframe thead th {\n        text-align: right;\n    }\n</style>\n<table border=\"1\" class=\"dataframe\">\n  <thead>\n    <tr style=\"text-align: right;\">\n      <th></th>\n      <th>Commodity</th>\n      <th>Sell Price</th>\n      <th>Demand</th>\n      <th>As Of</th>\n      <th>Distance</th>\n      <th>System</th>\n      <th>Station</th>\n      <th>Pad</th>\n      <th>Score</th>\n      <th>Amount</th>\n    </tr>\n  </thead>\n  <tbody>\n    <tr>\n      <th>0</th>\n      <td>Painite</td>\n      <td>790072</td>\n      <td>1491</td>\n      <td>17 mins</td>\n      <td>135.0</td>\n      <td>Muri</td>\n      <td>Vasquez de Coronado Dock</td>\n      <td>L</td>\n      <td>1.707</td>\n      <td>151.7</td>\n    </tr>\n    <tr>\n      <th>1</th>\n      <td>Void Opals</td>\n      <td>1365184</td>\n      <td>706</td>\n      <td>21 mins</td>\n      <td>97.5</td>\n      <td>40 Ceti</td>\n      <td>Pailes Enterprise</td>\n      <td>L</td>\n      <td>1.365</td>\n      <td>131.1</td>\n    </tr>\n    <tr>\n      <th>2</th>\n      <td>Benitoite</td>\n      <td>1191593</td>\n      <td>1070</td>\n      <td>5 mins</td>\n      <td>374.3</td>\n      <td>Pleiades Sector HR-W d1-41</td>\n      <td>Malthus Terminal</td>\n      <td>L</td>\n      <td>1.192</td>\n      <td>114.4</td>\n    </tr>\n    <tr>\n      <th>3</th>\n      <td>Low Temperature Diamonds</td>\n      <td>933956</td>\n      <td>430</td>\n      <td>5 mins</td>\n      <td>374.3</td>\n      <td>Pleiades Sector HR-W d1-41</td>\n      <td>Malthus Terminal</td>\n      <td>L</td>\n      <td>1.078</td>\n      <td>89.7</td>\n    </tr>\n    <tr>\n      <th>4</th>\n      <td>Serendibite</td>\n      <td>954200</td>\n      <td>1070</td>\n      <td>5 mins</td>\n      <td>374.3</td>\n      <td>Pleiades Sector HR-W d1-41</td>\n      <td>Malthus Terminal</td>\n      <td>L</td>\n      <td>0.954</td>\n      <td>91.6</td>\n    </tr>\n    <tr>\n      <th>5</th>\n      <td>Musgravite</td>\n      <td>834486</td>\n      <td>1070</td>\n      <td>5 mins</td>\n      <td>374.3</td>\n      <td>Pleiades Sector HR-W d1-41</td>\n      <td>Malthus Terminal</td>\n      <td>L</td>\n      <td>0.834</td>\n      <td>80.1</td>\n    </tr>\n    <tr>\n      <th>6</th>\n      <td>Grandidierite</td>\n      <td>780464</td>\n      <td>1070</td>\n      <td>5 mins</td>\n      <td>374.3</td>\n      <td>Pleiades Sector HR-W d1-41</td>\n      <td>Malthus Terminal</td>\n      <td>L</td>\n      <td>0.780</td>\n      <td>74.9</td>\n    </tr>\n    <tr>\n      <th>7</th>\n      <td>Alexandrite</td>\n      <td>559755</td>\n      <td>748</td>\n      <td>6 hours</td>\n      <td>88.6</td>\n      <td>Malloc</td>\n      <td>Onizuka Ring</td>\n      <td>M</td>\n      <td>0.560</td>\n      <td>53.7</td>\n    </tr>\n    <tr>\n      <th>8</th>\n      <td>Monazite</td>\n      <td>336742</td>\n      <td>1491</td>\n      <td>2 days</td>\n      <td>64.0</td>\n      <td>LHS 2936</td>\n      <td>Zebrowski Orbital</td>\n      <td>M</td>\n      <td>0.337</td>\n      <td>32.3</td>\n    </tr>\n    <tr>\n      <th>9</th>\n      <td>Rhodplumsite</td>\n      <td>315732</td>\n      <td>1465</td>\n      <td>2 days</td>\n      <td>64.0</td>\n      <td>LHS 2936</td>\n      <td>Zebrowski Orbital</td>\n      <td>M</td>\n      <td>0.316</td>\n      <td>30.3</td>\n    </tr>\n    <tr>\n      <th>10</th>\n      <td>Platinum</td>\n      <td>66990</td>\n      <td>15942</td>\n      <td>22 days</td>\n      <td>216.5</td>\n      <td>Maiki</td>\n      <td>Salpeter Terminal</td>\n      <td>M</td>\n      <td>0.145</td>\n      <td>12.9</td>\n    </tr>\n    <tr>\n      <th>11</th>\n      <td>Bromellite</td>\n      <td>8805</td>\n      <td>6135</td>\n      <td>5 hours</td>\n      <td>79.6</td>\n      <td>Frog</td>\n      <td>Kroehl Lab</td>\n      <td>L</td>\n      <td>0.009</td>\n      <td>0.8</td>\n    </tr>\n  </tbody>\n</table>\n</div>"
     },
     "metadata": {},
     "execution_count": 7
    }
   ],
   "source": [
    "eddb.best_scoring_minerals('Sol', 10000, commodity_count=1, top_count=25, min_score = 0.0)"
   ]
  },
  {
   "cell_type": "markdown",
   "metadata": {},
   "source": [
    "## Best Listing Per Mineral in Colonia Region"
   ]
  },
  {
   "cell_type": "code",
   "execution_count": 8,
   "metadata": {},
   "outputs": [
    {
     "output_type": "execute_result",
     "data": {
      "text/plain": "       Commodity  Sell Price  Demand    As Of  Distance     System  \\\n0        Painite      790740    1401  3 hours      29.5  Benzaiten   \n1     Void Opals     1332634     455  3 hours      29.5  Benzaiten   \n2      Benitoite      959622     455  3 hours      29.5  Benzaiten   \n3    Serendibite      776160     455  3 hours      29.5  Benzaiten   \n4     Musgravite      682564     455  3 hours      29.5  Benzaiten   \n5  Grandidierite      634923     455  3 hours      29.5  Benzaiten   \n6    Alexandrite      460621     455  3 hours      29.5  Benzaiten   \n7     Bromellite        8791   26830   3 mins       0.0    Colonia   \n\n          Station Pad  Score  Amount  \n0       Zhu Oasis   M  1.708   151.8  \n1       Zhu Oasis   M  1.333   127.9  \n2       Zhu Oasis   M  0.960    92.1  \n3       Zhu Oasis   M  0.776    74.5  \n4       Zhu Oasis   M  0.683    65.5  \n5       Zhu Oasis   M  0.635    61.0  \n6       Zhu Oasis   M  0.461    44.2  \n7  Jaques Station   L  0.009     0.8  ",
      "text/html": "<div>\n<style scoped>\n    .dataframe tbody tr th:only-of-type {\n        vertical-align: middle;\n    }\n\n    .dataframe tbody tr th {\n        vertical-align: top;\n    }\n\n    .dataframe thead th {\n        text-align: right;\n    }\n</style>\n<table border=\"1\" class=\"dataframe\">\n  <thead>\n    <tr style=\"text-align: right;\">\n      <th></th>\n      <th>Commodity</th>\n      <th>Sell Price</th>\n      <th>Demand</th>\n      <th>As Of</th>\n      <th>Distance</th>\n      <th>System</th>\n      <th>Station</th>\n      <th>Pad</th>\n      <th>Score</th>\n      <th>Amount</th>\n    </tr>\n  </thead>\n  <tbody>\n    <tr>\n      <th>0</th>\n      <td>Painite</td>\n      <td>790740</td>\n      <td>1401</td>\n      <td>3 hours</td>\n      <td>29.5</td>\n      <td>Benzaiten</td>\n      <td>Zhu Oasis</td>\n      <td>M</td>\n      <td>1.708</td>\n      <td>151.8</td>\n    </tr>\n    <tr>\n      <th>1</th>\n      <td>Void Opals</td>\n      <td>1332634</td>\n      <td>455</td>\n      <td>3 hours</td>\n      <td>29.5</td>\n      <td>Benzaiten</td>\n      <td>Zhu Oasis</td>\n      <td>M</td>\n      <td>1.333</td>\n      <td>127.9</td>\n    </tr>\n    <tr>\n      <th>2</th>\n      <td>Benitoite</td>\n      <td>959622</td>\n      <td>455</td>\n      <td>3 hours</td>\n      <td>29.5</td>\n      <td>Benzaiten</td>\n      <td>Zhu Oasis</td>\n      <td>M</td>\n      <td>0.960</td>\n      <td>92.1</td>\n    </tr>\n    <tr>\n      <th>3</th>\n      <td>Serendibite</td>\n      <td>776160</td>\n      <td>455</td>\n      <td>3 hours</td>\n      <td>29.5</td>\n      <td>Benzaiten</td>\n      <td>Zhu Oasis</td>\n      <td>M</td>\n      <td>0.776</td>\n      <td>74.5</td>\n    </tr>\n    <tr>\n      <th>4</th>\n      <td>Musgravite</td>\n      <td>682564</td>\n      <td>455</td>\n      <td>3 hours</td>\n      <td>29.5</td>\n      <td>Benzaiten</td>\n      <td>Zhu Oasis</td>\n      <td>M</td>\n      <td>0.683</td>\n      <td>65.5</td>\n    </tr>\n    <tr>\n      <th>5</th>\n      <td>Grandidierite</td>\n      <td>634923</td>\n      <td>455</td>\n      <td>3 hours</td>\n      <td>29.5</td>\n      <td>Benzaiten</td>\n      <td>Zhu Oasis</td>\n      <td>M</td>\n      <td>0.635</td>\n      <td>61.0</td>\n    </tr>\n    <tr>\n      <th>6</th>\n      <td>Alexandrite</td>\n      <td>460621</td>\n      <td>455</td>\n      <td>3 hours</td>\n      <td>29.5</td>\n      <td>Benzaiten</td>\n      <td>Zhu Oasis</td>\n      <td>M</td>\n      <td>0.461</td>\n      <td>44.2</td>\n    </tr>\n    <tr>\n      <th>7</th>\n      <td>Bromellite</td>\n      <td>8791</td>\n      <td>26830</td>\n      <td>3 mins</td>\n      <td>0.0</td>\n      <td>Colonia</td>\n      <td>Jaques Station</td>\n      <td>L</td>\n      <td>0.009</td>\n      <td>0.8</td>\n    </tr>\n  </tbody>\n</table>\n</div>"
     },
     "metadata": {},
     "execution_count": 8
    }
   ],
   "source": [
    "eddb.best_scoring_minerals('Colonia', 250, commodity_count=1, top_count=25, min_score = 0.0)"
   ]
  },
  {
   "cell_type": "code",
   "execution_count": null,
   "metadata": {},
   "outputs": [],
   "source": []
  }
 ],
 "metadata": {
  "kernelspec": {
   "display_name": "Python 3",
   "language": "python",
   "name": "python3"
  },
  "language_info": {
   "codemirror_mode": {
    "name": "ipython",
    "version": 3
   },
   "file_extension": ".py",
   "mimetype": "text/x-python",
   "name": "python",
   "nbconvert_exporter": "python",
   "pygments_lexer": "ipython3",
   "version": "3.7.6"
  }
 },
 "nbformat": 4,
 "nbformat_minor": 4
}