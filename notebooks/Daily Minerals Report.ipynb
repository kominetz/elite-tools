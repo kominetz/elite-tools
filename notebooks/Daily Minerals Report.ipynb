{
 "cells": [
  {
   "cell_type": "code",
   "execution_count": null,
   "metadata": {
    "tags": []
   },
   "outputs": [],
   "source": [
    "from datetime import datetime\n",
    "import os\n",
    "import os.path\n",
    "import sys\n",
    "from pathlib import Path\n",
    "sys.path.insert(0, '..')\n",
    "from elitetools import eddb\n",
    "eddb.load_feeds(force_refresh=False)\n",
    "datetime.now().isoformat()"
   ]
  },
  {
   "cell_type": "code",
   "execution_count": null,
   "metadata": {},
   "outputs": [],
   "source": [
    "ref_system           = 'Dvorsi'\n",
    "ref_radius           = 500\n",
    "\n",
    "# cargo_capacity = 672; large_pad_only = True\n",
    "cargo_capacity = 256; large_pad_only = False"
   ]
  },
  {
   "cell_type": "markdown",
   "metadata": {},
   "source": [
    "## Top Price Mineral Listings ##"
   ]
  },
  {
   "cell_type": "code",
   "execution_count": null,
   "metadata": {},
   "outputs": [],
   "source": [
    "eddb.top_price_mineral_listings(ref_system, ref_radius, by_commodity=eddb.top_minerals, commodity_count=3, top_count=100, large_pad_only=large_pad_only)"
   ]
  },
  {
   "cell_type": "markdown",
   "metadata": {},
   "source": [
    "## Top Performance Mineral Listings ##"
   ]
  },
  {
   "cell_type": "code",
   "execution_count": null,
   "metadata": {},
   "outputs": [],
   "source": [
    "eddb.top_perf_mineral_listings(ref_system, ref_radius, by_commodity=eddb.top_minerals, commodity_count=3, top_count=100,  min_perf = 1.0, large_pad_only=large_pad_only)"
   ]
  }
 ],
 "metadata": {
  "kernelspec": {
   "display_name": "Python 3.10.5 64-bit (windows store)",
   "language": "python",
   "name": "python3"
  },
  "language_info": {
   "codemirror_mode": {
    "name": "ipython",
    "version": 3
   },
   "file_extension": ".py",
   "mimetype": "text/x-python",
   "name": "python",
   "nbconvert_exporter": "python",
   "pygments_lexer": "ipython3",
   "version": "3.10.5"
  },
  "vscode": {
   "interpreter": {
    "hash": "aa1e2ddce8b04aec7b3edf0d8441e6cbb5d191733fc9f8125fc294ebf7ffc880"
   }
  }
 },
 "nbformat": 4,
 "nbformat_minor": 4
}
