{
 "cells": [
  {
   "cell_type": "code",
   "execution_count": null,
   "metadata": {
    "tags": []
   },
   "outputs": [],
   "source": [
    "import os\n",
    "import os.path\n",
    "import sys\n",
    "from pathlib import Path\n",
    "sys.path.insert(0, '..')\n",
    "from elitetools import eddb\n",
    "eddb.load_feeds()"
   ]
  },
  {
   "cell_type": "code",
   "execution_count": null,
   "metadata": {},
   "outputs": [],
   "source": [
    "ref_system='Sol'\n",
    "ref_radius=500\n",
    "\n",
    "core_ref_system='Azrael'\n",
    "core_ref_radius=259\n",
    "core_cargo_capacity=96\n",
    "\n",
    "laser_ref_system='Azrael'\n",
    "laser_ref_radius=209\n",
    "laser_cargo_capacity=512\n",
    "\n",
    "core_min_demand=5 * core_cargo_capacity\n",
    "laser_min_demand=5 * laser_cargo_capacity"
   ]
  },
  {
   "cell_type": "markdown",
   "metadata": {},
   "source": [
    "# Top Scoring Mineral Listings #"
   ]
  },
  {
   "cell_type": "code",
   "execution_count": null,
   "metadata": {
    "tags": []
   },
   "outputs": [],
   "source": [
    "eddb.best_scoring_minerals(ref_system, ref_radius, commodity_count=3, top_count=25, min_score = 1.0)"
   ]
  },
  {
   "cell_type": "markdown",
   "metadata": {},
   "source": [
    "# Top Performing Minerals #"
   ]
  },
  {
   "cell_type": "code",
   "execution_count": null,
   "metadata": {},
   "outputs": [],
   "source": [
    "eddb.best_perf_minerals(ref_system, ref_radius, commodity_count=3, top_count=25, min_perf = 2.5)"
   ]
  },
  {
   "cell_type": "markdown",
   "metadata": {},
   "source": [
    "## Best Core Mineral Listings ##"
   ]
  },
  {
   "cell_type": "code",
   "execution_count": null,
   "metadata": {
    "scrolled": true
   },
   "outputs": [],
   "source": [
    "eddb.best_rt_listings(core_ref_system, core_ref_radius, top_count=3, by_commodity=eddb.top_core_minerals, min_demand=core_min_demand)"
   ]
  },
  {
   "cell_type": "markdown",
   "metadata": {},
   "source": [
    "## Best Laser Mineral Listings ##"
   ]
  },
  {
   "cell_type": "code",
   "execution_count": null,
   "metadata": {
    "scrolled": true
   },
   "outputs": [],
   "source": [
    "eddb.best_rt_listings(laser_ref_system, laser_ref_radius, top_count=3, by_commodity=eddb.top_laser_minerals, min_demand = laser_min_demand)"
   ]
  },
  {
   "cell_type": "markdown",
   "metadata": {},
   "source": [
    "## Top Performing Listing Per Mineral ##"
   ]
  },
  {
   "cell_type": "code",
   "execution_count": null,
   "metadata": {},
   "outputs": [],
   "source": [
    "eddb.best_perf_minerals(ref_system, ref_radius, commodity_count=1, top_count=100, min_demand=500)"
   ]
  }
 ],
 "metadata": {
  "interpreter": {
   "hash": "294ce3eeb4238ab366a4ed00698b7e367b354f65a08ed64b348097224984088b"
  },
  "kernelspec": {
   "display_name": "Python 3.9.5 64-bit",
   "name": "python3"
  },
  "language_info": {
   "codemirror_mode": {
    "name": "ipython",
    "version": 3
   },
   "file_extension": ".py",
   "mimetype": "text/x-python",
   "name": "python",
   "nbconvert_exporter": "python",
   "pygments_lexer": "ipython3",
   "version": "3.9.5"
  }
 },
 "nbformat": 4,
 "nbformat_minor": 4
}
