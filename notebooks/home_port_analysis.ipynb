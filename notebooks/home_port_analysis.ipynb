{
 "cells": [
  {
   "cell_type": "code",
   "execution_count": 5,
   "metadata": {
    "scrolled": true
   },
   "outputs": [
    {
     "output_type": "stream",
     "name": "stdout",
     "text": "# Found \"C:\\Users\\komin\\AppData\\Local\\Temp\\elite-tools\\archive-v6-systems_populated.jsonl\".\n# Feeds.POPULATED_SYSTEMS records loaded:  20629\n# Found \"C:\\Users\\komin\\AppData\\Local\\Temp\\elite-tools\\archive-v6-stations.jsonl\".\n# Feeds.STATIONS records loaded:  49453\n# Found \"C:\\Users\\komin\\AppData\\Local\\Temp\\elite-tools\\archive-v6-factions.jsonl\".\n# Feeds.FACTIONS records loaded:  77094\n"
    }
   ],
   "source": [
    "import sys\n",
    "sys.path.insert(0, '..')\n",
    "import eddb\n",
    "eddb.load_feeds()"
   ]
  },
  {
   "cell_type": "code",
   "execution_count": 6,
   "metadata": {
    "scrolled": true
   },
   "outputs": [],
   "source": [
    "origin = input(\"Home System: \")"
   ]
  },
  {
   "cell_type": "code",
   "execution_count": 7,
   "metadata": {
    "scrolled": true
   },
   "outputs": [
    {
     "output_type": "execute_result",
     "data": {
      "text/plain": "               Name  Distance   Population   Government   Allegiance  \\\n265             Sol       0.0  22780871769    Democracy   Federation   \n119  Alpha Centauri       4.4       100000  Cooperative  Independent   \n168  Barnard's Star       6.0      1248653  Cooperative  Independent   \n118       Luhman 16       6.6       170509    Corporate  Independent   \n48   WISE 0855-0714       7.2        34825  Cooperative  Independent   \n..              ...       ...          ...          ...          ...   \n234          CC Eri      37.9       183654    Democracy   Federation   \n253     GQ Virginis      37.9     14087951       Feudal  Independent   \n142       LP 525-39      38.0        39322  Cooperative  Independent   \n206   V1285 Aquilae      38.4        82118       Feudal  Independent   \n23         Plutarch      38.5   8284432768    Democracy   Federation   \n\n    Security Level Primary Economy                   Controlling Faction  \\\n265           High        Refinery                           Mother Gaia   \n119            Low      Extraction  Hutton Orbital Truckers Co-Operative   \n168         Medium        Refinery  Hutton Orbital Truckers Co-Operative   \n118         Medium        Military                    Sirius Corporation   \n48             Low        Refinery  Hutton Orbital Truckers Co-Operative   \n..             ...             ...                                   ...   \n234         Medium        Refinery                      Nemo Corporation   \n253           High       High Tech                    Leaders of LHS 369   \n142            Low        Military  Hutton Orbital Truckers Co-Operative   \n206         Medium          Colony                  V1285 Aquilae Nobles   \n23            High     Agriculture                       Centurion Lords   \n\n    Reserve Level  \n265        Common  \n119      Depleted  \n168      Depleted  \n118      Depleted  \n48            Low  \n..            ...  \n234      Depleted  \n253        Common  \n142      Depleted  \n206          None  \n23           None  \n\n[290 rows x 9 columns]",
      "text/html": "<div>\n<style scoped>\n    .dataframe tbody tr th:only-of-type {\n        vertical-align: middle;\n    }\n\n    .dataframe tbody tr th {\n        vertical-align: top;\n    }\n\n    .dataframe thead th {\n        text-align: right;\n    }\n</style>\n<table border=\"1\" class=\"dataframe\">\n  <thead>\n    <tr style=\"text-align: right;\">\n      <th></th>\n      <th>Name</th>\n      <th>Distance</th>\n      <th>Population</th>\n      <th>Government</th>\n      <th>Allegiance</th>\n      <th>Security Level</th>\n      <th>Primary Economy</th>\n      <th>Controlling Faction</th>\n      <th>Reserve Level</th>\n    </tr>\n  </thead>\n  <tbody>\n    <tr>\n      <th>265</th>\n      <td>Sol</td>\n      <td>0.0</td>\n      <td>22780871769</td>\n      <td>Democracy</td>\n      <td>Federation</td>\n      <td>High</td>\n      <td>Refinery</td>\n      <td>Mother Gaia</td>\n      <td>Common</td>\n    </tr>\n    <tr>\n      <th>119</th>\n      <td>Alpha Centauri</td>\n      <td>4.4</td>\n      <td>100000</td>\n      <td>Cooperative</td>\n      <td>Independent</td>\n      <td>Low</td>\n      <td>Extraction</td>\n      <td>Hutton Orbital Truckers Co-Operative</td>\n      <td>Depleted</td>\n    </tr>\n    <tr>\n      <th>168</th>\n      <td>Barnard's Star</td>\n      <td>6.0</td>\n      <td>1248653</td>\n      <td>Cooperative</td>\n      <td>Independent</td>\n      <td>Medium</td>\n      <td>Refinery</td>\n      <td>Hutton Orbital Truckers Co-Operative</td>\n      <td>Depleted</td>\n    </tr>\n    <tr>\n      <th>118</th>\n      <td>Luhman 16</td>\n      <td>6.6</td>\n      <td>170509</td>\n      <td>Corporate</td>\n      <td>Independent</td>\n      <td>Medium</td>\n      <td>Military</td>\n      <td>Sirius Corporation</td>\n      <td>Depleted</td>\n    </tr>\n    <tr>\n      <th>48</th>\n      <td>WISE 0855-0714</td>\n      <td>7.2</td>\n      <td>34825</td>\n      <td>Cooperative</td>\n      <td>Independent</td>\n      <td>Low</td>\n      <td>Refinery</td>\n      <td>Hutton Orbital Truckers Co-Operative</td>\n      <td>Low</td>\n    </tr>\n    <tr>\n      <th>...</th>\n      <td>...</td>\n      <td>...</td>\n      <td>...</td>\n      <td>...</td>\n      <td>...</td>\n      <td>...</td>\n      <td>...</td>\n      <td>...</td>\n      <td>...</td>\n    </tr>\n    <tr>\n      <th>234</th>\n      <td>CC Eri</td>\n      <td>37.9</td>\n      <td>183654</td>\n      <td>Democracy</td>\n      <td>Federation</td>\n      <td>Medium</td>\n      <td>Refinery</td>\n      <td>Nemo Corporation</td>\n      <td>Depleted</td>\n    </tr>\n    <tr>\n      <th>253</th>\n      <td>GQ Virginis</td>\n      <td>37.9</td>\n      <td>14087951</td>\n      <td>Feudal</td>\n      <td>Independent</td>\n      <td>High</td>\n      <td>High Tech</td>\n      <td>Leaders of LHS 369</td>\n      <td>Common</td>\n    </tr>\n    <tr>\n      <th>142</th>\n      <td>LP 525-39</td>\n      <td>38.0</td>\n      <td>39322</td>\n      <td>Cooperative</td>\n      <td>Independent</td>\n      <td>Low</td>\n      <td>Military</td>\n      <td>Hutton Orbital Truckers Co-Operative</td>\n      <td>Depleted</td>\n    </tr>\n    <tr>\n      <th>206</th>\n      <td>V1285 Aquilae</td>\n      <td>38.4</td>\n      <td>82118</td>\n      <td>Feudal</td>\n      <td>Independent</td>\n      <td>Medium</td>\n      <td>Colony</td>\n      <td>V1285 Aquilae Nobles</td>\n      <td>None</td>\n    </tr>\n    <tr>\n      <th>23</th>\n      <td>Plutarch</td>\n      <td>38.5</td>\n      <td>8284432768</td>\n      <td>Democracy</td>\n      <td>Federation</td>\n      <td>High</td>\n      <td>Agriculture</td>\n      <td>Centurion Lords</td>\n      <td>None</td>\n    </tr>\n  </tbody>\n</table>\n<p>290 rows × 9 columns</p>\n</div>"
     },
     "metadata": {},
     "execution_count": 7
    }
   ],
   "source": [
    "core_systems = eddb.query_nearby_systems(origin, eddb.SYSTEM_INFLUENCE_RANGE)\n",
    "extended_systems = eddb.query_nearby_systems(core_systems, eddb.SYSTEM_INFLUENCE_RANGE)\n",
    "system_summaries = eddb.system_survey_summary(extended_systems, origin)\n",
    "system_summaries.sort_values(by='Distance')"
   ]
  },
  {
   "cell_type": "code",
   "execution_count": 8,
   "metadata": {},
   "outputs": [],
   "source": [
    "system_summaries.to_clipboard(header=None, index=False)"
   ]
  }
 ],
 "metadata": {
  "kernelspec": {
   "display_name": "Python 3",
   "language": "python",
   "name": "python3"
  },
  "language_info": {
   "codemirror_mode": {
    "name": "ipython",
    "version": 3
   },
   "file_extension": ".py",
   "mimetype": "text/x-python",
   "name": "python",
   "nbconvert_exporter": "python",
   "pygments_lexer": "ipython3",
   "version": "3.8.2-final"
  }
 },
 "nbformat": 4,
 "nbformat_minor": 4
}