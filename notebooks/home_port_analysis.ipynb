{
 "cells": [
  {
   "cell_type": "code",
   "execution_count": 1,
   "metadata": {
    "scrolled": true
   },
   "outputs": [
    {
     "name": "stdout",
     "output_type": "stream",
     "text": [
      "['C:\\\\Users\\\\komin\\\\Projects\\\\elite-tools\\\\src', 'C:\\\\Users\\\\komin\\\\Projects\\\\elite-tools\\\\notebooks', 'C:\\\\Anaconda3\\\\python37.zip', 'C:\\\\Anaconda3\\\\DLLs', 'C:\\\\Anaconda3\\\\lib', 'C:\\\\Anaconda3', '', 'C:\\\\Anaconda3\\\\lib\\\\site-packages', 'C:\\\\Anaconda3\\\\lib\\\\site-packages\\\\win32', 'C:\\\\Anaconda3\\\\lib\\\\site-packages\\\\win32\\\\lib', 'C:\\\\Anaconda3\\\\lib\\\\site-packages\\\\Pythonwin', 'C:\\\\Anaconda3\\\\lib\\\\site-packages\\\\IPython\\\\extensions', 'C:\\\\Users\\\\komin\\\\.ipython']\n",
      "Using existing file \"C:\\Users\\komin\\AppData\\Local\\Temp\\elite-tools\\archive-v6-systems_populated.jsonl\" for Feeds.POPULATED_SYSTEMS.\n",
      "# Feeds.POPULATED_SYSTEMS records loaded:  20629\n",
      "Using existing file \"C:\\Users\\komin\\AppData\\Local\\Temp\\elite-tools\\archive-v6-factions.jsonl\" for Feeds.FACTIONS.\n",
      "# Feeds.FACTIONS records loaded:  77091\n"
     ]
    }
   ],
   "source": [
    "import os\n",
    "import os.path\n",
    "import sys\n",
    "from pathlib import Path\n",
    "sys.path.insert(0, os.path.join(Path.home(), 'Projects', 'elite-tools', 'src'))\n",
    "print(sys.path)\n",
    "import eddb"
   ]
  },
  {
   "cell_type": "code",
   "execution_count": 2,
   "metadata": {
    "scrolled": true
   },
   "outputs": [
    {
     "name": "stdout",
     "output_type": "stream",
     "text": [
      "Home System: Asterope\n"
     ]
    }
   ],
   "source": [
    "origin = input(\"Home System: \")"
   ]
  },
  {
   "cell_type": "code",
   "execution_count": 3,
   "metadata": {},
   "outputs": [
    {
     "name": "stdout",
     "output_type": "stream",
     "text": [
      "Radius (ly): 25\n"
     ]
    }
   ],
   "source": [
    "radius = int(input(\"Radius (ly): \"))"
   ]
  },
  {
   "cell_type": "code",
   "execution_count": 4,
   "metadata": {
    "scrolled": true
   },
   "outputs": [],
   "source": [
    "nearby_systems = eddb.query_nearby_systems(origin, radius)\n",
    "system_summaries = eddb.summarize_systems(nearby_systems, origin)\n",
    "system_summaries"
   ]
  },
  {
   "cell_type": "code",
   "execution_count": 6,
   "metadata": {},
   "outputs": [
    {
     "data": {
      "text/plain": [
       "id                                                                          19988\n",
       "edsm_id                                                                     23591\n",
       "name                                                                     Asterope\n",
       "x                                                                        -80.1562\n",
       "y                                                                        -144.094\n",
       "z                                                                        -333.375\n",
       "population                                                                1200000\n",
       "is_populated                                                                 True\n",
       "government_id                                                                  80\n",
       "government                                                            Cooperative\n",
       "allegiance_id                                                                   4\n",
       "allegiance                                                            Independent\n",
       "states                          [{'id': 101, 'name': 'Investment'}, {'id': 104...\n",
       "security_id                                                                    16\n",
       "security                                                                      Low\n",
       "primary_economy_id                                                              5\n",
       "primary_economy                                                          Military\n",
       "power                                                                        None\n",
       "power_state                                                                  None\n",
       "power_state_id                                                               None\n",
       "needs_permit                                                                False\n",
       "updated_at                                                             1588558123\n",
       "simbad_ref                                                               Asterope\n",
       "controlling_minor_faction_id                                                76087\n",
       "controlling_minor_faction                             Hanks Alliance of Anti-Xeno\n",
       "reserve_type_id                                                                 1\n",
       "reserve_type                                                             Pristine\n",
       "minor_faction_presences         [{'happiness_id': 2, 'minor_faction_id': 75566...\n",
       "dtype: object"
      ]
     },
     "execution_count": 6,
     "metadata": {},
     "output_type": "execute_result"
    }
   ],
   "source": [
    "import pandas as pd\n",
    "pd.Series(eddb.populated_systems[origin])"
   ]
  },
  {
   "cell_type": "code",
   "execution_count": 7,
   "metadata": {},
   "outputs": [],
   "source": [
    "system_summaries.to_clipboard(header=None, index=False)"
   ]
  }
 ],
 "metadata": {
  "kernelspec": {
   "display_name": "Python 3",
   "language": "python",
   "name": "python3"
  },
  "language_info": {
   "codemirror_mode": {
    "name": "ipython",
    "version": 3
   },
   "file_extension": ".py",
   "mimetype": "text/x-python",
   "name": "python",
   "nbconvert_exporter": "python",
   "pygments_lexer": "ipython3",
   "version": "3.7.6"
  }
 },
 "nbformat": 4,
 "nbformat_minor": 4
}
