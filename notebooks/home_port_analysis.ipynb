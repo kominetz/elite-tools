{
 "cells": [
  {
   "cell_type": "code",
   "execution_count": 1,
   "metadata": {
    "scrolled": true
   },
   "outputs": [
    {
     "output_type": "stream",
     "name": "stdout",
     "text": "# Found \"C:\\Users\\komin\\AppData\\Local\\Temp\\elite-tools\\archive-v6-systems_populated.jsonl\".\n# Feeds.POPULATED_SYSTEMS records loaded:  20629\n# Found \"C:\\Users\\komin\\AppData\\Local\\Temp\\elite-tools\\archive-v6-systems_populated.jsonl\".\n# Feeds.POPULATED_SYSTEMS records loaded:  20629\n# Found \"C:\\Users\\komin\\AppData\\Local\\Temp\\elite-tools\\archive-v6-stations.jsonl\".\n# Feeds.STATIONS records loaded:  49461\n# Found \"C:\\Users\\komin\\AppData\\Local\\Temp\\elite-tools\\archive-v6-factions.jsonl\".\n# Feeds.FACTIONS records loaded:  77096\n# Found \"C:\\Users\\komin\\AppData\\Local\\Temp\\elite-tools\\archive-v6-factions.jsonl\".\n# Feeds.FACTIONS records loaded:  77096\n"
    }
   ],
   "source": [
    "import eddb\n",
    "eddb.load_feeds()"
   ]
  },
  {
   "cell_type": "code",
   "execution_count": 2,
   "metadata": {
    "scrolled": true
   },
   "outputs": [],
   "source": [
    "origin = input(\"Home System: \")"
   ]
  },
  {
   "cell_type": "code",
   "execution_count": 3,
   "metadata": {
    "scrolled": true
   },
   "outputs": [
    {
     "output_type": "execute_result",
     "data": {
      "text/plain": "              Name  Distance  Population Primary Economy Reserve Level\n0      Gongalungul      24.0    47190898       High Tech          None\n1       Ch'in Yang      27.4     4295353      Industrial          None\n2         Zhangana      30.6      164642        Refinery      Depleted\n3       Rabakshany      30.0   624542677     Agriculture          None\n4    Epsilon Hydri      23.1       75000          Colony      Depleted\n..             ...       ...         ...             ...           ...\n139     Amphisatsu      37.5    91733109       High Tech          None\n140        Wandjin      23.8      114523      Extraction          None\n141          Samen      29.5  6494124293     Agriculture          None\n142      Inupiates      37.5    33253110      Industrial          None\n143     Skadjalini      38.5    20041269      Industrial          None\n\n[144 rows x 5 columns]",
      "text/html": "<div>\n<style scoped>\n    .dataframe tbody tr th:only-of-type {\n        vertical-align: middle;\n    }\n\n    .dataframe tbody tr th {\n        vertical-align: top;\n    }\n\n    .dataframe thead th {\n        text-align: right;\n    }\n</style>\n<table border=\"1\" class=\"dataframe\">\n  <thead>\n    <tr style=\"text-align: right;\">\n      <th></th>\n      <th>Name</th>\n      <th>Distance</th>\n      <th>Population</th>\n      <th>Primary Economy</th>\n      <th>Reserve Level</th>\n    </tr>\n  </thead>\n  <tbody>\n    <tr>\n      <th>0</th>\n      <td>Gongalungul</td>\n      <td>24.0</td>\n      <td>47190898</td>\n      <td>High Tech</td>\n      <td>None</td>\n    </tr>\n    <tr>\n      <th>1</th>\n      <td>Ch'in Yang</td>\n      <td>27.4</td>\n      <td>4295353</td>\n      <td>Industrial</td>\n      <td>None</td>\n    </tr>\n    <tr>\n      <th>2</th>\n      <td>Zhangana</td>\n      <td>30.6</td>\n      <td>164642</td>\n      <td>Refinery</td>\n      <td>Depleted</td>\n    </tr>\n    <tr>\n      <th>3</th>\n      <td>Rabakshany</td>\n      <td>30.0</td>\n      <td>624542677</td>\n      <td>Agriculture</td>\n      <td>None</td>\n    </tr>\n    <tr>\n      <th>4</th>\n      <td>Epsilon Hydri</td>\n      <td>23.1</td>\n      <td>75000</td>\n      <td>Colony</td>\n      <td>Depleted</td>\n    </tr>\n    <tr>\n      <th>...</th>\n      <td>...</td>\n      <td>...</td>\n      <td>...</td>\n      <td>...</td>\n      <td>...</td>\n    </tr>\n    <tr>\n      <th>139</th>\n      <td>Amphisatsu</td>\n      <td>37.5</td>\n      <td>91733109</td>\n      <td>High Tech</td>\n      <td>None</td>\n    </tr>\n    <tr>\n      <th>140</th>\n      <td>Wandjin</td>\n      <td>23.8</td>\n      <td>114523</td>\n      <td>Extraction</td>\n      <td>None</td>\n    </tr>\n    <tr>\n      <th>141</th>\n      <td>Samen</td>\n      <td>29.5</td>\n      <td>6494124293</td>\n      <td>Agriculture</td>\n      <td>None</td>\n    </tr>\n    <tr>\n      <th>142</th>\n      <td>Inupiates</td>\n      <td>37.5</td>\n      <td>33253110</td>\n      <td>Industrial</td>\n      <td>None</td>\n    </tr>\n    <tr>\n      <th>143</th>\n      <td>Skadjalini</td>\n      <td>38.5</td>\n      <td>20041269</td>\n      <td>Industrial</td>\n      <td>None</td>\n    </tr>\n  </tbody>\n</table>\n<p>144 rows × 5 columns</p>\n</div>"
     },
     "metadata": {},
     "execution_count": 3
    }
   ],
   "source": [
    "core_systems = eddb.query_nearby_systems(origin, eddb.SYSTEM_INFLUENCE_RANGE)\n",
    "extended_systems = eddb.query_nearby_systems(core_systems, eddb.SYSTEM_INFLUENCE_RANGE)\n",
    "system_summaries = eddb.system_survey_report(extended_systems, origin)\n",
    "system_summaries.sort_values(by='Distance')\n",
    "system_summaries.to_clipboard(header=None, index=False)\n",
    "system_summaries"
   ]
  }
 ],
 "metadata": {
  "kernelspec": {
   "display_name": "Python 3",
   "language": "python",
   "name": "python3"
  },
  "language_info": {
   "codemirror_mode": {
    "name": "ipython",
    "version": 3
   },
   "file_extension": ".py",
   "mimetype": "text/x-python",
   "name": "python",
   "nbconvert_exporter": "python",
   "pygments_lexer": "ipython3",
   "version": "3.8.2-final"
  }
 },
 "nbformat": 4,
 "nbformat_minor": 4
}