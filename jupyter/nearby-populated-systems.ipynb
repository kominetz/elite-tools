{
 "cells": [
  {
   "cell_type": "code",
   "execution_count": 55,
   "metadata": {},
   "outputs": [
    {
     "name": "stdout",
     "output_type": "stream",
     "text": [
      "Using existing system data file \"/var/folders/rs/l00w2v610vg768g7x_97rf600000gn/T/elite-tools/systems_populated.jsonl\".\n"
     ]
    }
   ],
   "source": [
    "import os, tempfile, urllib.request\n",
    "\n",
    "et_path = os.path.join(tempfile.gettempdir(), 'elite-tools')\n",
    "system_data_path = os.path.join(et_path, 'systems_populated.jsonl')\n",
    "if os.path.exists(system_data_path):\n",
    "    print(f'Using existing system data file \"{system_data_path}\".')\n",
    "else:\n",
    "    os.makedirs(et_path)\n",
    "    urllib.request.urlretrieve('http://eddb.io/archive/v6/systems_populated.jsonl', system_data_path)\n",
    "    print(f'Downloaded system data as file \"{system_data_path}\".')"
   ]
  },
  {
   "cell_type": "code",
   "execution_count": 56,
   "metadata": {},
   "outputs": [
    {
     "name": "stdout",
     "output_type": "stream",
     "text": [
      "# Populated systems loaded:  20627\n"
     ]
    }
   ],
   "source": [
    "import json\n",
    "\n",
    "populated_systems = {}\n",
    "with open(system_data_path) as f:\n",
    "    for populated_system in f:\n",
    "        pop_sys = json.loads(populated_system)\n",
    "        populated_systems[pop_sys['name']] = pop_sys\n",
    "populated_system_names = list(populated_systems.keys())\n",
    "print(\"# Populated systems loaded: \", len(populated_systems))\n"
   ]
  },
  {
   "cell_type": "code",
   "execution_count": 57,
   "metadata": {
    "scrolled": true
   },
   "outputs": [
    {
     "name": "stdout",
     "output_type": "stream",
     "text": [
      "REFERENCE CENTER OF GRAVITY: (31.9171875, -18.8078125, 9.6890625)\n"
     ]
    }
   ],
   "source": [
    "homeworld_systems = sorted(['Sol', 'Shinrarta Dezhra', 'Alioth', 'Achenar'])\n",
    "engineer_systems = sorted([\n",
    "    'Leesti',\n",
    "    'Wolf 397',\n",
    "    'Kuk',\n",
    "    'Alioth',\n",
    "    'Khun',\n",
    "    'Wyrd',\n",
    "    'Sirius',\n",
    "    'Laksak',\n",
    "    'Meene',\n",
    "    'Muang',\n",
    "    'Eurybia',\n",
    "    'Kuwemaki',\n",
    "    'Achenar',\n",
    "    'Deciat',\n",
    "    'Sol',\n",
    "    'Giryak',\n",
    "    'Beta-3 Tucani',\n",
    "    'Arque',\n",
    "    'Yoru',\n",
    "    'Shinrarta Dezhra',\n",
    "#    'Los',\n",
    "#    'Tir',\n",
    "#    'Luchtaine',\n",
    "#    'Asura',\n",
    "#    'Shenve',\n",
    "])\n",
    "\n",
    "reference_systems = engineer_systems\n",
    "# reference_systems = homeworld_systems\n",
    "\n",
    "refcog_x = 0.0\n",
    "refcog_y = 0.0\n",
    "refcog_z = 0.0\n",
    "\n",
    "for s in reference_systems:\n",
    "    refcog_x += populated_systems[s]['x']\n",
    "    refcog_y += populated_systems[s]['y']\n",
    "    refcog_z += populated_systems[s]['z']\n",
    "refcog_x /= len(reference_systems)\n",
    "refcog_y /= len(reference_systems)\n",
    "refcog_z /= len(reference_systems)\n",
    "print(f\"REFERENCE CENTER OF GRAVITY: ({refcog_x}, {refcog_y}, {refcog_z})\")\n",
    "populated_systems[\"RefCOG\"] = {'name': \"RefCOG\", 'x': refcog_x, 'y': refcog_y, 'z': refcog_z}"
   ]
  },
  {
   "cell_type": "code",
   "execution_count": 58,
   "metadata": {},
   "outputs": [
    {
     "name": "stdout",
     "output_type": "stream",
     "text": [
      "Distance from Sol\n",
      "Achenar                   139.4 ly\n",
      "Alioth                     82.5 ly\n",
      "Arque                      98.0 ly\n",
      "Beta-3 Tucani              68.2 ly\n",
      "Deciat                    131.4 ly\n",
      "Eurybia                    80.8 ly\n",
      "Giryak                    113.1 ly\n",
      "Khun                      181.9 ly\n",
      "Kuk                        74.1 ly\n",
      "Kuwemaki                  264.0 ly\n",
      "Laksak                    118.2 ly\n",
      "Leesti                    111.0 ly\n",
      "Meene                     163.5 ly\n",
      "Muang                     173.7 ly\n",
      "Shinrarta Dezhra           64.4 ly\n",
      "Sirius                      8.6 ly\n",
      "Sol                         0.0 ly\n",
      "Wolf 397                   89.4 ly\n",
      "Wyrd                       33.8 ly\n",
      "Yoru                      145.8 ly\n"
     ]
    }
   ],
   "source": [
    "def distance(o_name, d_name):\n",
    "    o = populated_systems[o_name]\n",
    "    d = populated_systems[d_name]\n",
    "    return ((d['x'] - o['x']) ** 2 + (d['y'] - o['y']) ** 2 + (d['z'] - o['z']) ** 2) ** (0.5)\n",
    "\n",
    "\n",
    "print(\"Distance from Sol\")\n",
    "for p in reference_systems:\n",
    "    print(\"%-24s %6.1f ly\" % (p, distance('Sol', p)))"
   ]
  },
  {
   "cell_type": "code",
   "execution_count": 59,
   "metadata": {},
   "outputs": [
    {
     "name": "stdout",
     "output_type": "stream",
     "text": [
      "LHS 205\n",
      "  Achenar                   103.7 ly\n",
      "  Alioth                    120.9 ly\n",
      "  Arque                      83.8 ly\n",
      "  Beta-3 Tucani              35.0 ly\n",
      "  Deciat                    109.0 ly\n",
      "  Eurybia                    56.6 ly\n",
      "  Giryak                    109.9 ly\n",
      "  Khun                      221.1 ly\n",
      "  Kuk                       110.5 ly\n",
      "  Kuwemaki                  229.1 ly\n",
      "  Laksak                    118.4 ly\n",
      "  Leesti                     98.0 ly\n",
      "  Meene                     142.9 ly\n",
      "  Muang                     152.5 ly\n",
      "  Shinrarta Dezhra           47.5 ly\n",
      "  Sirius                     39.3 ly\n",
      "  Sol                        42.5 ly\n",
      "  Wolf 397                  104.0 ly\n",
      "  Wyrd                       72.3 ly\n",
      "  Yoru                      104.6 ly\n"
     ]
    }
   ],
   "source": [
    "def closest(origin, destinations):\n",
    "    closest_name = origin\n",
    "    closest_distance = -1\n",
    "    for destination in destinations:\n",
    "        destination_distance = distance(origin, destination)\n",
    "        if closest_distance == -1 or destination_distance < closest_distance:\n",
    "            closest_name = destination\n",
    "            closest_distance = destination_distance\n",
    "    return closest_name\n",
    "\n",
    "\n",
    "closest_by_name = closest(\"RefCOG\", populated_system_names)\n",
    "print(closest_by_name)\n",
    "for p in reference_systems:\n",
    "    print(\"  %-24s %6.1f ly\" % (p, distance(closest_by_name, p)))"
   ]
  },
  {
   "cell_type": "code",
   "execution_count": 60,
   "metadata": {},
   "outputs": [
    {
     "name": "stdout",
     "output_type": "stream",
     "text": [
      "Benoit                     12.5 ly\n",
      "Cet                        11.8 ly\n",
      "Charunder                  11.1 ly\n",
      "Ditibi                     10.0 ly\n",
      "Ennead                     13.2 ly\n",
      "Gwaelod                    13.7 ly\n",
      "Kushen                     11.8 ly\n",
      "L 26-27                    13.8 ly\n",
      "LB 3303                    10.4 ly\n",
      "LHS 145                    14.6 ly\n",
      "LHS 160                    12.9 ly\n",
      "LHS 205                     4.9 ly\n",
      "LHS 263                    13.3 ly\n",
      "Lopu Maris                 10.4 ly\n",
      "Lu Yupik                   11.7 ly\n",
      "Macalites                   9.2 ly\n",
      "Sikians                    14.4 ly\n",
      "Zeta-1 Reticuli            12.8 ly\n"
     ]
    }
   ],
   "source": [
    "def closest_within(origin, destinations, within_ly):\n",
    "    closest_names = []\n",
    "    for destination in destinations:\n",
    "        destination_distance = distance(origin, destination)\n",
    "        if destination_distance <= within_ly:\n",
    "            closest_names.append(destination)\n",
    "    return closest_names\n",
    "\n",
    "\n",
    "closest_names = closest_within(\"RefCOG\", populated_system_names, 15.0)\n",
    "for p in closest_names:\n",
    "    print(\"%-24s %6.1f ly\" % (p, distance(\"RefCOG\", p)))"
   ]
  },
  {
   "cell_type": "code",
   "execution_count": null,
   "metadata": {},
   "outputs": [],
   "source": []
  }
 ],
 "metadata": {
  "kernelspec": {
   "display_name": "Python 3",
   "language": "python",
   "name": "python3"
  },
  "language_info": {
   "codemirror_mode": {
    "name": "ipython",
    "version": 3
   },
   "file_extension": ".py",
   "mimetype": "text/x-python",
   "name": "python",
   "nbconvert_exporter": "python",
   "pygments_lexer": "ipython3",
   "version": "3.7.6"
  }
 },
 "nbformat": 4,
 "nbformat_minor": 4
}
